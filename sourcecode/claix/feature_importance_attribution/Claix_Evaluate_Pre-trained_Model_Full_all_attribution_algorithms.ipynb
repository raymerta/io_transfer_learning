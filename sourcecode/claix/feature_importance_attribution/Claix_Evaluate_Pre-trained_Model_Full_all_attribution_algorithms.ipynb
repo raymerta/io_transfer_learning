{
 "cells": [
  {
   "cell_type": "code",
   "execution_count": 103,
   "id": "525d92ca",
   "metadata": {
    "pycharm": {
     "name": "#%%\n"
    },
    "tags": []
   },
   "outputs": [],
   "source": [
    "import pandas as pd\n",
    "from pathlib import Path\n",
    "import numpy as np\n",
    "import random\n",
    "\n",
    "from sklearn.preprocessing import StandardScaler"
   ]
  },
  {
   "cell_type": "code",
   "execution_count": 104,
   "id": "1f0c20a7-106e-4151-b7ed-3939c2d81a52",
   "metadata": {
    "pycharm": {
     "name": "#%%\n"
    }
   },
   "outputs": [],
   "source": [
    "import torch.nn as nn\n",
    "import torch.optim as optim\n",
    "from torch.utils.data import TensorDataset, DataLoader\n",
    "import torch"
   ]
  },
  {
   "cell_type": "code",
   "execution_count": 105,
   "id": "f73f196c-7ac1-4796-9f4d-9c641b82beee",
   "metadata": {
    "collapsed": false,
    "jupyter": {
     "outputs_hidden": false
    },
    "pycharm": {
     "name": "#%%\n"
    }
   },
   "outputs": [
    {
     "name": "stdout",
     "output_type": "stream",
     "text": [
      "Using cuda\n"
     ]
    }
   ],
   "source": [
    "device = \"cuda\" if torch.cuda.is_available() else \"cpu\"\n",
    "print(f\"Using {device}\")"
   ]
  },
  {
   "cell_type": "code",
   "execution_count": null,
   "id": "6489468c",
   "metadata": {},
   "outputs": [],
   "source": [
    "from captum.attr import IntegratedGradients, DeepLift, NoiseTunnel, FeatureAblation, FeaturePermutation, GuidedBackprop, Saliency, InputXGradient, ShapleyValueSampling\n",
    "\n",
    "from captum.metrics import sensitivity_max, infidelity"
   ]
  },
  {
   "cell_type": "code",
   "execution_count": 108,
   "id": "534ee44d",
   "metadata": {
    "collapsed": false,
    "pycharm": {
     "name": "#%%\n"
    }
   },
   "outputs": [],
   "source": [
    "def annotate_attributions(attributions, columns):\n",
    "    return pd.DataFrame(attributions.cpu().detach().numpy(), columns = columns)"
   ]
  },
  {
   "cell_type": "code",
   "execution_count": 109,
   "id": "ed4f0a38",
   "metadata": {
    "collapsed": false,
    "pycharm": {
     "name": "#%%\n"
    }
   },
   "outputs": [],
   "source": [
    "def calculate_avg_attributions(attributions, axis=0):\n",
    "    return attributions.mean(axis=axis).sort_values(ascending=False).to_frame(name=\"avg_attribution_coeff\")"
   ]
  },
  {
   "cell_type": "code",
   "execution_count": 110,
   "id": "7c4ac51f",
   "metadata": {
    "collapsed": false,
    "pycharm": {
     "name": "#%%\n"
    }
   },
   "outputs": [],
   "source": [
    "# Rank features by their absolute coefficient value to identify the most important ones\n",
    "def rank_features_by_importance(summarized_attributions_df):\n",
    "    summarized_attributions_df[\"abs_avg_attribution_coeff\"] = summarized_attributions_df[\"avg_attribution_coeff\"].abs()\n",
    "    summarized_attributions_df[\"feature_importance_rank\"] = summarized_attributions_df[\"abs_avg_attribution_coeff\"].rank(ascending=False)\n",
    "    summarized_attributions_df.drop([\"abs_avg_attribution_coeff\"], axis=1, inplace=True)\n",
    "\n",
    "    return summarized_attributions_df"
   ]
  },
  {
   "cell_type": "code",
   "execution_count": 111,
   "id": "82298412",
   "metadata": {
    "collapsed": false,
    "pycharm": {
     "name": "#%%\n"
    }
   },
   "outputs": [],
   "source": [
    "#For each feature, show its relative order (1 - most positive influence, n - least positive influence)\n",
    "def add_relative_order_of_features(summarized_attributions_df):\n",
    "    summarized_attributions_df = summarized_attributions_df.sort_values(by=\"avg_attribution_coeff\", ascending=False)\n",
    "    summarized_attributions_df[\"relative_order\"] = summarized_attributions_df.rank(ascending=False)\n",
    "\n",
    "    return summarized_attributions_df"
   ]
  },
  {
   "cell_type": "code",
   "execution_count": 116,
   "id": "12962c48",
   "metadata": {
    "collapsed": false,
    "pycharm": {
     "name": "#%%\n"
    }
   },
   "outputs": [],
   "source": [
    "MODEL_FILENAME = \"SmoothL1Loss_fixed_Adamax_fewer_neurons_0.2_testSize_new_StandardScaler_2048_batch_0.05_dropout_pytorch_v1.12.tar\"\n",
    "MODEL_DIR = rf\"/home/thes1067/models/blue_waters\"\n",
    "MODEL_PATH = Path(MODEL_DIR, MODEL_FILENAME)"
   ]
  },
  {
   "cell_type": "code",
   "execution_count": 117,
   "id": "73776be3",
   "metadata": {
    "collapsed": false,
    "pycharm": {
     "name": "#%%\n"
    }
   },
   "outputs": [],
   "source": [
    "DATASET_DIR = r\"/home/thes1067/data/claix_dataset\"\n",
    "DATASET_NAME = \"claix_posix_npb_4_16_64_nprocs_Ciao_C_1288.csv\"\n",
    "DATASET_PATH = Path(DATASET_DIR, DATASET_NAME)"
   ]
  },
  {
   "cell_type": "code",
   "execution_count": 119,
   "id": "7b218423",
   "metadata": {
    "collapsed": false,
    "pycharm": {
     "name": "#%%\n"
    }
   },
   "outputs": [
    {
     "data": {
      "text/plain": [
       "True"
      ]
     },
     "execution_count": 119,
     "metadata": {},
     "output_type": "execute_result"
    }
   ],
   "source": [
    "MODEL_PATH.is_file()"
   ]
  },
  {
   "attachments": {},
   "cell_type": "markdown",
   "id": "33074835",
   "metadata": {
    "pycharm": {
     "name": "#%% md\n"
    }
   },
   "source": [
    "## Load the model"
   ]
  },
  {
   "cell_type": "code",
   "execution_count": 120,
   "id": "49743cef",
   "metadata": {
    "pycharm": {
     "name": "#%%\n"
    }
   },
   "outputs": [],
   "source": [
    "bw_model = nn.Sequential(\n",
    "    nn.Linear(97, 2048),\n",
    "    nn.Dropout(p=0.05),\n",
    "    nn.ReLU(),\n",
    "    nn.Linear(2048, 512),\n",
    "    nn.Dropout(p=0.05),\n",
    "    nn.ReLU(),\n",
    "    nn.Linear(512, 128),\n",
    "    nn.Dropout(p=0.05),\n",
    "    nn.ReLU(),\n",
    "    nn.Linear(128, 1),\n",
    ").to(device)"
   ]
  },
  {
   "cell_type": "code",
   "execution_count": 121,
   "id": "0e4875e3",
   "metadata": {
    "pycharm": {
     "name": "#%%\n"
    },
    "tags": []
   },
   "outputs": [
    {
     "name": "stdout",
     "output_type": "stream",
     "text": [
      "Loading pretrained model...\n",
      "Current epoch: 599\n"
     ]
    }
   ],
   "source": [
    "print(\"Loading pretrained model...\")\n",
    "\n",
    "checkpoint = torch.load(MODEL_PATH, map_location=torch.device(device))\n",
    "bw_model.load_state_dict(checkpoint['model_state_dict'])\n",
    "model_epoch = checkpoint['epoch']\n",
    "\n",
    "print(f\"Current epoch: {model_epoch}\")"
   ]
  },
  {
   "cell_type": "code",
   "execution_count": 122,
   "id": "ba49b04c",
   "metadata": {
    "pycharm": {
     "name": "#%%\n"
    }
   },
   "outputs": [
    {
     "data": {
      "text/plain": [
       "Sequential(\n",
       "  (0): Linear(in_features=97, out_features=2048, bias=True)\n",
       "  (1): Dropout(p=0.05, inplace=False)\n",
       "  (2): ReLU()\n",
       "  (3): Linear(in_features=2048, out_features=512, bias=True)\n",
       "  (4): Dropout(p=0.05, inplace=False)\n",
       "  (5): ReLU()\n",
       "  (6): Linear(in_features=512, out_features=128, bias=True)\n",
       "  (7): Dropout(p=0.05, inplace=False)\n",
       "  (8): ReLU()\n",
       "  (9): Linear(in_features=128, out_features=1, bias=True)\n",
       ")"
      ]
     },
     "execution_count": 122,
     "metadata": {},
     "output_type": "execute_result"
    }
   ],
   "source": [
    "bw_model.eval()"
   ]
  },
  {
   "attachments": {},
   "cell_type": "markdown",
   "id": "4fac1bd8",
   "metadata": {
    "pycharm": {
     "name": "#%% md\n"
    }
   },
   "source": [
    "### Fix the seeds\n"
   ]
  },
  {
   "cell_type": "code",
   "execution_count": 123,
   "id": "2a457eca",
   "metadata": {
    "pycharm": {
     "name": "#%%\n"
    }
   },
   "outputs": [],
   "source": [
    "random_seed = 1234\n",
    "split_seed = 42\n",
    "\n",
    "random.seed(random_seed)\n",
    "np.random.seed(random_seed)\n",
    "\n",
    "torch.manual_seed(random_seed)\n",
    "torch.cuda.manual_seed_all(random_seed)\n",
    "\n",
    "# Set PyTorch to use deterministic algorithms if possible\n",
    "torch.backends.cudnn.deterministic = True\n",
    "torch.backends.cudnn.benchmark = False"
   ]
  },
  {
   "attachments": {},
   "cell_type": "markdown",
   "id": "b3568844-8e45-40fa-948e-700b4f21cbc7",
   "metadata": {
    "pycharm": {
     "name": "#%% md\n"
    }
   },
   "source": [
    "## Load the data"
   ]
  },
  {
   "cell_type": "code",
   "execution_count": 124,
   "id": "864d5d08-b055-40bc-b92b-e43d08ae0277",
   "metadata": {
    "pycharm": {
     "name": "#%%\n"
    }
   },
   "outputs": [],
   "source": [
    "df_claix_posix = pd.read_csv(DATASET_PATH)"
   ]
  },
  {
   "cell_type": "code",
   "execution_count": 125,
   "id": "dbf45020-3029-41a1-9fbd-505a649b3107",
   "metadata": {
    "pycharm": {
     "name": "#%%\n"
    }
   },
   "outputs": [
    {
     "data": {
      "text/plain": [
       "1163"
      ]
     },
     "execution_count": 125,
     "metadata": {},
     "output_type": "execute_result"
    }
   ],
   "source": [
    "len(df_claix_posix)"
   ]
  },
  {
   "cell_type": "code",
   "execution_count": 126,
   "id": "5d87718d-8351-4bde-a45c-8c95e0c494e1",
   "metadata": {
    "pycharm": {
     "name": "#%%\n"
    }
   },
   "outputs": [
    {
     "data": {
      "text/html": [
       "<div>\n",
       "<style scoped>\n",
       "    .dataframe tbody tr th:only-of-type {\n",
       "        vertical-align: middle;\n",
       "    }\n",
       "\n",
       "    .dataframe tbody tr th {\n",
       "        vertical-align: top;\n",
       "    }\n",
       "\n",
       "    .dataframe thead th {\n",
       "        text-align: right;\n",
       "    }\n",
       "</style>\n",
       "<table border=\"1\" class=\"dataframe\">\n",
       "  <thead>\n",
       "    <tr style=\"text-align: right;\">\n",
       "      <th></th>\n",
       "      <th>POSIX_OPENS</th>\n",
       "      <th>POSIX_FILENOS</th>\n",
       "      <th>POSIX_DUPS</th>\n",
       "      <th>POSIX_READS</th>\n",
       "      <th>POSIX_WRITES</th>\n",
       "      <th>POSIX_SEEKS</th>\n",
       "      <th>POSIX_STATS</th>\n",
       "      <th>POSIX_MMAPS</th>\n",
       "      <th>POSIX_FSYNCS</th>\n",
       "      <th>POSIX_FDSYNCS</th>\n",
       "      <th>...</th>\n",
       "      <th>POSIX_F_VARIANCE_RANK_TIME</th>\n",
       "      <th>POSIX_F_VARIANCE_RANK_BYTES</th>\n",
       "      <th>uid</th>\n",
       "      <th>start_time</th>\n",
       "      <th>end_time</th>\n",
       "      <th>nprocs</th>\n",
       "      <th>jobid</th>\n",
       "      <th>lib_ver</th>\n",
       "      <th>hints</th>\n",
       "      <th>bandwidth</th>\n",
       "    </tr>\n",
       "  </thead>\n",
       "  <tbody>\n",
       "    <tr>\n",
       "      <th>0</th>\n",
       "      <td>32</td>\n",
       "      <td>0</td>\n",
       "      <td>0</td>\n",
       "      <td>440</td>\n",
       "      <td>440</td>\n",
       "      <td>78</td>\n",
       "      <td>0</td>\n",
       "      <td>-1</td>\n",
       "      <td>0</td>\n",
       "      <td>0</td>\n",
       "      <td>...</td>\n",
       "      <td>2.520036</td>\n",
       "      <td>1.084529e+19</td>\n",
       "      <td>38849</td>\n",
       "      <td>2022-07-26 20:10:07</td>\n",
       "      <td>2022-07-26 20:11:18</td>\n",
       "      <td>16</td>\n",
       "      <td>28860382</td>\n",
       "      <td>3.3.1</td>\n",
       "      <td>romio_no_indep_rw=true;cb_nodes=4</td>\n",
       "      <td>1971.700985</td>\n",
       "    </tr>\n",
       "    <tr>\n",
       "      <th>1</th>\n",
       "      <td>32</td>\n",
       "      <td>0</td>\n",
       "      <td>0</td>\n",
       "      <td>440</td>\n",
       "      <td>440</td>\n",
       "      <td>78</td>\n",
       "      <td>0</td>\n",
       "      <td>-1</td>\n",
       "      <td>0</td>\n",
       "      <td>0</td>\n",
       "      <td>...</td>\n",
       "      <td>2.567556</td>\n",
       "      <td>1.084529e+19</td>\n",
       "      <td>38849</td>\n",
       "      <td>2022-07-25 23:45:34</td>\n",
       "      <td>2022-07-25 23:46:49</td>\n",
       "      <td>16</td>\n",
       "      <td>28845229</td>\n",
       "      <td>3.3.1</td>\n",
       "      <td>romio_no_indep_rw=true;cb_nodes=4</td>\n",
       "      <td>1952.503983</td>\n",
       "    </tr>\n",
       "    <tr>\n",
       "      <th>2</th>\n",
       "      <td>32</td>\n",
       "      <td>0</td>\n",
       "      <td>0</td>\n",
       "      <td>440</td>\n",
       "      <td>440</td>\n",
       "      <td>78</td>\n",
       "      <td>0</td>\n",
       "      <td>-1</td>\n",
       "      <td>0</td>\n",
       "      <td>0</td>\n",
       "      <td>...</td>\n",
       "      <td>2.458673</td>\n",
       "      <td>1.084529e+19</td>\n",
       "      <td>38849</td>\n",
       "      <td>2022-07-26 20:52:45</td>\n",
       "      <td>2022-07-26 20:53:56</td>\n",
       "      <td>16</td>\n",
       "      <td>28860382</td>\n",
       "      <td>3.3.1</td>\n",
       "      <td>romio_no_indep_rw=true;cb_nodes=4</td>\n",
       "      <td>1996.763339</td>\n",
       "    </tr>\n",
       "    <tr>\n",
       "      <th>3</th>\n",
       "      <td>32</td>\n",
       "      <td>0</td>\n",
       "      <td>0</td>\n",
       "      <td>440</td>\n",
       "      <td>440</td>\n",
       "      <td>78</td>\n",
       "      <td>0</td>\n",
       "      <td>-1</td>\n",
       "      <td>0</td>\n",
       "      <td>0</td>\n",
       "      <td>...</td>\n",
       "      <td>2.409477</td>\n",
       "      <td>1.084529e+19</td>\n",
       "      <td>38849</td>\n",
       "      <td>2022-07-26 21:41:19</td>\n",
       "      <td>2022-07-26 21:42:29</td>\n",
       "      <td>16</td>\n",
       "      <td>28860382</td>\n",
       "      <td>3.3.1</td>\n",
       "      <td>romio_no_indep_rw=true;cb_nodes=4</td>\n",
       "      <td>2017.040999</td>\n",
       "    </tr>\n",
       "    <tr>\n",
       "      <th>4</th>\n",
       "      <td>32</td>\n",
       "      <td>0</td>\n",
       "      <td>0</td>\n",
       "      <td>440</td>\n",
       "      <td>440</td>\n",
       "      <td>78</td>\n",
       "      <td>0</td>\n",
       "      <td>-1</td>\n",
       "      <td>0</td>\n",
       "      <td>0</td>\n",
       "      <td>...</td>\n",
       "      <td>2.466827</td>\n",
       "      <td>1.084529e+19</td>\n",
       "      <td>38849</td>\n",
       "      <td>2022-07-26 18:02:28</td>\n",
       "      <td>2022-07-26 18:03:39</td>\n",
       "      <td>16</td>\n",
       "      <td>28860381</td>\n",
       "      <td>3.3.1</td>\n",
       "      <td>romio_no_indep_rw=true;cb_nodes=4</td>\n",
       "      <td>1992.351330</td>\n",
       "    </tr>\n",
       "  </tbody>\n",
       "</table>\n",
       "<p>5 rows × 108 columns</p>\n",
       "</div>"
      ],
      "text/plain": [
       "   POSIX_OPENS  POSIX_FILENOS  POSIX_DUPS  POSIX_READS  POSIX_WRITES  \\\n",
       "0           32              0           0          440           440   \n",
       "1           32              0           0          440           440   \n",
       "2           32              0           0          440           440   \n",
       "3           32              0           0          440           440   \n",
       "4           32              0           0          440           440   \n",
       "\n",
       "   POSIX_SEEKS  POSIX_STATS  POSIX_MMAPS  POSIX_FSYNCS  POSIX_FDSYNCS  ...  \\\n",
       "0           78            0           -1             0              0  ...   \n",
       "1           78            0           -1             0              0  ...   \n",
       "2           78            0           -1             0              0  ...   \n",
       "3           78            0           -1             0              0  ...   \n",
       "4           78            0           -1             0              0  ...   \n",
       "\n",
       "   POSIX_F_VARIANCE_RANK_TIME  POSIX_F_VARIANCE_RANK_BYTES    uid  \\\n",
       "0                    2.520036                 1.084529e+19  38849   \n",
       "1                    2.567556                 1.084529e+19  38849   \n",
       "2                    2.458673                 1.084529e+19  38849   \n",
       "3                    2.409477                 1.084529e+19  38849   \n",
       "4                    2.466827                 1.084529e+19  38849   \n",
       "\n",
       "            start_time             end_time  nprocs     jobid  lib_ver  \\\n",
       "0  2022-07-26 20:10:07  2022-07-26 20:11:18      16  28860382    3.3.1   \n",
       "1  2022-07-25 23:45:34  2022-07-25 23:46:49      16  28845229    3.3.1   \n",
       "2  2022-07-26 20:52:45  2022-07-26 20:53:56      16  28860382    3.3.1   \n",
       "3  2022-07-26 21:41:19  2022-07-26 21:42:29      16  28860382    3.3.1   \n",
       "4  2022-07-26 18:02:28  2022-07-26 18:03:39      16  28860381    3.3.1   \n",
       "\n",
       "                               hints    bandwidth  \n",
       "0  romio_no_indep_rw=true;cb_nodes=4  1971.700985  \n",
       "1  romio_no_indep_rw=true;cb_nodes=4  1952.503983  \n",
       "2  romio_no_indep_rw=true;cb_nodes=4  1996.763339  \n",
       "3  romio_no_indep_rw=true;cb_nodes=4  2017.040999  \n",
       "4  romio_no_indep_rw=true;cb_nodes=4  1992.351330  \n",
       "\n",
       "[5 rows x 108 columns]"
      ]
     },
     "execution_count": 126,
     "metadata": {},
     "output_type": "execute_result"
    }
   ],
   "source": [
    "df_claix_posix.head()"
   ]
  },
  {
   "attachments": {},
   "cell_type": "markdown",
   "id": "0e872522-3b30-46fc-8b77-23417e333eb5",
   "metadata": {
    "pycharm": {
     "name": "#%% md\n"
    }
   },
   "source": [
    "### Drop the non-invariant columns"
   ]
  },
  {
   "cell_type": "code",
   "execution_count": 127,
   "id": "b4c029ec-622d-4618-8340-1023d4a87537",
   "metadata": {
    "pycharm": {
     "name": "#%%\n"
    },
    "tags": []
   },
   "outputs": [],
   "source": [
    "df_claix_posix = df_claix_posix.drop(['uid', 'jobid', 'hints', 'start_time', 'end_time', 'lib_ver'],\n",
    "                                                               axis=1)"
   ]
  },
  {
   "attachments": {},
   "cell_type": "markdown",
   "id": "15024a34",
   "metadata": {
    "pycharm": {
     "name": "#%% md\n"
    }
   },
   "source": [
    "### Drop columns to match the Blue Waters dataset on which the model was trained"
   ]
  },
  {
   "cell_type": "code",
   "execution_count": 128,
   "id": "edd27d13",
   "metadata": {
    "pycharm": {
     "name": "#%%\n"
    }
   },
   "outputs": [],
   "source": [
    "df_claix_posix = df_claix_posix.drop(['POSIX_FDSYNCS',\n",
    "                                        'POSIX_RENAMED_FROM',\n",
    "                                        'POSIX_F_VARIANCE_RANK_TIME',\n",
    "                                        'POSIX_F_VARIANCE_RANK_BYTES'],\n",
    "                                        axis=1)\t\t\t"
   ]
  },
  {
   "attachments": {},
   "cell_type": "markdown",
   "id": "a8354bd2-dae7-4f01-bdd7-873963929f7f",
   "metadata": {
    "pycharm": {
     "name": "#%% md\n"
    }
   },
   "source": [
    "### Separate bandwidth from input features"
   ]
  },
  {
   "cell_type": "code",
   "execution_count": 129,
   "id": "1a0efb2e-b687-46c1-824c-656a490ca2db",
   "metadata": {
    "pycharm": {
     "name": "#%%\n"
    }
   },
   "outputs": [
    {
     "data": {
      "text/html": [
       "<div>\n",
       "<style scoped>\n",
       "    .dataframe tbody tr th:only-of-type {\n",
       "        vertical-align: middle;\n",
       "    }\n",
       "\n",
       "    .dataframe tbody tr th {\n",
       "        vertical-align: top;\n",
       "    }\n",
       "\n",
       "    .dataframe thead th {\n",
       "        text-align: right;\n",
       "    }\n",
       "</style>\n",
       "<table border=\"1\" class=\"dataframe\">\n",
       "  <thead>\n",
       "    <tr style=\"text-align: right;\">\n",
       "      <th></th>\n",
       "      <th>POSIX_OPENS</th>\n",
       "      <th>POSIX_FILENOS</th>\n",
       "      <th>POSIX_DUPS</th>\n",
       "      <th>POSIX_READS</th>\n",
       "      <th>POSIX_WRITES</th>\n",
       "      <th>POSIX_SEEKS</th>\n",
       "      <th>POSIX_STATS</th>\n",
       "      <th>POSIX_MMAPS</th>\n",
       "      <th>POSIX_FSYNCS</th>\n",
       "      <th>POSIX_RENAME_SOURCES</th>\n",
       "      <th>...</th>\n",
       "      <th>rank</th>\n",
       "      <th>POSIX_F_READ_TIME</th>\n",
       "      <th>POSIX_F_WRITE_TIME</th>\n",
       "      <th>POSIX_F_META_TIME</th>\n",
       "      <th>POSIX_TOTAL_TIME</th>\n",
       "      <th>POSIX_F_MAX_READ_TIME</th>\n",
       "      <th>POSIX_F_MAX_WRITE_TIME</th>\n",
       "      <th>POSIX_F_FASTEST_RANK_TIME</th>\n",
       "      <th>POSIX_F_SLOWEST_RANK_TIME</th>\n",
       "      <th>nprocs</th>\n",
       "    </tr>\n",
       "  </thead>\n",
       "  <tbody>\n",
       "    <tr>\n",
       "      <th>0</th>\n",
       "      <td>32</td>\n",
       "      <td>0</td>\n",
       "      <td>0</td>\n",
       "      <td>440</td>\n",
       "      <td>440</td>\n",
       "      <td>78</td>\n",
       "      <td>0</td>\n",
       "      <td>-1</td>\n",
       "      <td>0</td>\n",
       "      <td>0</td>\n",
       "      <td>...</td>\n",
       "      <td>-1</td>\n",
       "      <td>1.396742</td>\n",
       "      <td>5.161620</td>\n",
       "      <td>0.022065</td>\n",
       "      <td>6.580427</td>\n",
       "      <td>0.005862</td>\n",
       "      <td>0.155172</td>\n",
       "      <td>0.000530</td>\n",
       "      <td>6.559490</td>\n",
       "      <td>16</td>\n",
       "    </tr>\n",
       "    <tr>\n",
       "      <th>1</th>\n",
       "      <td>32</td>\n",
       "      <td>0</td>\n",
       "      <td>0</td>\n",
       "      <td>440</td>\n",
       "      <td>440</td>\n",
       "      <td>78</td>\n",
       "      <td>0</td>\n",
       "      <td>-1</td>\n",
       "      <td>0</td>\n",
       "      <td>0</td>\n",
       "      <td>...</td>\n",
       "      <td>-1</td>\n",
       "      <td>1.388736</td>\n",
       "      <td>5.230402</td>\n",
       "      <td>0.025987</td>\n",
       "      <td>6.645125</td>\n",
       "      <td>0.005642</td>\n",
       "      <td>0.016469</td>\n",
       "      <td>0.000806</td>\n",
       "      <td>6.621231</td>\n",
       "      <td>16</td>\n",
       "    </tr>\n",
       "    <tr>\n",
       "      <th>2</th>\n",
       "      <td>32</td>\n",
       "      <td>0</td>\n",
       "      <td>0</td>\n",
       "      <td>440</td>\n",
       "      <td>440</td>\n",
       "      <td>78</td>\n",
       "      <td>0</td>\n",
       "      <td>-1</td>\n",
       "      <td>0</td>\n",
       "      <td>0</td>\n",
       "      <td>...</td>\n",
       "      <td>-1</td>\n",
       "      <td>1.374670</td>\n",
       "      <td>5.102114</td>\n",
       "      <td>0.021048</td>\n",
       "      <td>6.497833</td>\n",
       "      <td>0.006568</td>\n",
       "      <td>0.130111</td>\n",
       "      <td>0.000555</td>\n",
       "      <td>6.479013</td>\n",
       "      <td>16</td>\n",
       "    </tr>\n",
       "    <tr>\n",
       "      <th>3</th>\n",
       "      <td>32</td>\n",
       "      <td>0</td>\n",
       "      <td>0</td>\n",
       "      <td>440</td>\n",
       "      <td>440</td>\n",
       "      <td>78</td>\n",
       "      <td>0</td>\n",
       "      <td>-1</td>\n",
       "      <td>0</td>\n",
       "      <td>0</td>\n",
       "      <td>...</td>\n",
       "      <td>-1</td>\n",
       "      <td>1.382730</td>\n",
       "      <td>5.028884</td>\n",
       "      <td>0.020894</td>\n",
       "      <td>6.432509</td>\n",
       "      <td>0.006548</td>\n",
       "      <td>0.017362</td>\n",
       "      <td>0.000570</td>\n",
       "      <td>6.413866</td>\n",
       "      <td>16</td>\n",
       "    </tr>\n",
       "    <tr>\n",
       "      <th>4</th>\n",
       "      <td>32</td>\n",
       "      <td>0</td>\n",
       "      <td>0</td>\n",
       "      <td>440</td>\n",
       "      <td>440</td>\n",
       "      <td>78</td>\n",
       "      <td>0</td>\n",
       "      <td>-1</td>\n",
       "      <td>0</td>\n",
       "      <td>0</td>\n",
       "      <td>...</td>\n",
       "      <td>-1</td>\n",
       "      <td>1.392669</td>\n",
       "      <td>5.095290</td>\n",
       "      <td>0.024262</td>\n",
       "      <td>6.512222</td>\n",
       "      <td>0.006047</td>\n",
       "      <td>0.083048</td>\n",
       "      <td>0.000641</td>\n",
       "      <td>6.489974</td>\n",
       "      <td>16</td>\n",
       "    </tr>\n",
       "    <tr>\n",
       "      <th>...</th>\n",
       "      <td>...</td>\n",
       "      <td>...</td>\n",
       "      <td>...</td>\n",
       "      <td>...</td>\n",
       "      <td>...</td>\n",
       "      <td>...</td>\n",
       "      <td>...</td>\n",
       "      <td>...</td>\n",
       "      <td>...</td>\n",
       "      <td>...</td>\n",
       "      <td>...</td>\n",
       "      <td>...</td>\n",
       "      <td>...</td>\n",
       "      <td>...</td>\n",
       "      <td>...</td>\n",
       "      <td>...</td>\n",
       "      <td>...</td>\n",
       "      <td>...</td>\n",
       "      <td>...</td>\n",
       "      <td>...</td>\n",
       "      <td>...</td>\n",
       "    </tr>\n",
       "    <tr>\n",
       "      <th>1158</th>\n",
       "      <td>8</td>\n",
       "      <td>0</td>\n",
       "      <td>0</td>\n",
       "      <td>440</td>\n",
       "      <td>440</td>\n",
       "      <td>78</td>\n",
       "      <td>0</td>\n",
       "      <td>-1</td>\n",
       "      <td>0</td>\n",
       "      <td>0</td>\n",
       "      <td>...</td>\n",
       "      <td>-1</td>\n",
       "      <td>1.408159</td>\n",
       "      <td>4.991706</td>\n",
       "      <td>0.003280</td>\n",
       "      <td>6.403145</td>\n",
       "      <td>0.005342</td>\n",
       "      <td>0.089964</td>\n",
       "      <td>0.000726</td>\n",
       "      <td>6.400820</td>\n",
       "      <td>4</td>\n",
       "    </tr>\n",
       "    <tr>\n",
       "      <th>1159</th>\n",
       "      <td>8</td>\n",
       "      <td>0</td>\n",
       "      <td>0</td>\n",
       "      <td>440</td>\n",
       "      <td>440</td>\n",
       "      <td>78</td>\n",
       "      <td>0</td>\n",
       "      <td>-1</td>\n",
       "      <td>0</td>\n",
       "      <td>0</td>\n",
       "      <td>...</td>\n",
       "      <td>-1</td>\n",
       "      <td>1.421173</td>\n",
       "      <td>5.007220</td>\n",
       "      <td>0.003163</td>\n",
       "      <td>6.431556</td>\n",
       "      <td>0.005848</td>\n",
       "      <td>0.090479</td>\n",
       "      <td>0.000674</td>\n",
       "      <td>6.429183</td>\n",
       "      <td>4</td>\n",
       "    </tr>\n",
       "    <tr>\n",
       "      <th>1160</th>\n",
       "      <td>3248</td>\n",
       "      <td>2542</td>\n",
       "      <td>0</td>\n",
       "      <td>107198</td>\n",
       "      <td>9041</td>\n",
       "      <td>78248</td>\n",
       "      <td>397</td>\n",
       "      <td>-43</td>\n",
       "      <td>0</td>\n",
       "      <td>0</td>\n",
       "      <td>...</td>\n",
       "      <td>-1</td>\n",
       "      <td>284.566834</td>\n",
       "      <td>198.561634</td>\n",
       "      <td>0.594587</td>\n",
       "      <td>483.723055</td>\n",
       "      <td>1.709868</td>\n",
       "      <td>0.548601</td>\n",
       "      <td>0.000000</td>\n",
       "      <td>14.079545</td>\n",
       "      <td>48</td>\n",
       "    </tr>\n",
       "    <tr>\n",
       "      <th>1161</th>\n",
       "      <td>16112</td>\n",
       "      <td>12718</td>\n",
       "      <td>0</td>\n",
       "      <td>389198</td>\n",
       "      <td>35189</td>\n",
       "      <td>236638</td>\n",
       "      <td>1933</td>\n",
       "      <td>-43</td>\n",
       "      <td>0</td>\n",
       "      <td>0</td>\n",
       "      <td>...</td>\n",
       "      <td>-1</td>\n",
       "      <td>2329.200567</td>\n",
       "      <td>100.632465</td>\n",
       "      <td>3.125118</td>\n",
       "      <td>2432.958150</td>\n",
       "      <td>1.931765</td>\n",
       "      <td>0.226163</td>\n",
       "      <td>0.000000</td>\n",
       "      <td>17.771790</td>\n",
       "      <td>240</td>\n",
       "    </tr>\n",
       "    <tr>\n",
       "      <th>1162</th>\n",
       "      <td>8</td>\n",
       "      <td>0</td>\n",
       "      <td>0</td>\n",
       "      <td>440</td>\n",
       "      <td>440</td>\n",
       "      <td>78</td>\n",
       "      <td>0</td>\n",
       "      <td>-1</td>\n",
       "      <td>0</td>\n",
       "      <td>0</td>\n",
       "      <td>...</td>\n",
       "      <td>-1</td>\n",
       "      <td>1.455455</td>\n",
       "      <td>4.972493</td>\n",
       "      <td>0.003468</td>\n",
       "      <td>6.431416</td>\n",
       "      <td>0.005511</td>\n",
       "      <td>0.092336</td>\n",
       "      <td>0.000721</td>\n",
       "      <td>6.428901</td>\n",
       "      <td>4</td>\n",
       "    </tr>\n",
       "  </tbody>\n",
       "</table>\n",
       "<p>1163 rows × 97 columns</p>\n",
       "</div>"
      ],
      "text/plain": [
       "      POSIX_OPENS  POSIX_FILENOS  POSIX_DUPS  POSIX_READS  POSIX_WRITES  \\\n",
       "0              32              0           0          440           440   \n",
       "1              32              0           0          440           440   \n",
       "2              32              0           0          440           440   \n",
       "3              32              0           0          440           440   \n",
       "4              32              0           0          440           440   \n",
       "...           ...            ...         ...          ...           ...   \n",
       "1158            8              0           0          440           440   \n",
       "1159            8              0           0          440           440   \n",
       "1160         3248           2542           0       107198          9041   \n",
       "1161        16112          12718           0       389198         35189   \n",
       "1162            8              0           0          440           440   \n",
       "\n",
       "      POSIX_SEEKS  POSIX_STATS  POSIX_MMAPS  POSIX_FSYNCS  \\\n",
       "0              78            0           -1             0   \n",
       "1              78            0           -1             0   \n",
       "2              78            0           -1             0   \n",
       "3              78            0           -1             0   \n",
       "4              78            0           -1             0   \n",
       "...           ...          ...          ...           ...   \n",
       "1158           78            0           -1             0   \n",
       "1159           78            0           -1             0   \n",
       "1160        78248          397          -43             0   \n",
       "1161       236638         1933          -43             0   \n",
       "1162           78            0           -1             0   \n",
       "\n",
       "      POSIX_RENAME_SOURCES  ...  rank  POSIX_F_READ_TIME  POSIX_F_WRITE_TIME  \\\n",
       "0                        0  ...    -1           1.396742            5.161620   \n",
       "1                        0  ...    -1           1.388736            5.230402   \n",
       "2                        0  ...    -1           1.374670            5.102114   \n",
       "3                        0  ...    -1           1.382730            5.028884   \n",
       "4                        0  ...    -1           1.392669            5.095290   \n",
       "...                    ...  ...   ...                ...                 ...   \n",
       "1158                     0  ...    -1           1.408159            4.991706   \n",
       "1159                     0  ...    -1           1.421173            5.007220   \n",
       "1160                     0  ...    -1         284.566834          198.561634   \n",
       "1161                     0  ...    -1        2329.200567          100.632465   \n",
       "1162                     0  ...    -1           1.455455            4.972493   \n",
       "\n",
       "      POSIX_F_META_TIME  POSIX_TOTAL_TIME  POSIX_F_MAX_READ_TIME  \\\n",
       "0              0.022065          6.580427               0.005862   \n",
       "1              0.025987          6.645125               0.005642   \n",
       "2              0.021048          6.497833               0.006568   \n",
       "3              0.020894          6.432509               0.006548   \n",
       "4              0.024262          6.512222               0.006047   \n",
       "...                 ...               ...                    ...   \n",
       "1158           0.003280          6.403145               0.005342   \n",
       "1159           0.003163          6.431556               0.005848   \n",
       "1160           0.594587        483.723055               1.709868   \n",
       "1161           3.125118       2432.958150               1.931765   \n",
       "1162           0.003468          6.431416               0.005511   \n",
       "\n",
       "      POSIX_F_MAX_WRITE_TIME  POSIX_F_FASTEST_RANK_TIME  \\\n",
       "0                   0.155172                   0.000530   \n",
       "1                   0.016469                   0.000806   \n",
       "2                   0.130111                   0.000555   \n",
       "3                   0.017362                   0.000570   \n",
       "4                   0.083048                   0.000641   \n",
       "...                      ...                        ...   \n",
       "1158                0.089964                   0.000726   \n",
       "1159                0.090479                   0.000674   \n",
       "1160                0.548601                   0.000000   \n",
       "1161                0.226163                   0.000000   \n",
       "1162                0.092336                   0.000721   \n",
       "\n",
       "      POSIX_F_SLOWEST_RANK_TIME  nprocs  \n",
       "0                      6.559490      16  \n",
       "1                      6.621231      16  \n",
       "2                      6.479013      16  \n",
       "3                      6.413866      16  \n",
       "4                      6.489974      16  \n",
       "...                         ...     ...  \n",
       "1158                   6.400820       4  \n",
       "1159                   6.429183       4  \n",
       "1160                  14.079545      48  \n",
       "1161                  17.771790     240  \n",
       "1162                   6.428901       4  \n",
       "\n",
       "[1163 rows x 97 columns]"
      ]
     },
     "execution_count": 129,
     "metadata": {},
     "output_type": "execute_result"
    }
   ],
   "source": [
    "df_bandwidth = df_claix_posix.pop('bandwidth')\n",
    "df_claix_posix"
   ]
  },
  {
   "cell_type": "code",
   "execution_count": 130,
   "id": "2beb6b5d",
   "metadata": {
    "collapsed": false,
    "pycharm": {
     "name": "#%%\n"
    }
   },
   "outputs": [
    {
     "data": {
      "text/plain": [
       "count    1163.000000\n",
       "mean     1814.994168\n",
       "std       393.298187\n",
       "min         0.084217\n",
       "25%      1953.342184\n",
       "50%      1986.288164\n",
       "75%      2007.708468\n",
       "max      2070.166839\n",
       "Name: bandwidth, dtype: float64"
      ]
     },
     "execution_count": 130,
     "metadata": {},
     "output_type": "execute_result"
    }
   ],
   "source": [
    "df_bandwidth.describe()"
   ]
  },
  {
   "attachments": {},
   "cell_type": "markdown",
   "id": "e831d9c5",
   "metadata": {
    "pycharm": {
     "name": "#%% md\n"
    }
   },
   "source": [
    "### Scale the input features"
   ]
  },
  {
   "cell_type": "code",
   "execution_count": null,
   "id": "ae7029eb",
   "metadata": {},
   "outputs": [],
   "source": [
    "X = df_claix_posix.to_numpy()"
   ]
  },
  {
   "cell_type": "code",
   "execution_count": 136,
   "id": "40ee39e4",
   "metadata": {
    "collapsed": false,
    "pycharm": {
     "name": "#%%\n"
    }
   },
   "outputs": [],
   "source": [
    "scaler = StandardScaler().fit(X)\n",
    "X_scaled = scaler.transform(X)"
   ]
  },
  {
   "cell_type": "code",
   "execution_count": 137,
   "id": "4b60948d",
   "metadata": {
    "pycharm": {
     "name": "#%%\n"
    }
   },
   "outputs": [],
   "source": [
    "tensor_X = torch.Tensor(X_scaled).to(device)\n",
    "tensor_y = torch.Tensor(df_bandwidth.to_numpy()).view(-1, 1).to(device) "
   ]
  },
  {
   "attachments": {},
   "cell_type": "markdown",
   "id": "0f38f3f3-6cdc-498a-bad8-c0bded54d9b6",
   "metadata": {
    "pycharm": {
     "name": "#%% md\n"
    }
   },
   "source": [
    "## Use Integrated Gradients to attribute the importance to the features"
   ]
  },
  {
   "cell_type": "code",
   "execution_count": 143,
   "id": "d683b650",
   "metadata": {
    "collapsed": false,
    "pycharm": {
     "name": "#%%\n"
    }
   },
   "outputs": [
    {
     "data": {
      "text/plain": [
       "tensor([[0., 0., 0.,  ..., 0., 0., 0.],\n",
       "        [0., 0., 0.,  ..., 0., 0., 0.],\n",
       "        [0., 0., 0.,  ..., 0., 0., 0.],\n",
       "        ...,\n",
       "        [0., 0., 0.,  ..., 0., 0., 0.],\n",
       "        [0., 0., 0.,  ..., 0., 0., 0.],\n",
       "        [0., 0., 0.,  ..., 0., 0., 0.]], device='cuda:0')"
      ]
     },
     "execution_count": 143,
     "metadata": {},
     "output_type": "execute_result"
    }
   ],
   "source": [
    "baseline = torch.zeros(len(tensor_X), 97).to(device)\n",
    "baseline"
   ]
  },
  {
   "cell_type": "code",
   "execution_count": 144,
   "id": "661ba740",
   "metadata": {
    "collapsed": false,
    "pycharm": {
     "name": "#%%\n"
    }
   },
   "outputs": [
    {
     "name": "stdout",
     "output_type": "stream",
     "text": [
      "Delta Avg: tensor(-0.3810, device='cuda:0', dtype=torch.float64)\n"
     ]
    }
   ],
   "source": [
    "bw_ig = IntegratedGradients(bw_model)\n",
    "bw_ig_attributions, bw_ig_delta = bw_ig.attribute(tensor_X, baseline, n_steps=300, return_convergence_delta=True)\n",
    "bw_ig_attributions_df = annotate_attributions(bw_ig_attributions, columns = list(df_claix_posix.columns))\n",
    "print('Delta Avg:', torch.mean(bw_ig_delta))"
   ]
  },
  {
   "attachments": {},
   "cell_type": "markdown",
   "id": "e2e79145",
   "metadata": {
    "collapsed": false,
    "pycharm": {
     "name": "#%% md\n"
    }
   },
   "source": [
    "## Other feature attribution methods"
   ]
  },
  {
   "cell_type": "code",
   "execution_count": 145,
   "id": "f547f428",
   "metadata": {
    "collapsed": false,
    "pycharm": {
     "name": "#%%\n"
    }
   },
   "outputs": [],
   "source": [
    "ig_nt_bw = NoiseTunnel(bw_ig)\n",
    "dl_bw = DeepLift(bw_model)\n",
    "# Fails due to memory constraints\n",
    "# dls = DeepLiftShap(claix_model)\n",
    "gs_bw = GradientShap(bw_model)\n",
    "fa_bw = FeatureAblation(bw_model)\n",
    "fp_bw = FeaturePermutation(bw_model)\n",
    "sal_bw = Saliency(bw_model)\n",
    "input_x_grad_bw = InputXGradient(bw_model)\n",
    "guided_back_prop_bw = GuidedBackprop(bw_model)\n",
    "# Takes too long to compute\n",
    "# shap = ShapleyValues(bw_model)\n",
    "shap_sampling_bw = ShapleyValueSampling(bw_model)"
   ]
  },
  {
   "cell_type": "code",
   "execution_count": 146,
   "id": "b55e39db",
   "metadata": {
    "collapsed": false,
    "pycharm": {
     "name": "#%%\n"
    }
   },
   "outputs": [],
   "source": [
    "def perturb_fn(inputs):\n",
    "    noise = torch.tensor(np.random.normal(0, 0.003, inputs.shape)).float().to(device)\n",
    "    return noise, inputs - noise"
   ]
  },
  {
   "cell_type": "code",
   "execution_count": 147,
   "id": "9a47a4ad",
   "metadata": {
    "collapsed": false,
    "pycharm": {
     "name": "#%%\n"
    }
   },
   "outputs": [],
   "source": [
    "# shap_attr_bw = shap.attribute(tensor_X_test)\n",
    "# shap_attr_bw_df = annotate_attributions(shap_attr_bw, columns=list(df_claix_posix.columns))"
   ]
  },
  {
   "cell_type": "code",
   "execution_count": 148,
   "id": "c0ff49c7",
   "metadata": {
    "collapsed": false,
    "pycharm": {
     "name": "#%%\n"
    }
   },
   "outputs": [
    {
     "name": "stderr",
     "output_type": "stream",
     "text": [
      "/home/eo080593/Software/miniconda3/envs/pytorch-1.12/lib/python3.9/site-packages/captum/_utils/gradient.py:57: UserWarning: Input Tensor 0 did not already require gradients, required_grads has been set automatically.\n",
      "  warnings.warn(\n"
     ]
    }
   ],
   "source": [
    "sal_attr_bw = sal_bw.attribute(tensor_X)\n",
    "sal_attr_df_bw = annotate_attributions(sal_attr_bw, columns=list(df_claix_posix.columns))"
   ]
  },
  {
   "cell_type": "code",
   "execution_count": 149,
   "id": "2a151261",
   "metadata": {
    "collapsed": false,
    "pycharm": {
     "name": "#%%\n"
    }
   },
   "outputs": [
    {
     "name": "stderr",
     "output_type": "stream",
     "text": [
      "/home/eo080593/Software/miniconda3/envs/pytorch-1.12/lib/python3.9/site-packages/captum/_utils/gradient.py:57: UserWarning: Input Tensor 0 did not already require gradients, required_grads has been set automatically.\n",
      "  warnings.warn(\n"
     ]
    },
    {
     "data": {
      "text/plain": [
       "tensor(0.1178, device='cuda:0')"
      ]
     },
     "execution_count": 149,
     "metadata": {},
     "output_type": "execute_result"
    }
   ],
   "source": [
    "sens = sensitivity_max(sal_bw.attribute, tensor_X)\n",
    "torch.mean(sens)"
   ]
  },
  {
   "cell_type": "code",
   "execution_count": 150,
   "id": "ce480ed6",
   "metadata": {
    "collapsed": false,
    "pycharm": {
     "name": "#%%\n"
    }
   },
   "outputs": [
    {
     "data": {
      "text/plain": [
       "tensor(18982570., device='cuda:0')"
      ]
     },
     "execution_count": 150,
     "metadata": {},
     "output_type": "execute_result"
    }
   ],
   "source": [
    "infid = infidelity(bw_model, perturb_fn, tensor_X, sal_attr_bw)\n",
    "torch.mean(infid)"
   ]
  },
  {
   "cell_type": "code",
   "execution_count": 151,
   "id": "3022261d",
   "metadata": {
    "collapsed": false,
    "pycharm": {
     "name": "#%%\n"
    }
   },
   "outputs": [],
   "source": [
    "fp_attr_bw = fp_bw.attribute(tensor_X)\n",
    "fp_attr_df_bw = annotate_attributions(fp_attr_bw, columns=list(df_claix_posix.columns))"
   ]
  },
  {
   "cell_type": "code",
   "execution_count": 152,
   "id": "ecc2b434",
   "metadata": {
    "collapsed": false,
    "pycharm": {
     "name": "#%%\n"
    }
   },
   "outputs": [
    {
     "data": {
      "text/plain": [
       "tensor(5.6762, device='cuda:0')"
      ]
     },
     "execution_count": 152,
     "metadata": {},
     "output_type": "execute_result"
    }
   ],
   "source": [
    "sens = sensitivity_max(fp_bw.attribute, tensor_X)\n",
    "torch.mean(sens)"
   ]
  },
  {
   "cell_type": "code",
   "execution_count": 153,
   "id": "96d7856a",
   "metadata": {
    "collapsed": false,
    "pycharm": {
     "name": "#%%\n"
    }
   },
   "outputs": [
    {
     "data": {
      "text/plain": [
       "tensor(5013831.5000, device='cuda:0')"
      ]
     },
     "execution_count": 153,
     "metadata": {},
     "output_type": "execute_result"
    }
   ],
   "source": [
    "infid = infidelity(bw_model, perturb_fn, tensor_X, fp_attr_bw)\n",
    "torch.mean(infid)"
   ]
  },
  {
   "cell_type": "code",
   "execution_count": 154,
   "id": "953db79e",
   "metadata": {
    "collapsed": false,
    "pycharm": {
     "name": "#%%\n"
    }
   },
   "outputs": [
    {
     "name": "stderr",
     "output_type": "stream",
     "text": [
      "/home/eo080593/Software/miniconda3/envs/pytorch-1.12/lib/python3.9/site-packages/captum/_utils/gradient.py:57: UserWarning: Input Tensor 0 did not already require gradients, required_grads has been set automatically.\n",
      "  warnings.warn(\n"
     ]
    }
   ],
   "source": [
    "input_x_grad_attr_bw = input_x_grad_bw.attribute(tensor_X)\n",
    "input_x_grad_attr_df_bw = annotate_attributions(input_x_grad_attr_bw, columns=list(df_claix_posix.columns))"
   ]
  },
  {
   "cell_type": "code",
   "execution_count": 155,
   "id": "f0698a4f",
   "metadata": {
    "collapsed": false,
    "pycharm": {
     "name": "#%%\n"
    }
   },
   "outputs": [
    {
     "name": "stderr",
     "output_type": "stream",
     "text": [
      "/home/eo080593/Software/miniconda3/envs/pytorch-1.12/lib/python3.9/site-packages/captum/_utils/gradient.py:57: UserWarning: Input Tensor 0 did not already require gradients, required_grads has been set automatically.\n",
      "  warnings.warn(\n"
     ]
    },
    {
     "data": {
      "text/plain": [
       "tensor(0.2964, device='cuda:0')"
      ]
     },
     "execution_count": 155,
     "metadata": {},
     "output_type": "execute_result"
    }
   ],
   "source": [
    "sens = sensitivity_max(input_x_grad_bw.attribute, tensor_X)\n",
    "torch.mean(sens)"
   ]
  },
  {
   "cell_type": "code",
   "execution_count": 156,
   "id": "0e7500c6",
   "metadata": {
    "collapsed": false,
    "pycharm": {
     "name": "#%%\n"
    }
   },
   "outputs": [
    {
     "data": {
      "text/plain": [
       "tensor(5513831.5000, device='cuda:0')"
      ]
     },
     "execution_count": 156,
     "metadata": {},
     "output_type": "execute_result"
    }
   ],
   "source": [
    "infid = infidelity(bw_model, perturb_fn, tensor_X, input_x_grad_attr_bw)\n",
    "torch.mean(infid)"
   ]
  },
  {
   "cell_type": "code",
   "execution_count": 157,
   "id": "f7241e06",
   "metadata": {
    "collapsed": false,
    "pycharm": {
     "name": "#%%\n"
    }
   },
   "outputs": [
    {
     "name": "stderr",
     "output_type": "stream",
     "text": [
      "/home/eo080593/Software/miniconda3/envs/pytorch-1.12/lib/python3.9/site-packages/captum/attr/_core/guided_backprop_deconvnet.py:64: UserWarning: Setting backward hooks on ReLU activations.The hooks will be removed after the attribution is finished\n",
      "  warnings.warn(\n"
     ]
    }
   ],
   "source": [
    "guided_back_prop_attr_bw = guided_back_prop_bw.attribute(tensor_X)\n",
    "guided_back_prop_attr_df_bw = annotate_attributions(guided_back_prop_attr_bw, columns=list(df_claix_posix.columns))"
   ]
  },
  {
   "cell_type": "code",
   "execution_count": 158,
   "id": "989b7dde",
   "metadata": {
    "collapsed": false,
    "pycharm": {
     "name": "#%%\n"
    }
   },
   "outputs": [
    {
     "name": "stderr",
     "output_type": "stream",
     "text": [
      "/home/eo080593/Software/miniconda3/envs/pytorch-1.12/lib/python3.9/site-packages/captum/_utils/gradient.py:57: UserWarning: Input Tensor 0 did not already require gradients, required_grads has been set automatically.\n",
      "  warnings.warn(\n",
      "/home/eo080593/Software/miniconda3/envs/pytorch-1.12/lib/python3.9/site-packages/captum/attr/_core/guided_backprop_deconvnet.py:64: UserWarning: Setting backward hooks on ReLU activations.The hooks will be removed after the attribution is finished\n",
      "  warnings.warn(\n"
     ]
    },
    {
     "data": {
      "text/plain": [
       "tensor(0.1060, device='cuda:0')"
      ]
     },
     "execution_count": 158,
     "metadata": {},
     "output_type": "execute_result"
    }
   ],
   "source": [
    "# guided_back_prop.has_convergence_delta()\n",
    "\n",
    "sens = sensitivity_max(guided_back_prop_bw.attribute, tensor_X)\n",
    "torch.mean(sens)"
   ]
  },
  {
   "cell_type": "code",
   "execution_count": 159,
   "id": "2c9863f2",
   "metadata": {
    "collapsed": false,
    "pycharm": {
     "name": "#%%\n"
    }
   },
   "outputs": [
    {
     "data": {
      "text/plain": [
       "tensor(444340.5000, device='cuda:0')"
      ]
     },
     "execution_count": 159,
     "metadata": {},
     "output_type": "execute_result"
    }
   ],
   "source": [
    "infid = infidelity(bw_model, perturb_fn, tensor_X, guided_back_prop_attr_bw)\n",
    "torch.mean(infid)"
   ]
  },
  {
   "cell_type": "code",
   "execution_count": 160,
   "id": "a406040d",
   "metadata": {
    "collapsed": false,
    "pycharm": {
     "name": "#%%\n"
    }
   },
   "outputs": [],
   "source": [
    "shap_sampling_attr_bw = shap_sampling_bw.attribute(tensor_X)\n",
    "shap_sampling_attr_df_bw = annotate_attributions(shap_sampling_attr_bw, columns=list(df_claix_posix.columns))"
   ]
  },
  {
   "cell_type": "code",
   "execution_count": 161,
   "id": "ca9b1a56",
   "metadata": {
    "collapsed": false,
    "pycharm": {
     "name": "#%%\n"
    }
   },
   "outputs": [
    {
     "data": {
      "text/plain": [
       "tensor(0.3463, device='cuda:0')"
      ]
     },
     "execution_count": 161,
     "metadata": {},
     "output_type": "execute_result"
    }
   ],
   "source": [
    "sens = sensitivity_max(shap_sampling_bw.attribute, tensor_X)\n",
    "torch.mean(sens)"
   ]
  },
  {
   "cell_type": "code",
   "execution_count": 162,
   "id": "46dec40c",
   "metadata": {
    "collapsed": false,
    "pycharm": {
     "name": "#%%\n"
    }
   },
   "outputs": [
    {
     "data": {
      "text/plain": [
       "tensor(5263412., device='cuda:0')"
      ]
     },
     "execution_count": 162,
     "metadata": {},
     "output_type": "execute_result"
    }
   ],
   "source": [
    "infid = infidelity(bw_model, perturb_fn, tensor_X, shap_sampling_attr_bw)\n",
    "torch.mean(infid)"
   ]
  },
  {
   "cell_type": "code",
   "execution_count": 163,
   "id": "24b1e090",
   "metadata": {
    "collapsed": false,
    "pycharm": {
     "name": "#%%\n"
    }
   },
   "outputs": [
    {
     "name": "stdout",
     "output_type": "stream",
     "text": [
      "Delta Avg:  tensor(1.6158, device='cuda:0', dtype=torch.float64)\n"
     ]
    }
   ],
   "source": [
    "ig_nt_attr_bw, ig_nt_delta_bw = ig_nt_bw.attribute(tensor_X, return_convergence_delta=True)\n",
    "# display(ig_nt_delta)\n",
    "print(\"Delta Avg: \", torch.mean(ig_nt_delta_bw))\n",
    "ig_nt_attr_df_bw = annotate_attributions(ig_nt_attr_bw, columns=list(df_claix_posix.columns))"
   ]
  },
  {
   "cell_type": "code",
   "execution_count": 164,
   "id": "ae37067e",
   "metadata": {
    "collapsed": false,
    "pycharm": {
     "name": "#%%\n"
    }
   },
   "outputs": [
    {
     "name": "stdout",
     "output_type": "stream",
     "text": [
      "Delta Avg:  tensor(-0.0006, device='cuda:0')\n"
     ]
    },
    {
     "name": "stderr",
     "output_type": "stream",
     "text": [
      "/home/eo080593/Software/miniconda3/envs/pytorch-1.12/lib/python3.9/site-packages/captum/_utils/gradient.py:57: UserWarning: Input Tensor 0 did not already require gradients, required_grads has been set automatically.\n",
      "  warnings.warn(\n",
      "/home/eo080593/Software/miniconda3/envs/pytorch-1.12/lib/python3.9/site-packages/captum/attr/_core/deep_lift.py:336: UserWarning: Setting forward, backward hooks and attributes on non-linear\n",
      "               activations. The hooks and attributes will be removed\n",
      "            after the attribution is finished\n",
      "  warnings.warn(\n"
     ]
    }
   ],
   "source": [
    "dl_attr_bw, dl_delta_bw = dl_bw.attribute(tensor_X, return_convergence_delta=True)\n",
    "print(\"Delta Avg: \", torch.mean(dl_delta_bw))\n",
    "dl_attr_df_bw = annotate_attributions(dl_attr_bw, columns=list(df_claix_posix.columns))"
   ]
  },
  {
   "cell_type": "code",
   "execution_count": 165,
   "id": "728f7d4e",
   "metadata": {
    "collapsed": false,
    "pycharm": {
     "name": "#%%\n"
    }
   },
   "outputs": [],
   "source": [
    "fa_attr_bw = fa_bw.attribute(tensor_X)\n",
    "fa_attr_df_bw = annotate_attributions(fa_attr_bw, columns=list(df_claix_posix.columns))"
   ]
  },
  {
   "cell_type": "code",
   "execution_count": 166,
   "id": "e7513595",
   "metadata": {
    "collapsed": false,
    "pycharm": {
     "name": "#%%\n"
    }
   },
   "outputs": [
    {
     "data": {
      "text/plain": [
       "tensor(0.2967, device='cuda:0')"
      ]
     },
     "execution_count": 166,
     "metadata": {},
     "output_type": "execute_result"
    }
   ],
   "source": [
    "sens = sensitivity_max(fa_bw.attribute, tensor_X)\n",
    "torch.mean(sens)"
   ]
  },
  {
   "cell_type": "code",
   "execution_count": 167,
   "id": "91704fc3",
   "metadata": {
    "collapsed": false,
    "pycharm": {
     "name": "#%%\n"
    }
   },
   "outputs": [
    {
     "data": {
      "text/plain": [
       "tensor(5515871., device='cuda:0')"
      ]
     },
     "execution_count": 167,
     "metadata": {},
     "output_type": "execute_result"
    }
   ],
   "source": [
    "infid = infidelity(bw_model, perturb_fn, tensor_X, fa_attr_bw)\n",
    "torch.mean(infid)"
   ]
  },
  {
   "cell_type": "code",
   "execution_count": 170,
   "id": "4637ea9f",
   "metadata": {
    "collapsed": false,
    "pycharm": {
     "name": "#%%\n"
    }
   },
   "outputs": [],
   "source": [
    "def calc_norm_sum(attributions_df):\n",
    "    attributions_sum = attributions_df.sum(0)\n",
    "    return (attributions_sum / np.linalg.norm(attributions_sum, ord=1)).to_frame(name=\"norm_attr_coeff\") # Just division returns a Series, so cast it to a DataFrame"
   ]
  },
  {
   "cell_type": "code",
   "execution_count": 171,
   "id": "59788c9f",
   "metadata": {
    "collapsed": false,
    "pycharm": {
     "name": "#%%\n"
    }
   },
   "outputs": [
    {
     "data": {
      "text/html": [
       "<div>\n",
       "<style scoped>\n",
       "    .dataframe tbody tr th:only-of-type {\n",
       "        vertical-align: middle;\n",
       "    }\n",
       "\n",
       "    .dataframe tbody tr th {\n",
       "        vertical-align: top;\n",
       "    }\n",
       "\n",
       "    .dataframe thead th {\n",
       "        text-align: right;\n",
       "    }\n",
       "</style>\n",
       "<table border=\"1\" class=\"dataframe\">\n",
       "  <thead>\n",
       "    <tr style=\"text-align: right;\">\n",
       "      <th></th>\n",
       "      <th>norm_attr_coeff</th>\n",
       "    </tr>\n",
       "  </thead>\n",
       "  <tbody>\n",
       "    <tr>\n",
       "      <th>POSIX_OPENS</th>\n",
       "      <td>0.001307</td>\n",
       "    </tr>\n",
       "    <tr>\n",
       "      <th>POSIX_FILENOS</th>\n",
       "      <td>0.008035</td>\n",
       "    </tr>\n",
       "    <tr>\n",
       "      <th>POSIX_DUPS</th>\n",
       "      <td>0.000000</td>\n",
       "    </tr>\n",
       "    <tr>\n",
       "      <th>POSIX_READS</th>\n",
       "      <td>0.010389</td>\n",
       "    </tr>\n",
       "    <tr>\n",
       "      <th>POSIX_WRITES</th>\n",
       "      <td>0.003002</td>\n",
       "    </tr>\n",
       "    <tr>\n",
       "      <th>...</th>\n",
       "      <td>...</td>\n",
       "    </tr>\n",
       "    <tr>\n",
       "      <th>POSIX_F_MAX_READ_TIME</th>\n",
       "      <td>0.029408</td>\n",
       "    </tr>\n",
       "    <tr>\n",
       "      <th>POSIX_F_MAX_WRITE_TIME</th>\n",
       "      <td>0.008430</td>\n",
       "    </tr>\n",
       "    <tr>\n",
       "      <th>POSIX_F_FASTEST_RANK_TIME</th>\n",
       "      <td>0.001172</td>\n",
       "    </tr>\n",
       "    <tr>\n",
       "      <th>POSIX_F_SLOWEST_RANK_TIME</th>\n",
       "      <td>0.039725</td>\n",
       "    </tr>\n",
       "    <tr>\n",
       "      <th>nprocs</th>\n",
       "      <td>0.012527</td>\n",
       "    </tr>\n",
       "  </tbody>\n",
       "</table>\n",
       "<p>97 rows × 1 columns</p>\n",
       "</div>"
      ],
      "text/plain": [
       "                           norm_attr_coeff\n",
       "POSIX_OPENS                       0.001307\n",
       "POSIX_FILENOS                     0.008035\n",
       "POSIX_DUPS                        0.000000\n",
       "POSIX_READS                       0.010389\n",
       "POSIX_WRITES                      0.003002\n",
       "...                                    ...\n",
       "POSIX_F_MAX_READ_TIME             0.029408\n",
       "POSIX_F_MAX_WRITE_TIME            0.008430\n",
       "POSIX_F_FASTEST_RANK_TIME         0.001172\n",
       "POSIX_F_SLOWEST_RANK_TIME         0.039725\n",
       "nprocs                            0.012527\n",
       "\n",
       "[97 rows x 1 columns]"
      ]
     },
     "execution_count": 171,
     "metadata": {},
     "output_type": "execute_result"
    }
   ],
   "source": [
    "ig_attr_norm_sum_bw = calc_norm_sum(bw_ig_attributions_df)\n",
    "ig_attr_norm_sum_bw"
   ]
  },
  {
   "cell_type": "code",
   "execution_count": 172,
   "id": "12730ffe",
   "metadata": {
    "collapsed": false,
    "pycharm": {
     "name": "#%%\n"
    }
   },
   "outputs": [],
   "source": [
    "ig_nt_attr_test_norm_sum_bw = calc_norm_sum(ig_nt_attr_df_bw)"
   ]
  },
  {
   "cell_type": "code",
   "execution_count": 173,
   "id": "8c908027",
   "metadata": {
    "collapsed": false,
    "pycharm": {
     "name": "#%%\n"
    }
   },
   "outputs": [],
   "source": [
    "dl_attr_test_norm_sum_bw = calc_norm_sum(dl_attr_df_bw)"
   ]
  },
  {
   "cell_type": "code",
   "execution_count": 175,
   "id": "8e425857",
   "metadata": {
    "collapsed": false,
    "pycharm": {
     "name": "#%%\n"
    }
   },
   "outputs": [],
   "source": [
    "fa_attr_test_norm_sum_bw =calc_norm_sum(fa_attr_df_bw)"
   ]
  },
  {
   "cell_type": "code",
   "execution_count": 176,
   "id": "a5e87155",
   "metadata": {
    "collapsed": false,
    "pycharm": {
     "name": "#%%\n"
    }
   },
   "outputs": [],
   "source": [
    "sal_norm_sum_bw = calc_norm_sum(sal_attr_df_bw)"
   ]
  },
  {
   "cell_type": "code",
   "execution_count": 177,
   "id": "f4976313",
   "metadata": {
    "collapsed": false,
    "pycharm": {
     "name": "#%%\n"
    }
   },
   "outputs": [],
   "source": [
    "input_x_grad_norm_sum_bw = calc_norm_sum(input_x_grad_attr_df_bw)"
   ]
  },
  {
   "cell_type": "code",
   "execution_count": 178,
   "id": "abb838cb",
   "metadata": {
    "collapsed": false,
    "pycharm": {
     "name": "#%%\n"
    }
   },
   "outputs": [],
   "source": [
    "guided_back_prop_norm_sum_bw = calc_norm_sum(guided_back_prop_attr_df_bw)"
   ]
  },
  {
   "cell_type": "code",
   "execution_count": 179,
   "id": "aa170e34",
   "metadata": {
    "collapsed": false,
    "pycharm": {
     "name": "#%%\n"
    }
   },
   "outputs": [],
   "source": [
    "fp_attr_norm_sum_bw = calc_norm_sum(fp_attr_df_bw)"
   ]
  },
  {
   "cell_type": "code",
   "execution_count": 180,
   "id": "6c3a7fb3",
   "metadata": {
    "collapsed": false,
    "pycharm": {
     "name": "#%%\n"
    }
   },
   "outputs": [],
   "source": [
    "shap_sampling_attr_norm_sum_bw = calc_norm_sum(shap_sampling_attr_df_bw)"
   ]
  },
  {
   "cell_type": "code",
   "execution_count": 181,
   "id": "dc5d4fdb",
   "metadata": {
    "collapsed": false,
    "pycharm": {
     "name": "#%%\n"
    }
   },
   "outputs": [
    {
     "data": {
      "text/html": [
       "<div>\n",
       "<style scoped>\n",
       "    .dataframe tbody tr th:only-of-type {\n",
       "        vertical-align: middle;\n",
       "    }\n",
       "\n",
       "    .dataframe tbody tr th {\n",
       "        vertical-align: top;\n",
       "    }\n",
       "\n",
       "    .dataframe thead th {\n",
       "        text-align: right;\n",
       "    }\n",
       "</style>\n",
       "<table border=\"1\" class=\"dataframe\">\n",
       "  <thead>\n",
       "    <tr style=\"text-align: right;\">\n",
       "      <th></th>\n",
       "      <th>ig</th>\n",
       "      <th>ig_noise_tunnel</th>\n",
       "      <th>deeplift</th>\n",
       "      <th>feature_ablation</th>\n",
       "      <th>shap_sampling</th>\n",
       "      <th>guided_backprop</th>\n",
       "      <th>feature_permutation</th>\n",
       "      <th>input_x_grad</th>\n",
       "      <th>saliency</th>\n",
       "    </tr>\n",
       "  </thead>\n",
       "  <tbody>\n",
       "    <tr>\n",
       "      <th>POSIX_OPENS</th>\n",
       "      <td>0.001307</td>\n",
       "      <td>-0.000275</td>\n",
       "      <td>0.000965</td>\n",
       "      <td>0.003148</td>\n",
       "      <td>0.001758</td>\n",
       "      <td>-0.002375</td>\n",
       "      <td>0.012948</td>\n",
       "      <td>0.002656</td>\n",
       "      <td>0.001752</td>\n",
       "    </tr>\n",
       "    <tr>\n",
       "      <th>POSIX_FILENOS</th>\n",
       "      <td>0.008035</td>\n",
       "      <td>-0.000026</td>\n",
       "      <td>0.007739</td>\n",
       "      <td>0.007731</td>\n",
       "      <td>0.005513</td>\n",
       "      <td>-0.003204</td>\n",
       "      <td>0.009773</td>\n",
       "      <td>0.007449</td>\n",
       "      <td>0.005231</td>\n",
       "    </tr>\n",
       "    <tr>\n",
       "      <th>POSIX_DUPS</th>\n",
       "      <td>0.000000</td>\n",
       "      <td>-0.000729</td>\n",
       "      <td>0.000000</td>\n",
       "      <td>0.000000</td>\n",
       "      <td>0.000000</td>\n",
       "      <td>-0.002611</td>\n",
       "      <td>0.000000</td>\n",
       "      <td>0.000000</td>\n",
       "      <td>0.005912</td>\n",
       "    </tr>\n",
       "    <tr>\n",
       "      <th>POSIX_READS</th>\n",
       "      <td>0.010389</td>\n",
       "      <td>0.003554</td>\n",
       "      <td>0.010259</td>\n",
       "      <td>0.010790</td>\n",
       "      <td>0.009178</td>\n",
       "      <td>-0.011512</td>\n",
       "      <td>0.016045</td>\n",
       "      <td>0.010483</td>\n",
       "      <td>0.007122</td>\n",
       "    </tr>\n",
       "    <tr>\n",
       "      <th>POSIX_WRITES</th>\n",
       "      <td>0.003002</td>\n",
       "      <td>0.000218</td>\n",
       "      <td>0.002781</td>\n",
       "      <td>0.003062</td>\n",
       "      <td>0.002213</td>\n",
       "      <td>-0.000583</td>\n",
       "      <td>0.009812</td>\n",
       "      <td>0.002926</td>\n",
       "      <td>0.002026</td>\n",
       "    </tr>\n",
       "    <tr>\n",
       "      <th>...</th>\n",
       "      <td>...</td>\n",
       "      <td>...</td>\n",
       "      <td>...</td>\n",
       "      <td>...</td>\n",
       "      <td>...</td>\n",
       "      <td>...</td>\n",
       "      <td>...</td>\n",
       "      <td>...</td>\n",
       "      <td>...</td>\n",
       "    </tr>\n",
       "    <tr>\n",
       "      <th>POSIX_F_MAX_READ_TIME</th>\n",
       "      <td>0.029408</td>\n",
       "      <td>0.017107</td>\n",
       "      <td>0.028922</td>\n",
       "      <td>0.024588</td>\n",
       "      <td>0.029598</td>\n",
       "      <td>-0.033219</td>\n",
       "      <td>0.012837</td>\n",
       "      <td>0.024493</td>\n",
       "      <td>0.019431</td>\n",
       "    </tr>\n",
       "    <tr>\n",
       "      <th>POSIX_F_MAX_WRITE_TIME</th>\n",
       "      <td>0.008430</td>\n",
       "      <td>-0.001409</td>\n",
       "      <td>0.008407</td>\n",
       "      <td>0.007648</td>\n",
       "      <td>0.007407</td>\n",
       "      <td>-0.005391</td>\n",
       "      <td>0.006559</td>\n",
       "      <td>0.006014</td>\n",
       "      <td>0.008629</td>\n",
       "    </tr>\n",
       "    <tr>\n",
       "      <th>POSIX_F_FASTEST_RANK_TIME</th>\n",
       "      <td>0.001172</td>\n",
       "      <td>-0.000276</td>\n",
       "      <td>0.001579</td>\n",
       "      <td>0.000534</td>\n",
       "      <td>0.000028</td>\n",
       "      <td>-0.000921</td>\n",
       "      <td>-0.001072</td>\n",
       "      <td>0.001822</td>\n",
       "      <td>0.002892</td>\n",
       "    </tr>\n",
       "    <tr>\n",
       "      <th>POSIX_F_SLOWEST_RANK_TIME</th>\n",
       "      <td>0.039725</td>\n",
       "      <td>0.009014</td>\n",
       "      <td>0.042729</td>\n",
       "      <td>0.035965</td>\n",
       "      <td>0.035463</td>\n",
       "      <td>-0.020543</td>\n",
       "      <td>0.072199</td>\n",
       "      <td>0.036237</td>\n",
       "      <td>0.018299</td>\n",
       "    </tr>\n",
       "    <tr>\n",
       "      <th>nprocs</th>\n",
       "      <td>0.012527</td>\n",
       "      <td>0.002600</td>\n",
       "      <td>0.011340</td>\n",
       "      <td>0.016515</td>\n",
       "      <td>0.016599</td>\n",
       "      <td>-0.021283</td>\n",
       "      <td>0.065601</td>\n",
       "      <td>0.008171</td>\n",
       "      <td>0.002801</td>\n",
       "    </tr>\n",
       "  </tbody>\n",
       "</table>\n",
       "<p>97 rows × 9 columns</p>\n",
       "</div>"
      ],
      "text/plain": [
       "                                 ig  ig_noise_tunnel  deeplift  \\\n",
       "POSIX_OPENS                0.001307        -0.000275  0.000965   \n",
       "POSIX_FILENOS              0.008035        -0.000026  0.007739   \n",
       "POSIX_DUPS                 0.000000        -0.000729  0.000000   \n",
       "POSIX_READS                0.010389         0.003554  0.010259   \n",
       "POSIX_WRITES               0.003002         0.000218  0.002781   \n",
       "...                             ...              ...       ...   \n",
       "POSIX_F_MAX_READ_TIME      0.029408         0.017107  0.028922   \n",
       "POSIX_F_MAX_WRITE_TIME     0.008430        -0.001409  0.008407   \n",
       "POSIX_F_FASTEST_RANK_TIME  0.001172        -0.000276  0.001579   \n",
       "POSIX_F_SLOWEST_RANK_TIME  0.039725         0.009014  0.042729   \n",
       "nprocs                     0.012527         0.002600  0.011340   \n",
       "\n",
       "                           feature_ablation  shap_sampling  guided_backprop  \\\n",
       "POSIX_OPENS                        0.003148       0.001758        -0.002375   \n",
       "POSIX_FILENOS                      0.007731       0.005513        -0.003204   \n",
       "POSIX_DUPS                         0.000000       0.000000        -0.002611   \n",
       "POSIX_READS                        0.010790       0.009178        -0.011512   \n",
       "POSIX_WRITES                       0.003062       0.002213        -0.000583   \n",
       "...                                     ...            ...              ...   \n",
       "POSIX_F_MAX_READ_TIME              0.024588       0.029598        -0.033219   \n",
       "POSIX_F_MAX_WRITE_TIME             0.007648       0.007407        -0.005391   \n",
       "POSIX_F_FASTEST_RANK_TIME          0.000534       0.000028        -0.000921   \n",
       "POSIX_F_SLOWEST_RANK_TIME          0.035965       0.035463        -0.020543   \n",
       "nprocs                             0.016515       0.016599        -0.021283   \n",
       "\n",
       "                           feature_permutation  input_x_grad  saliency  \n",
       "POSIX_OPENS                           0.012948      0.002656  0.001752  \n",
       "POSIX_FILENOS                         0.009773      0.007449  0.005231  \n",
       "POSIX_DUPS                            0.000000      0.000000  0.005912  \n",
       "POSIX_READS                           0.016045      0.010483  0.007122  \n",
       "POSIX_WRITES                          0.009812      0.002926  0.002026  \n",
       "...                                        ...           ...       ...  \n",
       "POSIX_F_MAX_READ_TIME                 0.012837      0.024493  0.019431  \n",
       "POSIX_F_MAX_WRITE_TIME                0.006559      0.006014  0.008629  \n",
       "POSIX_F_FASTEST_RANK_TIME            -0.001072      0.001822  0.002892  \n",
       "POSIX_F_SLOWEST_RANK_TIME             0.072199      0.036237  0.018299  \n",
       "nprocs                                0.065601      0.008171  0.002801  \n",
       "\n",
       "[97 rows x 9 columns]"
      ]
     },
     "execution_count": 181,
     "metadata": {},
     "output_type": "execute_result"
    }
   ],
   "source": [
    "aggregated_feature_attributions_normalized_df_bw = pd.concat([ig_attr_norm_sum_bw, ig_nt_attr_test_norm_sum_bw, dl_attr_test_norm_sum_bw,\n",
    "                                                                fa_attr_test_norm_sum_bw, shap_sampling_attr_norm_sum_bw, guided_back_prop_norm_sum_bw, fp_attr_norm_sum_bw, input_x_grad_norm_sum_bw, sal_norm_sum_bw],\n",
    "                                                                axis=1, join=\"inner\")\n",
    "aggregated_feature_attributions_normalized_df_bw.columns = [\"ig\", \"ig_noise_tunnel\", \"deeplift\",\n",
    "                                                                \"feature_ablation\", \"shap_sampling\", \"guided_backprop\", \"feature_permutation\", \"input_x_grad\", \"saliency\"]\n",
    "aggregated_feature_attributions_normalized_df_bw"
   ]
  },
  {
   "cell_type": "code",
   "execution_count": 182,
   "id": "17ffc2c2",
   "metadata": {
    "collapsed": false,
    "pycharm": {
     "name": "#%%\n"
    }
   },
   "outputs": [
    {
     "data": {
      "text/html": [
       "<div>\n",
       "<style scoped>\n",
       "    .dataframe tbody tr th:only-of-type {\n",
       "        vertical-align: middle;\n",
       "    }\n",
       "\n",
       "    .dataframe tbody tr th {\n",
       "        vertical-align: top;\n",
       "    }\n",
       "\n",
       "    .dataframe thead th {\n",
       "        text-align: right;\n",
       "    }\n",
       "</style>\n",
       "<table border=\"1\" class=\"dataframe\">\n",
       "  <thead>\n",
       "    <tr style=\"text-align: right;\">\n",
       "      <th></th>\n",
       "      <th>avg_attribution_coeff</th>\n",
       "      <th>relative_order</th>\n",
       "      <th>feature_importance_rank</th>\n",
       "    </tr>\n",
       "  </thead>\n",
       "  <tbody>\n",
       "    <tr>\n",
       "      <th>POSIX_F_READ_TIME</th>\n",
       "      <td>0.109016</td>\n",
       "      <td>1.0</td>\n",
       "      <td>1.0</td>\n",
       "    </tr>\n",
       "    <tr>\n",
       "      <th>POSIX_F_META_TIME</th>\n",
       "      <td>0.099567</td>\n",
       "      <td>2.0</td>\n",
       "      <td>2.0</td>\n",
       "    </tr>\n",
       "    <tr>\n",
       "      <th>POSIX_TOTAL_TIME</th>\n",
       "      <td>0.090075</td>\n",
       "      <td>3.0</td>\n",
       "      <td>3.0</td>\n",
       "    </tr>\n",
       "    <tr>\n",
       "      <th>POSIX_F_SLOWEST_RANK_TIME</th>\n",
       "      <td>0.029899</td>\n",
       "      <td>4.0</td>\n",
       "      <td>4.0</td>\n",
       "    </tr>\n",
       "    <tr>\n",
       "      <th>POSIX_MAX_WRITE_TIME_SIZE</th>\n",
       "      <td>0.020044</td>\n",
       "      <td>5.0</td>\n",
       "      <td>5.0</td>\n",
       "    </tr>\n",
       "    <tr>\n",
       "      <th>...</th>\n",
       "      <td>...</td>\n",
       "      <td>...</td>\n",
       "      <td>...</td>\n",
       "    </tr>\n",
       "    <tr>\n",
       "      <th>POSIX_SIZE_READ_100K_1M</th>\n",
       "      <td>-0.007846</td>\n",
       "      <td>93.0</td>\n",
       "      <td>19.0</td>\n",
       "    </tr>\n",
       "    <tr>\n",
       "      <th>POSIX_MODE</th>\n",
       "      <td>-0.008326</td>\n",
       "      <td>94.0</td>\n",
       "      <td>18.0</td>\n",
       "    </tr>\n",
       "    <tr>\n",
       "      <th>WRITE_10K_100K</th>\n",
       "      <td>-0.008513</td>\n",
       "      <td>95.0</td>\n",
       "      <td>16.0</td>\n",
       "    </tr>\n",
       "    <tr>\n",
       "      <th>READ_100K_1M</th>\n",
       "      <td>-0.008534</td>\n",
       "      <td>96.0</td>\n",
       "      <td>15.0</td>\n",
       "    </tr>\n",
       "    <tr>\n",
       "      <th>POSIX_MAX_READ_TIME_SIZE</th>\n",
       "      <td>-0.014564</td>\n",
       "      <td>97.0</td>\n",
       "      <td>8.0</td>\n",
       "    </tr>\n",
       "  </tbody>\n",
       "</table>\n",
       "<p>97 rows × 3 columns</p>\n",
       "</div>"
      ],
      "text/plain": [
       "                           avg_attribution_coeff  relative_order  \\\n",
       "POSIX_F_READ_TIME                       0.109016             1.0   \n",
       "POSIX_F_META_TIME                       0.099567             2.0   \n",
       "POSIX_TOTAL_TIME                        0.090075             3.0   \n",
       "POSIX_F_SLOWEST_RANK_TIME               0.029899             4.0   \n",
       "POSIX_MAX_WRITE_TIME_SIZE               0.020044             5.0   \n",
       "...                                          ...             ...   \n",
       "POSIX_SIZE_READ_100K_1M                -0.007846            93.0   \n",
       "POSIX_MODE                             -0.008326            94.0   \n",
       "WRITE_10K_100K                         -0.008513            95.0   \n",
       "READ_100K_1M                           -0.008534            96.0   \n",
       "POSIX_MAX_READ_TIME_SIZE               -0.014564            97.0   \n",
       "\n",
       "                           feature_importance_rank  \n",
       "POSIX_F_READ_TIME                              1.0  \n",
       "POSIX_F_META_TIME                              2.0  \n",
       "POSIX_TOTAL_TIME                               3.0  \n",
       "POSIX_F_SLOWEST_RANK_TIME                      4.0  \n",
       "POSIX_MAX_WRITE_TIME_SIZE                      5.0  \n",
       "...                                            ...  \n",
       "POSIX_SIZE_READ_100K_1M                       19.0  \n",
       "POSIX_MODE                                    18.0  \n",
       "WRITE_10K_100K                                16.0  \n",
       "READ_100K_1M                                  15.0  \n",
       "POSIX_MAX_READ_TIME_SIZE                       8.0  \n",
       "\n",
       "[97 rows x 3 columns]"
      ]
     },
     "execution_count": 182,
     "metadata": {},
     "output_type": "execute_result"
    }
   ],
   "source": [
    "summary_feature_attributions_normalized_df_bw = calculate_avg_attributions(aggregated_feature_attributions_normalized_df_bw, axis=1)\n",
    "\n",
    "# For each feature, show its relative order (1 - most positive influence, n - least positive influence)\n",
    "# Rank features by their absolute coefficient value to identify the most important ones\n",
    "summary_feature_attributions_normalized_df_bw = rank_features_by_importance(add_relative_order_of_features(summary_feature_attributions_normalized_df_bw))\n",
    "summary_feature_attributions_normalized_df_bw"
   ]
  },
  {
   "cell_type": "code",
   "execution_count": 183,
   "id": "375c2db6",
   "metadata": {
    "collapsed": false,
    "pycharm": {
     "name": "#%%\n"
    }
   },
   "outputs": [
    {
     "data": {
      "text/plain": [
       "avg_attribution_coeff       0.001336\n",
       "relative_order             37.000000\n",
       "feature_importance_rank    54.000000\n",
       "Name: POSIX_BYTES_READ, dtype: float64"
      ]
     },
     "execution_count": 183,
     "metadata": {},
     "output_type": "execute_result"
    }
   ],
   "source": [
    "summary_feature_attributions_normalized_df_bw.loc[\"POSIX_BYTES_READ\"]"
   ]
  },
  {
   "attachments": {},
   "cell_type": "markdown",
   "id": "e8cea5b5",
   "metadata": {
    "collapsed": false,
    "pycharm": {
     "name": "#%% md\n"
    }
   },
   "source": [
    "# Evaluate the model fine-tuned on the Claix dataset"
   ]
  },
  {
   "attachments": {},
   "cell_type": "markdown",
   "id": "540045e8",
   "metadata": {
    "collapsed": false,
    "pycharm": {
     "name": "#%% md\n"
    }
   },
   "source": [
    "### Load the pre-trained model"
   ]
  },
  {
   "cell_type": "code",
   "execution_count": 200,
   "id": "5ea8f849",
   "metadata": {
    "collapsed": false,
    "pycharm": {
     "name": "#%%\n"
    }
   },
   "outputs": [],
   "source": [
    "claix_model = nn.Sequential(\n",
    "    nn.Linear(97, 2048),\n",
    "    nn.Dropout(p=0.05),\n",
    "    nn.ReLU(),\n",
    "    nn.Linear(2048, 512),\n",
    "    nn.Dropout(p=0.05),\n",
    "    nn.ReLU(),\n",
    "    nn.Linear(512, 128),\n",
    "    nn.Dropout(p=0.05),\n",
    "    nn.ReLU(),\n",
    "    nn.Linear(128, 1),\n",
    ").to(device)"
   ]
  },
  {
   "cell_type": "code",
   "execution_count": 201,
   "id": "2b7503b2",
   "metadata": {
    "collapsed": false,
    "pycharm": {
     "name": "#%%\n"
    }
   },
   "outputs": [
    {
     "data": {
      "text/plain": [
       "<bound method Module.modules of Sequential(\n",
       "  (0): Linear(in_features=97, out_features=2048, bias=True)\n",
       "  (1): Dropout(p=0.05, inplace=False)\n",
       "  (2): ReLU()\n",
       "  (3): Linear(in_features=2048, out_features=512, bias=True)\n",
       "  (4): Dropout(p=0.05, inplace=False)\n",
       "  (5): ReLU()\n",
       "  (6): Linear(in_features=512, out_features=128, bias=True)\n",
       "  (7): Dropout(p=0.05, inplace=False)\n",
       "  (8): ReLU()\n",
       "  (9): Linear(in_features=128, out_features=1, bias=True)\n",
       ")>"
      ]
     },
     "execution_count": 201,
     "metadata": {},
     "output_type": "execute_result"
    }
   ],
   "source": [
    "claix_model.modules"
   ]
  },
  {
   "cell_type": "code",
   "execution_count": null,
   "id": "1ea32d2d",
   "metadata": {
    "collapsed": false,
    "pycharm": {
     "name": "#%%\n"
    }
   },
   "outputs": [],
   "source": [
    "CLAIX_MODEL_DIR = \"/home/thes1067/models/claix\"\n",
    "CLAIX_MODEL_NAME = \"SmoothL1Loss_0.2_testSize_StandardScaler_0.001_lr_0.05_dropout_pytorch_v1.12.0\"\n",
    "CLAIX_MODEL_PATH = Path(CLAIX_MODEL_DIR, CLAIX_MODEL_NAME)\n",
    "CLAIX_MODEL_PATH"
   ]
  },
  {
   "cell_type": "code",
   "execution_count": 204,
   "id": "193f82d9",
   "metadata": {
    "collapsed": false,
    "pycharm": {
     "name": "#%%\n"
    }
   },
   "outputs": [
    {
     "data": {
      "text/plain": [
       "True"
      ]
     },
     "execution_count": 204,
     "metadata": {},
     "output_type": "execute_result"
    }
   ],
   "source": [
    "CLAIX_MODEL_PATH.exists()"
   ]
  },
  {
   "cell_type": "code",
   "execution_count": 205,
   "id": "260f59c0",
   "metadata": {
    "collapsed": false,
    "pycharm": {
     "name": "#%%\n"
    }
   },
   "outputs": [
    {
     "name": "stdout",
     "output_type": "stream",
     "text": [
      "Loading pretrained model...\n",
      "Current epoch: 1199\n"
     ]
    }
   ],
   "source": [
    "print(\"Loading pretrained model...\")\n",
    "\n",
    "checkpoint = torch.load(CLAIX_MODEL_PATH, map_location=torch.device(device))\n",
    "claix_model.load_state_dict(checkpoint['model_state_dict'])\n",
    "model_epoch = checkpoint['epoch']\n",
    "\n",
    "print(f\"Current epoch: {model_epoch}\")"
   ]
  },
  {
   "cell_type": "code",
   "execution_count": 245,
   "id": "da9bd8c1",
   "metadata": {
    "collapsed": false,
    "pycharm": {
     "name": "#%%\n"
    }
   },
   "outputs": [
    {
     "name": "stdout",
     "output_type": "stream",
     "text": [
      "Delta Avg: tensor(-0.1277, device='cuda:0', dtype=torch.float64)\n"
     ]
    }
   ],
   "source": [
    "ig_claix = IntegratedGradients(claix_model)\n",
    "ig_attributions_claix, ig_delta_claix = ig_claix.attribute(tensor_X, baseline, n_steps=300, return_convergence_delta=True)\n",
    "ig_attributions_df_claix = annotate_attributions(ig_attributions_claix, columns = list(df_claix_posix.columns))\n",
    "print('Delta Avg:', torch.mean(ig_delta_claix))"
   ]
  },
  {
   "cell_type": "code",
   "execution_count": 246,
   "id": "f8272539",
   "metadata": {
    "collapsed": false,
    "pycharm": {
     "name": "#%%\n"
    }
   },
   "outputs": [],
   "source": [
    "ig_nt_claix = NoiseTunnel(ig_claix)\n",
    "dl_claix = DeepLift(claix_model)\n",
    "gs_claix = GradientShap(claix_model)\n",
    "fa_claix = FeatureAblation(claix_model)\n",
    "fp_claix = FeaturePermutation(claix_model)\n",
    "sal_claix = Saliency(claix_model)\n",
    "input_x_grad_claix = InputXGradient(claix_model)\n",
    "guided_back_prop_claix = GuidedBackprop(claix_model)\n",
    "shap_sampling_claix = ShapleyValueSampling(claix_model)"
   ]
  },
  {
   "cell_type": "code",
   "execution_count": 208,
   "id": "c204107d",
   "metadata": {
    "collapsed": false,
    "pycharm": {
     "name": "#%%\n"
    }
   },
   "outputs": [],
   "source": [
    "def perturb_fn(inputs):\n",
    "    noise = torch.tensor(np.random.normal(0, 0.003, inputs.shape)).float().to(device)\n",
    "    return noise, inputs - noise"
   ]
  },
  {
   "cell_type": "code",
   "execution_count": 210,
   "id": "efe8af96",
   "metadata": {
    "collapsed": false,
    "pycharm": {
     "name": "#%%\n"
    }
   },
   "outputs": [
    {
     "name": "stderr",
     "output_type": "stream",
     "text": [
      "/home/eo080593/Software/miniconda3/envs/pytorch-1.12/lib/python3.9/site-packages/captum/_utils/gradient.py:57: UserWarning: Input Tensor 0 did not already require gradients, required_grads has been set automatically.\n",
      "  warnings.warn(\n"
     ]
    }
   ],
   "source": [
    "sal_attr_claix = sal_claix.attribute(tensor_X)\n",
    "sal_attr_df_claix = annotate_attributions(sal_attr_claix, columns=list(df_claix_posix.columns))"
   ]
  },
  {
   "cell_type": "code",
   "execution_count": 211,
   "id": "580aeac6",
   "metadata": {
    "collapsed": false,
    "pycharm": {
     "name": "#%%\n"
    }
   },
   "outputs": [
    {
     "name": "stderr",
     "output_type": "stream",
     "text": [
      "/home/eo080593/Software/miniconda3/envs/pytorch-1.12/lib/python3.9/site-packages/captum/_utils/gradient.py:57: UserWarning: Input Tensor 0 did not already require gradients, required_grads has been set automatically.\n",
      "  warnings.warn(\n"
     ]
    },
    {
     "data": {
      "text/plain": [
       "tensor(0.2804, device='cuda:0')"
      ]
     },
     "execution_count": 211,
     "metadata": {},
     "output_type": "execute_result"
    }
   ],
   "source": [
    "sens = sensitivity_max(sal_claix.attribute, tensor_X)\n",
    "torch.mean(sens)"
   ]
  },
  {
   "cell_type": "code",
   "execution_count": 212,
   "id": "adc0b51c",
   "metadata": {
    "collapsed": false,
    "pycharm": {
     "name": "#%%\n"
    }
   },
   "outputs": [
    {
     "data": {
      "text/plain": [
       "tensor(77946.9375, device='cuda:0')"
      ]
     },
     "execution_count": 212,
     "metadata": {},
     "output_type": "execute_result"
    }
   ],
   "source": [
    "infid = infidelity(claix_model, perturb_fn, tensor_X, sal_attr_claix)\n",
    "torch.mean(infid)"
   ]
  },
  {
   "cell_type": "code",
   "execution_count": 213,
   "id": "d5b83516",
   "metadata": {
    "collapsed": false,
    "pycharm": {
     "name": "#%%\n"
    }
   },
   "outputs": [],
   "source": [
    "fp_attr_claix = fp_claix.attribute(tensor_X)\n",
    "fp_attr_df_claix = annotate_attributions(fp_attr_claix, columns=list(df_claix_posix.columns))"
   ]
  },
  {
   "cell_type": "code",
   "execution_count": 214,
   "id": "afd66e81",
   "metadata": {
    "collapsed": false,
    "pycharm": {
     "name": "#%%\n"
    }
   },
   "outputs": [
    {
     "data": {
      "text/plain": [
       "tensor(2.1204, device='cuda:0')"
      ]
     },
     "execution_count": 214,
     "metadata": {},
     "output_type": "execute_result"
    }
   ],
   "source": [
    "sens = sensitivity_max(fp_claix.attribute, tensor_X)\n",
    "torch.mean(sens)"
   ]
  },
  {
   "cell_type": "code",
   "execution_count": 215,
   "id": "fb16bcc8",
   "metadata": {
    "collapsed": false,
    "pycharm": {
     "name": "#%%\n"
    }
   },
   "outputs": [
    {
     "data": {
      "text/plain": [
       "tensor(71576.8516, device='cuda:0')"
      ]
     },
     "execution_count": 215,
     "metadata": {},
     "output_type": "execute_result"
    }
   ],
   "source": [
    "infid = infidelity(claix_model, perturb_fn, tensor_X, fp_attr_claix)\n",
    "torch.mean(infid)"
   ]
  },
  {
   "cell_type": "code",
   "execution_count": 216,
   "id": "9123d75c",
   "metadata": {
    "collapsed": false,
    "pycharm": {
     "name": "#%%\n"
    }
   },
   "outputs": [
    {
     "name": "stderr",
     "output_type": "stream",
     "text": [
      "/home/eo080593/Software/miniconda3/envs/pytorch-1.12/lib/python3.9/site-packages/captum/_utils/gradient.py:57: UserWarning: Input Tensor 0 did not already require gradients, required_grads has been set automatically.\n",
      "  warnings.warn(\n"
     ]
    }
   ],
   "source": [
    "input_x_grad_attr_claix = input_x_grad_claix.attribute(tensor_X)\n",
    "input_x_grad_attr_df_claix = annotate_attributions(input_x_grad_attr_claix, columns=list(df_claix_posix.columns))"
   ]
  },
  {
   "cell_type": "code",
   "execution_count": 217,
   "id": "92d0e848",
   "metadata": {
    "collapsed": false,
    "pycharm": {
     "name": "#%%\n"
    }
   },
   "outputs": [
    {
     "name": "stderr",
     "output_type": "stream",
     "text": [
      "/home/eo080593/Software/miniconda3/envs/pytorch-1.12/lib/python3.9/site-packages/captum/_utils/gradient.py:57: UserWarning: Input Tensor 0 did not already require gradients, required_grads has been set automatically.\n",
      "  warnings.warn(\n"
     ]
    },
    {
     "data": {
      "text/plain": [
       "tensor(0.3960, device='cuda:0')"
      ]
     },
     "execution_count": 217,
     "metadata": {},
     "output_type": "execute_result"
    }
   ],
   "source": [
    "sens = sensitivity_max(input_x_grad_claix.attribute, tensor_X)\n",
    "torch.mean(sens)"
   ]
  },
  {
   "cell_type": "code",
   "execution_count": 218,
   "id": "129f0092",
   "metadata": {
    "collapsed": false,
    "pycharm": {
     "name": "#%%\n"
    }
   },
   "outputs": [
    {
     "data": {
      "text/plain": [
       "tensor(72811.1172, device='cuda:0')"
      ]
     },
     "execution_count": 218,
     "metadata": {},
     "output_type": "execute_result"
    }
   ],
   "source": [
    "infid = infidelity(claix_model, perturb_fn, tensor_X, input_x_grad_attr_claix)\n",
    "torch.mean(infid)"
   ]
  },
  {
   "cell_type": "code",
   "execution_count": 219,
   "id": "ba1f9ccd",
   "metadata": {
    "collapsed": false,
    "pycharm": {
     "name": "#%%\n"
    }
   },
   "outputs": [
    {
     "name": "stderr",
     "output_type": "stream",
     "text": [
      "/home/eo080593/Software/miniconda3/envs/pytorch-1.12/lib/python3.9/site-packages/captum/attr/_core/guided_backprop_deconvnet.py:64: UserWarning: Setting backward hooks on ReLU activations.The hooks will be removed after the attribution is finished\n",
      "  warnings.warn(\n"
     ]
    }
   ],
   "source": [
    "guided_back_prop_attr_claix = guided_back_prop_claix.attribute(tensor_X)\n",
    "guided_back_prop_attr_df_claix = annotate_attributions(guided_back_prop_attr_claix, columns=list(df_claix_posix.columns))"
   ]
  },
  {
   "cell_type": "code",
   "execution_count": 220,
   "id": "c9585bc5",
   "metadata": {
    "collapsed": false,
    "pycharm": {
     "name": "#%%\n"
    }
   },
   "outputs": [
    {
     "name": "stderr",
     "output_type": "stream",
     "text": [
      "/home/eo080593/Software/miniconda3/envs/pytorch-1.12/lib/python3.9/site-packages/captum/_utils/gradient.py:57: UserWarning: Input Tensor 0 did not already require gradients, required_grads has been set automatically.\n",
      "  warnings.warn(\n",
      "/home/eo080593/Software/miniconda3/envs/pytorch-1.12/lib/python3.9/site-packages/captum/attr/_core/guided_backprop_deconvnet.py:64: UserWarning: Setting backward hooks on ReLU activations.The hooks will be removed after the attribution is finished\n",
      "  warnings.warn(\n"
     ]
    },
    {
     "data": {
      "text/plain": [
       "tensor(0.1474, device='cuda:0')"
      ]
     },
     "execution_count": 220,
     "metadata": {},
     "output_type": "execute_result"
    }
   ],
   "source": [
    "sens = sensitivity_max(guided_back_prop_claix.attribute, tensor_X)\n",
    "torch.mean(sens)"
   ]
  },
  {
   "cell_type": "code",
   "execution_count": 221,
   "id": "bead6147",
   "metadata": {
    "collapsed": false,
    "pycharm": {
     "name": "#%%\n"
    }
   },
   "outputs": [
    {
     "data": {
      "text/plain": [
       "tensor(73665.5156, device='cuda:0')"
      ]
     },
     "execution_count": 221,
     "metadata": {},
     "output_type": "execute_result"
    }
   ],
   "source": [
    "infid = infidelity(claix_model, perturb_fn, tensor_X, guided_back_prop_attr_claix)\n",
    "torch.mean(infid)"
   ]
  },
  {
   "cell_type": "code",
   "execution_count": 222,
   "id": "e4959f0d",
   "metadata": {
    "collapsed": false,
    "pycharm": {
     "name": "#%%\n"
    }
   },
   "outputs": [],
   "source": [
    "shap_sampling_attr_claix = shap_sampling_claix.attribute(tensor_X)\n",
    "shap_sampling_attr_df_claix = annotate_attributions(shap_sampling_attr_claix, columns=list(df_claix_posix.columns))"
   ]
  },
  {
   "cell_type": "code",
   "execution_count": 223,
   "id": "0ce51cda",
   "metadata": {
    "collapsed": false,
    "pycharm": {
     "name": "#%%\n"
    }
   },
   "outputs": [
    {
     "data": {
      "text/plain": [
       "tensor(0.6285, device='cuda:0')"
      ]
     },
     "execution_count": 223,
     "metadata": {},
     "output_type": "execute_result"
    }
   ],
   "source": [
    "sens = sensitivity_max(shap_sampling_claix.attribute, tensor_X)\n",
    "torch.mean(sens)"
   ]
  },
  {
   "cell_type": "code",
   "execution_count": 224,
   "id": "98be40ce",
   "metadata": {
    "collapsed": false,
    "pycharm": {
     "name": "#%%\n"
    }
   },
   "outputs": [
    {
     "data": {
      "text/plain": [
       "tensor(71078.6562, device='cuda:0')"
      ]
     },
     "execution_count": 224,
     "metadata": {},
     "output_type": "execute_result"
    }
   ],
   "source": [
    "infid = infidelity(claix_model, perturb_fn, tensor_X, shap_sampling_attr_claix)\n",
    "torch.mean(infid)"
   ]
  },
  {
   "cell_type": "code",
   "execution_count": null,
   "id": "09f5f1c5",
   "metadata": {
    "collapsed": false,
    "pycharm": {
     "is_executing": true,
     "name": "#%%\n"
    }
   },
   "outputs": [],
   "source": [
    "ig_nt_attr_claix, ig_nt_delta_claix = ig_nt_claix.attribute(tensor_X, return_convergence_delta=True)\n",
    "print(\"Delta Avg: \", torch.mean(ig_nt_delta_claix))\n",
    "ig_nt_attr_df_claix = annotate_attributions(ig_nt_attr_claix, columns=list(df_claix_posix.columns))"
   ]
  },
  {
   "cell_type": "code",
   "execution_count": 226,
   "id": "69b1c02b",
   "metadata": {
    "collapsed": false,
    "pycharm": {
     "name": "#%%\n"
    }
   },
   "outputs": [
    {
     "name": "stdout",
     "output_type": "stream",
     "text": [
      "Delta Avg:  tensor(0.7711, device='cuda:0')\n"
     ]
    },
    {
     "name": "stderr",
     "output_type": "stream",
     "text": [
      "/home/eo080593/Software/miniconda3/envs/pytorch-1.12/lib/python3.9/site-packages/captum/_utils/gradient.py:57: UserWarning: Input Tensor 0 did not already require gradients, required_grads has been set automatically.\n",
      "  warnings.warn(\n",
      "/home/eo080593/Software/miniconda3/envs/pytorch-1.12/lib/python3.9/site-packages/captum/attr/_core/deep_lift.py:336: UserWarning: Setting forward, backward hooks and attributes on non-linear\n",
      "               activations. The hooks and attributes will be removed\n",
      "            after the attribution is finished\n",
      "  warnings.warn(\n"
     ]
    }
   ],
   "source": [
    "dl_attr_claix, dl_delta_claix = dl_claix.attribute(tensor_X, return_convergence_delta=True)\n",
    "print(\"Delta Avg: \", torch.mean(dl_delta_claix))\n",
    "dl_attr_df_claix = annotate_attributions(dl_attr_claix, columns=list(df_claix_posix.columns))"
   ]
  },
  {
   "cell_type": "code",
   "execution_count": 227,
   "id": "04125745",
   "metadata": {
    "collapsed": false,
    "pycharm": {
     "name": "#%%\n"
    }
   },
   "outputs": [],
   "source": [
    "fa_attr_claix = fa_claix.attribute(tensor_X)\n",
    "fa_attr_df_claix = annotate_attributions(fa_attr_claix, columns=list(df_claix_posix.columns))"
   ]
  },
  {
   "cell_type": "code",
   "execution_count": 228,
   "id": "163e8cc1",
   "metadata": {
    "collapsed": false,
    "pycharm": {
     "name": "#%%\n"
    }
   },
   "outputs": [
    {
     "data": {
      "text/plain": [
       "tensor(2.0060, device='cuda:0')"
      ]
     },
     "execution_count": 228,
     "metadata": {},
     "output_type": "execute_result"
    }
   ],
   "source": [
    "sens = sensitivity_max(fa_claix.attribute, tensor_X)\n",
    "torch.mean(sens)"
   ]
  },
  {
   "cell_type": "code",
   "execution_count": 229,
   "id": "408130d1",
   "metadata": {
    "collapsed": false,
    "pycharm": {
     "name": "#%%\n"
    }
   },
   "outputs": [
    {
     "data": {
      "text/plain": [
       "tensor(72554.4062, device='cuda:0')"
      ]
     },
     "execution_count": 229,
     "metadata": {},
     "output_type": "execute_result"
    }
   ],
   "source": [
    "infid = infidelity(claix_model, perturb_fn, tensor_X, fa_attr_claix)\n",
    "torch.mean(infid)"
   ]
  },
  {
   "cell_type": "code",
   "execution_count": 232,
   "id": "be936b27",
   "metadata": {
    "collapsed": false,
    "pycharm": {
     "name": "#%%\n"
    }
   },
   "outputs": [],
   "source": [
    "def calc_norm_sum(attributions_df):\n",
    "    attributions_sum = attributions_df.sum(0)\n",
    "    return (attributions_sum / np.linalg.norm(attributions_sum, ord=1)).to_frame(name=\"norm_attr_coeff\") # Just division returns a Series, so cast it to a DataFrame"
   ]
  },
  {
   "cell_type": "code",
   "execution_count": 233,
   "id": "05ebe3a9",
   "metadata": {
    "collapsed": false,
    "pycharm": {
     "name": "#%%\n"
    }
   },
   "outputs": [
    {
     "data": {
      "text/html": [
       "<div>\n",
       "<style scoped>\n",
       "    .dataframe tbody tr th:only-of-type {\n",
       "        vertical-align: middle;\n",
       "    }\n",
       "\n",
       "    .dataframe tbody tr th {\n",
       "        vertical-align: top;\n",
       "    }\n",
       "\n",
       "    .dataframe thead th {\n",
       "        text-align: right;\n",
       "    }\n",
       "</style>\n",
       "<table border=\"1\" class=\"dataframe\">\n",
       "  <thead>\n",
       "    <tr style=\"text-align: right;\">\n",
       "      <th></th>\n",
       "      <th>norm_attr_coeff</th>\n",
       "    </tr>\n",
       "  </thead>\n",
       "  <tbody>\n",
       "    <tr>\n",
       "      <th>POSIX_OPENS</th>\n",
       "      <td>0.001016</td>\n",
       "    </tr>\n",
       "    <tr>\n",
       "      <th>POSIX_FILENOS</th>\n",
       "      <td>0.010685</td>\n",
       "    </tr>\n",
       "    <tr>\n",
       "      <th>POSIX_DUPS</th>\n",
       "      <td>0.000000</td>\n",
       "    </tr>\n",
       "    <tr>\n",
       "      <th>POSIX_READS</th>\n",
       "      <td>0.012602</td>\n",
       "    </tr>\n",
       "    <tr>\n",
       "      <th>POSIX_WRITES</th>\n",
       "      <td>0.004056</td>\n",
       "    </tr>\n",
       "    <tr>\n",
       "      <th>...</th>\n",
       "      <td>...</td>\n",
       "    </tr>\n",
       "    <tr>\n",
       "      <th>POSIX_F_MAX_READ_TIME</th>\n",
       "      <td>0.030460</td>\n",
       "    </tr>\n",
       "    <tr>\n",
       "      <th>POSIX_F_MAX_WRITE_TIME</th>\n",
       "      <td>0.004470</td>\n",
       "    </tr>\n",
       "    <tr>\n",
       "      <th>POSIX_F_FASTEST_RANK_TIME</th>\n",
       "      <td>0.001041</td>\n",
       "    </tr>\n",
       "    <tr>\n",
       "      <th>POSIX_F_SLOWEST_RANK_TIME</th>\n",
       "      <td>0.049991</td>\n",
       "    </tr>\n",
       "    <tr>\n",
       "      <th>nprocs</th>\n",
       "      <td>0.010645</td>\n",
       "    </tr>\n",
       "  </tbody>\n",
       "</table>\n",
       "<p>97 rows × 1 columns</p>\n",
       "</div>"
      ],
      "text/plain": [
       "                           norm_attr_coeff\n",
       "POSIX_OPENS                       0.001016\n",
       "POSIX_FILENOS                     0.010685\n",
       "POSIX_DUPS                        0.000000\n",
       "POSIX_READS                       0.012602\n",
       "POSIX_WRITES                      0.004056\n",
       "...                                    ...\n",
       "POSIX_F_MAX_READ_TIME             0.030460\n",
       "POSIX_F_MAX_WRITE_TIME            0.004470\n",
       "POSIX_F_FASTEST_RANK_TIME         0.001041\n",
       "POSIX_F_SLOWEST_RANK_TIME         0.049991\n",
       "nprocs                            0.010645\n",
       "\n",
       "[97 rows x 1 columns]"
      ]
     },
     "execution_count": 233,
     "metadata": {},
     "output_type": "execute_result"
    }
   ],
   "source": [
    "ig_attr_norm_sum_claix = calc_norm_sum(ig_attributions_df_claix)\n",
    "ig_attr_norm_sum_claix"
   ]
  },
  {
   "cell_type": "code",
   "execution_count": 234,
   "id": "65b5f145",
   "metadata": {
    "collapsed": false,
    "pycharm": {
     "name": "#%%\n"
    }
   },
   "outputs": [],
   "source": [
    "ig_nt_attr_test_norm_sum_claix = calc_norm_sum(ig_nt_attr_df_claix)"
   ]
  },
  {
   "cell_type": "code",
   "execution_count": 235,
   "id": "d323ccb9",
   "metadata": {
    "collapsed": false,
    "pycharm": {
     "name": "#%%\n"
    }
   },
   "outputs": [],
   "source": [
    "dl_attr_test_norm_sum_claix = calc_norm_sum(dl_attr_df_claix)"
   ]
  },
  {
   "cell_type": "code",
   "execution_count": 237,
   "id": "0706ecc3",
   "metadata": {
    "collapsed": false,
    "pycharm": {
     "name": "#%%\n"
    }
   },
   "outputs": [],
   "source": [
    "fa_attr_test_norm_sum_claix =calc_norm_sum(fa_attr_df_claix)"
   ]
  },
  {
   "cell_type": "code",
   "execution_count": 238,
   "id": "da113306",
   "metadata": {
    "collapsed": false,
    "pycharm": {
     "name": "#%%\n"
    }
   },
   "outputs": [],
   "source": [
    "sal_norm_sum_claix = calc_norm_sum(sal_attr_df_claix)"
   ]
  },
  {
   "cell_type": "code",
   "execution_count": 239,
   "id": "9ff67f2f",
   "metadata": {
    "collapsed": false,
    "pycharm": {
     "name": "#%%\n"
    }
   },
   "outputs": [],
   "source": [
    "input_x_grad_norm_sum_claix = calc_norm_sum(input_x_grad_attr_df_claix)"
   ]
  },
  {
   "cell_type": "code",
   "execution_count": 240,
   "id": "1da3fe34",
   "metadata": {
    "collapsed": false,
    "pycharm": {
     "name": "#%%\n"
    }
   },
   "outputs": [],
   "source": [
    "guided_back_prop_norm_sum_claix = calc_norm_sum(guided_back_prop_attr_df_claix)"
   ]
  },
  {
   "cell_type": "code",
   "execution_count": 241,
   "id": "4224b54f",
   "metadata": {
    "collapsed": false,
    "pycharm": {
     "name": "#%%\n"
    }
   },
   "outputs": [],
   "source": [
    "fp_attr_norm_sum_claix = calc_norm_sum(fp_attr_df_claix)"
   ]
  },
  {
   "cell_type": "code",
   "execution_count": 242,
   "id": "d4f5a590",
   "metadata": {
    "collapsed": false,
    "pycharm": {
     "name": "#%%\n"
    }
   },
   "outputs": [],
   "source": [
    "shap_sampling_attr_norm_sum_claix = calc_norm_sum(shap_sampling_attr_df_claix)"
   ]
  },
  {
   "cell_type": "code",
   "execution_count": 243,
   "id": "84c43004",
   "metadata": {
    "collapsed": false,
    "pycharm": {
     "name": "#%%\n"
    }
   },
   "outputs": [
    {
     "data": {
      "text/html": [
       "<div>\n",
       "<style scoped>\n",
       "    .dataframe tbody tr th:only-of-type {\n",
       "        vertical-align: middle;\n",
       "    }\n",
       "\n",
       "    .dataframe tbody tr th {\n",
       "        vertical-align: top;\n",
       "    }\n",
       "\n",
       "    .dataframe thead th {\n",
       "        text-align: right;\n",
       "    }\n",
       "</style>\n",
       "<table border=\"1\" class=\"dataframe\">\n",
       "  <thead>\n",
       "    <tr style=\"text-align: right;\">\n",
       "      <th></th>\n",
       "      <th>ig</th>\n",
       "      <th>ig_noise_tunnel</th>\n",
       "      <th>deeplift</th>\n",
       "      <th>feature_ablation</th>\n",
       "      <th>shap_sampling</th>\n",
       "      <th>guided_backprop</th>\n",
       "      <th>feature_permutation</th>\n",
       "      <th>input_x_grad</th>\n",
       "      <th>saliency</th>\n",
       "    </tr>\n",
       "  </thead>\n",
       "  <tbody>\n",
       "    <tr>\n",
       "      <th>POSIX_OPENS</th>\n",
       "      <td>0.001016</td>\n",
       "      <td>0.000132</td>\n",
       "      <td>0.000977</td>\n",
       "      <td>0.001680</td>\n",
       "      <td>0.001386</td>\n",
       "      <td>-0.003259</td>\n",
       "      <td>0.008660</td>\n",
       "      <td>0.001800</td>\n",
       "      <td>0.001201</td>\n",
       "    </tr>\n",
       "    <tr>\n",
       "      <th>POSIX_FILENOS</th>\n",
       "      <td>0.010685</td>\n",
       "      <td>0.000793</td>\n",
       "      <td>0.010669</td>\n",
       "      <td>0.009386</td>\n",
       "      <td>0.008530</td>\n",
       "      <td>-0.004181</td>\n",
       "      <td>0.008091</td>\n",
       "      <td>0.011575</td>\n",
       "      <td>0.007928</td>\n",
       "    </tr>\n",
       "    <tr>\n",
       "      <th>POSIX_DUPS</th>\n",
       "      <td>0.000000</td>\n",
       "      <td>-0.000026</td>\n",
       "      <td>0.000000</td>\n",
       "      <td>0.001199</td>\n",
       "      <td>0.000095</td>\n",
       "      <td>-0.001661</td>\n",
       "      <td>-0.000654</td>\n",
       "      <td>0.000000</td>\n",
       "      <td>0.002134</td>\n",
       "    </tr>\n",
       "    <tr>\n",
       "      <th>POSIX_READS</th>\n",
       "      <td>0.012602</td>\n",
       "      <td>0.003475</td>\n",
       "      <td>0.012640</td>\n",
       "      <td>0.012003</td>\n",
       "      <td>0.012680</td>\n",
       "      <td>-0.012453</td>\n",
       "      <td>0.017244</td>\n",
       "      <td>0.012742</td>\n",
       "      <td>0.008462</td>\n",
       "    </tr>\n",
       "    <tr>\n",
       "      <th>POSIX_WRITES</th>\n",
       "      <td>0.004056</td>\n",
       "      <td>0.000426</td>\n",
       "      <td>0.004015</td>\n",
       "      <td>0.005471</td>\n",
       "      <td>0.003338</td>\n",
       "      <td>-0.001273</td>\n",
       "      <td>0.004154</td>\n",
       "      <td>0.004177</td>\n",
       "      <td>0.002897</td>\n",
       "    </tr>\n",
       "    <tr>\n",
       "      <th>...</th>\n",
       "      <td>...</td>\n",
       "      <td>...</td>\n",
       "      <td>...</td>\n",
       "      <td>...</td>\n",
       "      <td>...</td>\n",
       "      <td>...</td>\n",
       "      <td>...</td>\n",
       "      <td>...</td>\n",
       "      <td>...</td>\n",
       "    </tr>\n",
       "    <tr>\n",
       "      <th>POSIX_F_MAX_READ_TIME</th>\n",
       "      <td>0.030460</td>\n",
       "      <td>0.015106</td>\n",
       "      <td>0.029643</td>\n",
       "      <td>0.026957</td>\n",
       "      <td>0.033147</td>\n",
       "      <td>-0.031807</td>\n",
       "      <td>0.009965</td>\n",
       "      <td>0.028606</td>\n",
       "      <td>0.022330</td>\n",
       "    </tr>\n",
       "    <tr>\n",
       "      <th>POSIX_F_MAX_WRITE_TIME</th>\n",
       "      <td>0.004470</td>\n",
       "      <td>0.000729</td>\n",
       "      <td>0.004188</td>\n",
       "      <td>-0.002340</td>\n",
       "      <td>0.004118</td>\n",
       "      <td>0.000010</td>\n",
       "      <td>0.000237</td>\n",
       "      <td>0.001471</td>\n",
       "      <td>0.001075</td>\n",
       "    </tr>\n",
       "    <tr>\n",
       "      <th>POSIX_F_FASTEST_RANK_TIME</th>\n",
       "      <td>0.001041</td>\n",
       "      <td>-0.000162</td>\n",
       "      <td>0.001203</td>\n",
       "      <td>0.001024</td>\n",
       "      <td>0.000640</td>\n",
       "      <td>0.001041</td>\n",
       "      <td>0.005046</td>\n",
       "      <td>0.000158</td>\n",
       "      <td>0.000321</td>\n",
       "    </tr>\n",
       "    <tr>\n",
       "      <th>POSIX_F_SLOWEST_RANK_TIME</th>\n",
       "      <td>0.049991</td>\n",
       "      <td>0.010141</td>\n",
       "      <td>0.050500</td>\n",
       "      <td>0.044874</td>\n",
       "      <td>0.052788</td>\n",
       "      <td>-0.024192</td>\n",
       "      <td>0.067315</td>\n",
       "      <td>0.048802</td>\n",
       "      <td>0.025347</td>\n",
       "    </tr>\n",
       "    <tr>\n",
       "      <th>nprocs</th>\n",
       "      <td>0.010645</td>\n",
       "      <td>0.000555</td>\n",
       "      <td>0.009900</td>\n",
       "      <td>0.014299</td>\n",
       "      <td>0.018668</td>\n",
       "      <td>-0.020156</td>\n",
       "      <td>0.065907</td>\n",
       "      <td>0.001397</td>\n",
       "      <td>0.001671</td>\n",
       "    </tr>\n",
       "  </tbody>\n",
       "</table>\n",
       "<p>97 rows × 9 columns</p>\n",
       "</div>"
      ],
      "text/plain": [
       "                                 ig  ig_noise_tunnel  deeplift  \\\n",
       "POSIX_OPENS                0.001016         0.000132  0.000977   \n",
       "POSIX_FILENOS              0.010685         0.000793  0.010669   \n",
       "POSIX_DUPS                 0.000000        -0.000026  0.000000   \n",
       "POSIX_READS                0.012602         0.003475  0.012640   \n",
       "POSIX_WRITES               0.004056         0.000426  0.004015   \n",
       "...                             ...              ...       ...   \n",
       "POSIX_F_MAX_READ_TIME      0.030460         0.015106  0.029643   \n",
       "POSIX_F_MAX_WRITE_TIME     0.004470         0.000729  0.004188   \n",
       "POSIX_F_FASTEST_RANK_TIME  0.001041        -0.000162  0.001203   \n",
       "POSIX_F_SLOWEST_RANK_TIME  0.049991         0.010141  0.050500   \n",
       "nprocs                     0.010645         0.000555  0.009900   \n",
       "\n",
       "                           feature_ablation  shap_sampling  guided_backprop  \\\n",
       "POSIX_OPENS                        0.001680       0.001386        -0.003259   \n",
       "POSIX_FILENOS                      0.009386       0.008530        -0.004181   \n",
       "POSIX_DUPS                         0.001199       0.000095        -0.001661   \n",
       "POSIX_READS                        0.012003       0.012680        -0.012453   \n",
       "POSIX_WRITES                       0.005471       0.003338        -0.001273   \n",
       "...                                     ...            ...              ...   \n",
       "POSIX_F_MAX_READ_TIME              0.026957       0.033147        -0.031807   \n",
       "POSIX_F_MAX_WRITE_TIME            -0.002340       0.004118         0.000010   \n",
       "POSIX_F_FASTEST_RANK_TIME          0.001024       0.000640         0.001041   \n",
       "POSIX_F_SLOWEST_RANK_TIME          0.044874       0.052788        -0.024192   \n",
       "nprocs                             0.014299       0.018668        -0.020156   \n",
       "\n",
       "                           feature_permutation  input_x_grad  saliency  \n",
       "POSIX_OPENS                           0.008660      0.001800  0.001201  \n",
       "POSIX_FILENOS                         0.008091      0.011575  0.007928  \n",
       "POSIX_DUPS                           -0.000654      0.000000  0.002134  \n",
       "POSIX_READS                           0.017244      0.012742  0.008462  \n",
       "POSIX_WRITES                          0.004154      0.004177  0.002897  \n",
       "...                                        ...           ...       ...  \n",
       "POSIX_F_MAX_READ_TIME                 0.009965      0.028606  0.022330  \n",
       "POSIX_F_MAX_WRITE_TIME                0.000237      0.001471  0.001075  \n",
       "POSIX_F_FASTEST_RANK_TIME             0.005046      0.000158  0.000321  \n",
       "POSIX_F_SLOWEST_RANK_TIME             0.067315      0.048802  0.025347  \n",
       "nprocs                                0.065907      0.001397  0.001671  \n",
       "\n",
       "[97 rows x 9 columns]"
      ]
     },
     "execution_count": 243,
     "metadata": {},
     "output_type": "execute_result"
    }
   ],
   "source": [
    "aggregated_feature_attributions_normalized_df_claix = pd.concat([ig_attr_norm_sum_claix, ig_nt_attr_test_norm_sum_claix, dl_attr_test_norm_sum_claix,\n",
    "                                                                    fa_attr_test_norm_sum_claix, shap_sampling_attr_norm_sum_claix, guided_back_prop_norm_sum_claix, fp_attr_norm_sum_claix, input_x_grad_norm_sum_claix, sal_norm_sum_claix],\n",
    "                                                                    axis=1, join=\"inner\")\n",
    "aggregated_feature_attributions_normalized_df_claix.columns = [\"ig\", \"ig_noise_tunnel\", \"deeplift\",\n",
    "                                                                    \"feature_ablation\", \"shap_sampling\", \"guided_backprop\", \"feature_permutation\", \"input_x_grad\", \"saliency\"]\n",
    "aggregated_feature_attributions_normalized_df_claix"
   ]
  },
  {
   "cell_type": "code",
   "execution_count": 244,
   "id": "3c5bdddb",
   "metadata": {
    "collapsed": false,
    "pycharm": {
     "name": "#%%\n"
    }
   },
   "outputs": [
    {
     "data": {
      "text/html": [
       "<div>\n",
       "<style scoped>\n",
       "    .dataframe tbody tr th:only-of-type {\n",
       "        vertical-align: middle;\n",
       "    }\n",
       "\n",
       "    .dataframe tbody tr th {\n",
       "        vertical-align: top;\n",
       "    }\n",
       "\n",
       "    .dataframe thead th {\n",
       "        text-align: right;\n",
       "    }\n",
       "</style>\n",
       "<table border=\"1\" class=\"dataframe\">\n",
       "  <thead>\n",
       "    <tr style=\"text-align: right;\">\n",
       "      <th></th>\n",
       "      <th>avg_attribution_coeff</th>\n",
       "      <th>relative_order</th>\n",
       "      <th>feature_importance_rank</th>\n",
       "    </tr>\n",
       "  </thead>\n",
       "  <tbody>\n",
       "    <tr>\n",
       "      <th>POSIX_F_META_TIME</th>\n",
       "      <td>0.117892</td>\n",
       "      <td>1.0</td>\n",
       "      <td>1.0</td>\n",
       "    </tr>\n",
       "    <tr>\n",
       "      <th>POSIX_F_READ_TIME</th>\n",
       "      <td>0.117351</td>\n",
       "      <td>2.0</td>\n",
       "      <td>2.0</td>\n",
       "    </tr>\n",
       "    <tr>\n",
       "      <th>POSIX_TOTAL_TIME</th>\n",
       "      <td>0.093328</td>\n",
       "      <td>3.0</td>\n",
       "      <td>3.0</td>\n",
       "    </tr>\n",
       "    <tr>\n",
       "      <th>POSIX_F_SLOWEST_RANK_TIME</th>\n",
       "      <td>0.036174</td>\n",
       "      <td>4.0</td>\n",
       "      <td>4.0</td>\n",
       "    </tr>\n",
       "    <tr>\n",
       "      <th>POSIX_F_MAX_READ_TIME</th>\n",
       "      <td>0.018268</td>\n",
       "      <td>5.0</td>\n",
       "      <td>5.0</td>\n",
       "    </tr>\n",
       "    <tr>\n",
       "      <th>...</th>\n",
       "      <td>...</td>\n",
       "      <td>...</td>\n",
       "      <td>...</td>\n",
       "    </tr>\n",
       "    <tr>\n",
       "      <th>POSIX_SIZE_READ_100K_1M</th>\n",
       "      <td>-0.005597</td>\n",
       "      <td>93.0</td>\n",
       "      <td>24.0</td>\n",
       "    </tr>\n",
       "    <tr>\n",
       "      <th>POSIX_BYTES_WRITTEN</th>\n",
       "      <td>-0.006540</td>\n",
       "      <td>94.0</td>\n",
       "      <td>22.0</td>\n",
       "    </tr>\n",
       "    <tr>\n",
       "      <th>WRITE_10K_100K</th>\n",
       "      <td>-0.006683</td>\n",
       "      <td>95.0</td>\n",
       "      <td>20.0</td>\n",
       "    </tr>\n",
       "    <tr>\n",
       "      <th>POSIX_MODE</th>\n",
       "      <td>-0.009406</td>\n",
       "      <td>96.0</td>\n",
       "      <td>14.0</td>\n",
       "    </tr>\n",
       "    <tr>\n",
       "      <th>POSIX_MAX_READ_TIME_SIZE</th>\n",
       "      <td>-0.013997</td>\n",
       "      <td>97.0</td>\n",
       "      <td>8.0</td>\n",
       "    </tr>\n",
       "  </tbody>\n",
       "</table>\n",
       "<p>97 rows × 3 columns</p>\n",
       "</div>"
      ],
      "text/plain": [
       "                           avg_attribution_coeff  relative_order  \\\n",
       "POSIX_F_META_TIME                       0.117892             1.0   \n",
       "POSIX_F_READ_TIME                       0.117351             2.0   \n",
       "POSIX_TOTAL_TIME                        0.093328             3.0   \n",
       "POSIX_F_SLOWEST_RANK_TIME               0.036174             4.0   \n",
       "POSIX_F_MAX_READ_TIME                   0.018268             5.0   \n",
       "...                                          ...             ...   \n",
       "POSIX_SIZE_READ_100K_1M                -0.005597            93.0   \n",
       "POSIX_BYTES_WRITTEN                    -0.006540            94.0   \n",
       "WRITE_10K_100K                         -0.006683            95.0   \n",
       "POSIX_MODE                             -0.009406            96.0   \n",
       "POSIX_MAX_READ_TIME_SIZE               -0.013997            97.0   \n",
       "\n",
       "                           feature_importance_rank  \n",
       "POSIX_F_META_TIME                              1.0  \n",
       "POSIX_F_READ_TIME                              2.0  \n",
       "POSIX_TOTAL_TIME                               3.0  \n",
       "POSIX_F_SLOWEST_RANK_TIME                      4.0  \n",
       "POSIX_F_MAX_READ_TIME                          5.0  \n",
       "...                                            ...  \n",
       "POSIX_SIZE_READ_100K_1M                       24.0  \n",
       "POSIX_BYTES_WRITTEN                           22.0  \n",
       "WRITE_10K_100K                                20.0  \n",
       "POSIX_MODE                                    14.0  \n",
       "POSIX_MAX_READ_TIME_SIZE                       8.0  \n",
       "\n",
       "[97 rows x 3 columns]"
      ]
     },
     "execution_count": 244,
     "metadata": {},
     "output_type": "execute_result"
    }
   ],
   "source": [
    "summary_feature_attributions_normalized_df_claix = calculate_avg_attributions(aggregated_feature_attributions_normalized_df_claix, axis=1)\n",
    "\n",
    "# For each feature, show its relative order (1 - most positive influence, n - least positive influence)\n",
    "# Rank features by their absolute coefficient value to identify the most important ones\n",
    "summary_feature_attributions_normalized_df_claix = rank_features_by_importance(add_relative_order_of_features(summary_feature_attributions_normalized_df_claix))\n",
    "summary_feature_attributions_normalized_df_claix"
   ]
  },
  {
   "cell_type": "code",
   "execution_count": 83,
   "id": "ddfa1adb",
   "metadata": {
    "collapsed": false,
    "pycharm": {
     "name": "#%%\n"
    }
   },
   "outputs": [
    {
     "data": {
      "text/plain": [
       "avg_attribution_coeff       0.001336\n",
       "relative_order             37.000000\n",
       "feature_importance_rank    54.000000\n",
       "Name: POSIX_BYTES_READ, dtype: float64"
      ]
     },
     "execution_count": 83,
     "metadata": {},
     "output_type": "execute_result"
    }
   ],
   "source": [
    "summary_feature_attributions_normalized_df_claix.loc[\"POSIX_BYTES_READ\"]"
   ]
  },
  {
   "cell_type": "code",
   "execution_count": 71,
   "id": "9d445761",
   "metadata": {
    "collapsed": false,
    "pycharm": {
     "name": "#%%\n"
    }
   },
   "outputs": [
    {
     "data": {
      "text/html": [
       "<div>\n",
       "<style scoped>\n",
       "    .dataframe tbody tr th:only-of-type {\n",
       "        vertical-align: middle;\n",
       "    }\n",
       "\n",
       "    .dataframe tbody tr th {\n",
       "        vertical-align: top;\n",
       "    }\n",
       "\n",
       "    .dataframe thead th {\n",
       "        text-align: right;\n",
       "    }\n",
       "</style>\n",
       "<table border=\"1\" class=\"dataframe\">\n",
       "  <thead>\n",
       "    <tr style=\"text-align: right;\">\n",
       "      <th></th>\n",
       "      <th>avg_attribution_coeff</th>\n",
       "      <th>relative_order</th>\n",
       "      <th>feature_importance_rank</th>\n",
       "    </tr>\n",
       "  </thead>\n",
       "  <tbody>\n",
       "    <tr>\n",
       "      <th>POSIX_F_READ_TIME</th>\n",
       "      <td>532.499505</td>\n",
       "      <td>1.0</td>\n",
       "      <td>1.0</td>\n",
       "    </tr>\n",
       "    <tr>\n",
       "      <th>POSIX_TOTAL_TIME</th>\n",
       "      <td>390.365359</td>\n",
       "      <td>2.0</td>\n",
       "      <td>2.0</td>\n",
       "    </tr>\n",
       "    <tr>\n",
       "      <th>POSIX_F_META_TIME</th>\n",
       "      <td>343.351446</td>\n",
       "      <td>3.0</td>\n",
       "      <td>3.0</td>\n",
       "    </tr>\n",
       "    <tr>\n",
       "      <th>POSIX_F_SLOWEST_RANK_TIME</th>\n",
       "      <td>143.429679</td>\n",
       "      <td>4.0</td>\n",
       "      <td>4.0</td>\n",
       "    </tr>\n",
       "    <tr>\n",
       "      <th>POSIX_F_MAX_READ_TIME</th>\n",
       "      <td>87.390850</td>\n",
       "      <td>5.0</td>\n",
       "      <td>5.0</td>\n",
       "    </tr>\n",
       "    <tr>\n",
       "      <th>...</th>\n",
       "      <td>...</td>\n",
       "      <td>...</td>\n",
       "      <td>...</td>\n",
       "    </tr>\n",
       "    <tr>\n",
       "      <th>WRITE_10K_100K</th>\n",
       "      <td>-33.000360</td>\n",
       "      <td>93.0</td>\n",
       "      <td>18.0</td>\n",
       "    </tr>\n",
       "    <tr>\n",
       "      <th>POSIX_STRIDE3_STRIDE</th>\n",
       "      <td>-37.243687</td>\n",
       "      <td>94.0</td>\n",
       "      <td>14.0</td>\n",
       "    </tr>\n",
       "    <tr>\n",
       "      <th>POSIX_BYTES_WRITTEN</th>\n",
       "      <td>-41.687902</td>\n",
       "      <td>95.0</td>\n",
       "      <td>12.0</td>\n",
       "    </tr>\n",
       "    <tr>\n",
       "      <th>POSIX_MODE</th>\n",
       "      <td>-56.894887</td>\n",
       "      <td>96.0</td>\n",
       "      <td>8.0</td>\n",
       "    </tr>\n",
       "    <tr>\n",
       "      <th>POSIX_MAX_READ_TIME_SIZE</th>\n",
       "      <td>-67.759278</td>\n",
       "      <td>97.0</td>\n",
       "      <td>7.0</td>\n",
       "    </tr>\n",
       "  </tbody>\n",
       "</table>\n",
       "<p>97 rows × 3 columns</p>\n",
       "</div>"
      ],
      "text/plain": [
       "                           avg_attribution_coeff  relative_order  \\\n",
       "POSIX_F_READ_TIME                     532.499505             1.0   \n",
       "POSIX_TOTAL_TIME                      390.365359             2.0   \n",
       "POSIX_F_META_TIME                     343.351446             3.0   \n",
       "POSIX_F_SLOWEST_RANK_TIME             143.429679             4.0   \n",
       "POSIX_F_MAX_READ_TIME                  87.390850             5.0   \n",
       "...                                          ...             ...   \n",
       "WRITE_10K_100K                        -33.000360            93.0   \n",
       "POSIX_STRIDE3_STRIDE                  -37.243687            94.0   \n",
       "POSIX_BYTES_WRITTEN                   -41.687902            95.0   \n",
       "POSIX_MODE                            -56.894887            96.0   \n",
       "POSIX_MAX_READ_TIME_SIZE              -67.759278            97.0   \n",
       "\n",
       "                           feature_importance_rank  \n",
       "POSIX_F_READ_TIME                              1.0  \n",
       "POSIX_TOTAL_TIME                               2.0  \n",
       "POSIX_F_META_TIME                              3.0  \n",
       "POSIX_F_SLOWEST_RANK_TIME                      4.0  \n",
       "POSIX_F_MAX_READ_TIME                          5.0  \n",
       "...                                            ...  \n",
       "WRITE_10K_100K                                18.0  \n",
       "POSIX_STRIDE3_STRIDE                          14.0  \n",
       "POSIX_BYTES_WRITTEN                           12.0  \n",
       "POSIX_MODE                                     8.0  \n",
       "POSIX_MAX_READ_TIME_SIZE                       7.0  \n",
       "\n",
       "[97 rows x 3 columns]"
      ]
     },
     "metadata": {},
     "output_type": "display_data"
    }
   ],
   "source": [
    "display(claix_avg_ranked_attributions_df)"
   ]
  },
  {
   "cell_type": "code",
   "execution_count": 72,
   "id": "449ac28d",
   "metadata": {
    "collapsed": false,
    "pycharm": {
     "name": "#%%\n"
    }
   },
   "outputs": [],
   "source": [
    "features_importance_comparison_df = pd.merge(summary_feature_attributions_normalized_df_bw, summary_feature_attributions_normalized_df_claix, left_index=True, right_index=True, suffixes=[\"_bw\", \"_claix\"])\n",
    "features_importance_comparison_df"
   ]
  },
  {
   "cell_type": "code",
   "execution_count": 75,
   "id": "db61f120",
   "metadata": {
    "collapsed": false,
    "pycharm": {
     "name": "#%%\n"
    }
   },
   "outputs": [],
   "source": [
    "features_importance_comparison_df.to_csv(r\"/home/eo080593/Projects/2021-dmytro-povaliaiev/sourcecode/visualization/data/Feature_Attributions_Full_vs_Fine-tuned.csv\")"
   ]
  },
  {
   "cell_type": "code",
   "execution_count": 287,
   "id": "d9649e19",
   "metadata": {
    "collapsed": false,
    "pycharm": {
     "name": "#%%\n"
    }
   },
   "outputs": [
    {
     "data": {
      "text/html": [
       "<div>\n",
       "<style scoped>\n",
       "    .dataframe tbody tr th:only-of-type {\n",
       "        vertical-align: middle;\n",
       "    }\n",
       "\n",
       "    .dataframe tbody tr th {\n",
       "        vertical-align: top;\n",
       "    }\n",
       "\n",
       "    .dataframe thead th {\n",
       "        text-align: right;\n",
       "    }\n",
       "</style>\n",
       "<table border=\"1\" class=\"dataframe\">\n",
       "  <thead>\n",
       "    <tr style=\"text-align: right;\">\n",
       "      <th></th>\n",
       "      <th>ig</th>\n",
       "      <th>ig_noise_tunnel</th>\n",
       "      <th>deeplift</th>\n",
       "      <th>gradientshap</th>\n",
       "      <th>feature_ablation</th>\n",
       "      <th>shap_sampling</th>\n",
       "      <th>guided_backprop</th>\n",
       "      <th>feature_permutation</th>\n",
       "      <th>input_x_grad</th>\n",
       "      <th>saliency</th>\n",
       "    </tr>\n",
       "  </thead>\n",
       "  <tbody>\n",
       "    <tr>\n",
       "      <th>POSIX_F_READ_TIME</th>\n",
       "      <td>22555.235103</td>\n",
       "      <td>61291.281147</td>\n",
       "      <td>25156.373047</td>\n",
       "      <td>-708.246582</td>\n",
       "      <td>29200.218750</td>\n",
       "      <td>24147.093750</td>\n",
       "      <td>-296217.812500</td>\n",
       "      <td>326.970581</td>\n",
       "      <td>29735.417969</td>\n",
       "      <td>291629.375000</td>\n",
       "    </tr>\n",
       "    <tr>\n",
       "      <th>POSIX_TOTAL_TIME</th>\n",
       "      <td>16660.750364</td>\n",
       "      <td>86396.627293</td>\n",
       "      <td>18804.513672</td>\n",
       "      <td>-231.063446</td>\n",
       "      <td>21874.421875</td>\n",
       "      <td>17994.226562</td>\n",
       "      <td>-333323.250000</td>\n",
       "      <td>316.392670</td>\n",
       "      <td>22085.056641</td>\n",
       "      <td>333218.781250</td>\n",
       "    </tr>\n",
       "    <tr>\n",
       "      <th>POSIX_F_META_TIME</th>\n",
       "      <td>12806.998625</td>\n",
       "      <td>148915.586186</td>\n",
       "      <td>14409.471680</td>\n",
       "      <td>3.067998</td>\n",
       "      <td>18685.117188</td>\n",
       "      <td>13581.669922</td>\n",
       "      <td>-391480.093750</td>\n",
       "      <td>46.429176</td>\n",
       "      <td>18564.048828</td>\n",
       "      <td>561296.125000</td>\n",
       "    </tr>\n",
       "    <tr>\n",
       "      <th>POSIX_F_SLOWEST_RANK_TIME</th>\n",
       "      <td>4987.124063</td>\n",
       "      <td>3232.381576</td>\n",
       "      <td>5369.414062</td>\n",
       "      <td>617.464478</td>\n",
       "      <td>7213.912598</td>\n",
       "      <td>4636.626953</td>\n",
       "      <td>-34776.613281</td>\n",
       "      <td>1844.427246</td>\n",
       "      <td>7124.248535</td>\n",
       "      <td>46195.160156</td>\n",
       "    </tr>\n",
       "    <tr>\n",
       "      <th>POSIX_F_MAX_READ_TIME</th>\n",
       "      <td>3691.950321</td>\n",
       "      <td>6658.701544</td>\n",
       "      <td>3876.315674</td>\n",
       "      <td>-46.512398</td>\n",
       "      <td>4957.162598</td>\n",
       "      <td>3767.761719</td>\n",
       "      <td>-55492.292969</td>\n",
       "      <td>70.694702</td>\n",
       "      <td>4996.842773</td>\n",
       "      <td>47867.132812</td>\n",
       "    </tr>\n",
       "    <tr>\n",
       "      <th>...</th>\n",
       "      <td>...</td>\n",
       "      <td>...</td>\n",
       "      <td>...</td>\n",
       "      <td>...</td>\n",
       "      <td>...</td>\n",
       "      <td>...</td>\n",
       "      <td>...</td>\n",
       "      <td>...</td>\n",
       "      <td>...</td>\n",
       "      <td>...</td>\n",
       "    </tr>\n",
       "    <tr>\n",
       "      <th>POSIX_BYTES_WRITTEN</th>\n",
       "      <td>-2169.990030</td>\n",
       "      <td>-2383.134204</td>\n",
       "      <td>-2302.347168</td>\n",
       "      <td>15.510158</td>\n",
       "      <td>-3827.800781</td>\n",
       "      <td>-2104.962646</td>\n",
       "      <td>15386.246094</td>\n",
       "      <td>135.771759</td>\n",
       "      <td>-4375.528809</td>\n",
       "      <td>39114.734375</td>\n",
       "    </tr>\n",
       "    <tr>\n",
       "      <th>WRITE_10K_100K</th>\n",
       "      <td>-2189.946022</td>\n",
       "      <td>-3865.961135</td>\n",
       "      <td>-2164.196533</td>\n",
       "      <td>-20.773529</td>\n",
       "      <td>-4777.125488</td>\n",
       "      <td>-2761.839111</td>\n",
       "      <td>6103.601562</td>\n",
       "      <td>130.342880</td>\n",
       "      <td>-5055.902344</td>\n",
       "      <td>40884.074219</td>\n",
       "    </tr>\n",
       "    <tr>\n",
       "      <th>READ_100K_1M</th>\n",
       "      <td>-2195.874262</td>\n",
       "      <td>-4023.120175</td>\n",
       "      <td>-2255.310059</td>\n",
       "      <td>22.440395</td>\n",
       "      <td>-4341.409668</td>\n",
       "      <td>-3003.796631</td>\n",
       "      <td>-1124.387817</td>\n",
       "      <td>167.452576</td>\n",
       "      <td>-5313.726074</td>\n",
       "      <td>50255.136719</td>\n",
       "    </tr>\n",
       "    <tr>\n",
       "      <th>POSIX_MODE</th>\n",
       "      <td>-2575.584399</td>\n",
       "      <td>-2689.931016</td>\n",
       "      <td>-2768.075195</td>\n",
       "      <td>-25.652847</td>\n",
       "      <td>-3885.096680</td>\n",
       "      <td>-2185.000977</td>\n",
       "      <td>9348.550781</td>\n",
       "      <td>189.910950</td>\n",
       "      <td>-4753.264160</td>\n",
       "      <td>36103.546875</td>\n",
       "    </tr>\n",
       "    <tr>\n",
       "      <th>POSIX_MAX_READ_TIME_SIZE</th>\n",
       "      <td>-3244.473253</td>\n",
       "      <td>-2104.497131</td>\n",
       "      <td>-3410.499756</td>\n",
       "      <td>16.878796</td>\n",
       "      <td>-5886.415039</td>\n",
       "      <td>-3975.785400</td>\n",
       "      <td>21859.769531</td>\n",
       "      <td>-382.844055</td>\n",
       "      <td>-6043.435547</td>\n",
       "      <td>45709.019531</td>\n",
       "    </tr>\n",
       "  </tbody>\n",
       "</table>\n",
       "<p>97 rows × 10 columns</p>\n",
       "</div>"
      ],
      "text/plain": [
       "                                     ig  ig_noise_tunnel      deeplift  \\\n",
       "POSIX_F_READ_TIME          22555.235103     61291.281147  25156.373047   \n",
       "POSIX_TOTAL_TIME           16660.750364     86396.627293  18804.513672   \n",
       "POSIX_F_META_TIME          12806.998625    148915.586186  14409.471680   \n",
       "POSIX_F_SLOWEST_RANK_TIME   4987.124063      3232.381576   5369.414062   \n",
       "POSIX_F_MAX_READ_TIME       3691.950321      6658.701544   3876.315674   \n",
       "...                                 ...              ...           ...   \n",
       "POSIX_BYTES_WRITTEN        -2169.990030     -2383.134204  -2302.347168   \n",
       "WRITE_10K_100K             -2189.946022     -3865.961135  -2164.196533   \n",
       "READ_100K_1M               -2195.874262     -4023.120175  -2255.310059   \n",
       "POSIX_MODE                 -2575.584399     -2689.931016  -2768.075195   \n",
       "POSIX_MAX_READ_TIME_SIZE   -3244.473253     -2104.497131  -3410.499756   \n",
       "\n",
       "                           gradientshap  feature_ablation  shap_sampling  \\\n",
       "POSIX_F_READ_TIME           -708.246582      29200.218750   24147.093750   \n",
       "POSIX_TOTAL_TIME            -231.063446      21874.421875   17994.226562   \n",
       "POSIX_F_META_TIME              3.067998      18685.117188   13581.669922   \n",
       "POSIX_F_SLOWEST_RANK_TIME    617.464478       7213.912598    4636.626953   \n",
       "POSIX_F_MAX_READ_TIME        -46.512398       4957.162598    3767.761719   \n",
       "...                                 ...               ...            ...   \n",
       "POSIX_BYTES_WRITTEN           15.510158      -3827.800781   -2104.962646   \n",
       "WRITE_10K_100K               -20.773529      -4777.125488   -2761.839111   \n",
       "READ_100K_1M                  22.440395      -4341.409668   -3003.796631   \n",
       "POSIX_MODE                   -25.652847      -3885.096680   -2185.000977   \n",
       "POSIX_MAX_READ_TIME_SIZE      16.878796      -5886.415039   -3975.785400   \n",
       "\n",
       "                           guided_backprop  feature_permutation  input_x_grad  \\\n",
       "POSIX_F_READ_TIME           -296217.812500           326.970581  29735.417969   \n",
       "POSIX_TOTAL_TIME            -333323.250000           316.392670  22085.056641   \n",
       "POSIX_F_META_TIME           -391480.093750            46.429176  18564.048828   \n",
       "POSIX_F_SLOWEST_RANK_TIME    -34776.613281          1844.427246   7124.248535   \n",
       "POSIX_F_MAX_READ_TIME        -55492.292969            70.694702   4996.842773   \n",
       "...                                    ...                  ...           ...   \n",
       "POSIX_BYTES_WRITTEN           15386.246094           135.771759  -4375.528809   \n",
       "WRITE_10K_100K                 6103.601562           130.342880  -5055.902344   \n",
       "READ_100K_1M                  -1124.387817           167.452576  -5313.726074   \n",
       "POSIX_MODE                     9348.550781           189.910950  -4753.264160   \n",
       "POSIX_MAX_READ_TIME_SIZE      21859.769531          -382.844055  -6043.435547   \n",
       "\n",
       "                                saliency  \n",
       "POSIX_F_READ_TIME          291629.375000  \n",
       "POSIX_TOTAL_TIME           333218.781250  \n",
       "POSIX_F_META_TIME          561296.125000  \n",
       "POSIX_F_SLOWEST_RANK_TIME   46195.160156  \n",
       "POSIX_F_MAX_READ_TIME       47867.132812  \n",
       "...                                  ...  \n",
       "POSIX_BYTES_WRITTEN         39114.734375  \n",
       "WRITE_10K_100K              40884.074219  \n",
       "READ_100K_1M                50255.136719  \n",
       "POSIX_MODE                  36103.546875  \n",
       "POSIX_MAX_READ_TIME_SIZE    45709.019531  \n",
       "\n",
       "[97 rows x 10 columns]"
      ]
     },
     "execution_count": 287,
     "metadata": {},
     "output_type": "execute_result"
    }
   ],
   "source": [
    "aggregated_feature_attributions_avg = pd.concat([bw_avg_attributions_df, ig_nt_avg_attr, dl_attr_avg, gs_attr_avg, fa_attr_avg, shap_sampling_attr_avg, guided_back_prop_attr_avg, fp_attr_avg, input_x_grad_attr_avg, sal_avg_attr], axis=1, join=\"inner\")\n",
    "aggregated_feature_attributions_avg.columns = [\"ig\", \"ig_noise_tunnel\", \"deeplift\", \"gradientshap\", \"feature_ablation\", \"shap_sampling\", \"guided_backprop\", \"feature_permutation\", \"input_x_grad\", \"saliency\"]\n",
    "aggregated_feature_attributions_avg"
   ]
  },
  {
   "cell_type": "code",
   "execution_count": 288,
   "id": "b2b425c5",
   "metadata": {
    "collapsed": false,
    "pycharm": {
     "name": "#%%\n"
    }
   },
   "outputs": [
    {
     "data": {
      "text/html": [
       "<div>\n",
       "<style scoped>\n",
       "    .dataframe tbody tr th:only-of-type {\n",
       "        vertical-align: middle;\n",
       "    }\n",
       "\n",
       "    .dataframe tbody tr th {\n",
       "        vertical-align: top;\n",
       "    }\n",
       "\n",
       "    .dataframe thead th {\n",
       "        text-align: right;\n",
       "    }\n",
       "</style>\n",
       "<table border=\"1\" class=\"dataframe\">\n",
       "  <thead>\n",
       "    <tr style=\"text-align: right;\">\n",
       "      <th></th>\n",
       "      <th>avg_attribution_coeff</th>\n",
       "    </tr>\n",
       "  </thead>\n",
       "  <tbody>\n",
       "    <tr>\n",
       "      <th>POSIX_F_READ_TIME</th>\n",
       "      <td>18711.590626</td>\n",
       "    </tr>\n",
       "    <tr>\n",
       "      <th>POSIX_TOTAL_TIME</th>\n",
       "      <td>18379.645688</td>\n",
       "    </tr>\n",
       "    <tr>\n",
       "      <th>POSIX_F_META_TIME</th>\n",
       "      <td>39682.842085</td>\n",
       "    </tr>\n",
       "    <tr>\n",
       "      <th>POSIX_F_SLOWEST_RANK_TIME</th>\n",
       "      <td>4644.414639</td>\n",
       "    </tr>\n",
       "    <tr>\n",
       "      <th>POSIX_F_MAX_READ_TIME</th>\n",
       "      <td>2034.775678</td>\n",
       "    </tr>\n",
       "    <tr>\n",
       "      <th>...</th>\n",
       "      <td>...</td>\n",
       "    </tr>\n",
       "    <tr>\n",
       "      <th>POSIX_BYTES_WRITTEN</th>\n",
       "      <td>3748.849875</td>\n",
       "    </tr>\n",
       "    <tr>\n",
       "      <th>WRITE_10K_100K</th>\n",
       "      <td>2628.227450</td>\n",
       "    </tr>\n",
       "    <tr>\n",
       "      <th>READ_100K_1M</th>\n",
       "      <td>2818.740500</td>\n",
       "    </tr>\n",
       "    <tr>\n",
       "      <th>POSIX_MODE</th>\n",
       "      <td>2675.940333</td>\n",
       "    </tr>\n",
       "    <tr>\n",
       "      <th>POSIX_MAX_READ_TIME_SIZE</th>\n",
       "      <td>4253.771768</td>\n",
       "    </tr>\n",
       "  </tbody>\n",
       "</table>\n",
       "<p>97 rows × 1 columns</p>\n",
       "</div>"
      ],
      "text/plain": [
       "                           avg_attribution_coeff\n",
       "POSIX_F_READ_TIME                   18711.590626\n",
       "POSIX_TOTAL_TIME                    18379.645688\n",
       "POSIX_F_META_TIME                   39682.842085\n",
       "POSIX_F_SLOWEST_RANK_TIME            4644.414639\n",
       "POSIX_F_MAX_READ_TIME                2034.775678\n",
       "...                                          ...\n",
       "POSIX_BYTES_WRITTEN                  3748.849875\n",
       "WRITE_10K_100K                       2628.227450\n",
       "READ_100K_1M                         2818.740500\n",
       "POSIX_MODE                           2675.940333\n",
       "POSIX_MAX_READ_TIME_SIZE             4253.771768\n",
       "\n",
       "[97 rows x 1 columns]"
      ]
     },
     "execution_count": 288,
     "metadata": {},
     "output_type": "execute_result"
    }
   ],
   "source": [
    "aggregated_feature_attributions_avg.mean(axis=1).to_frame(\"avg_attribution_coeff\")"
   ]
  },
  {
   "cell_type": "code",
   "execution_count": 289,
   "id": "dfac2f42",
   "metadata": {
    "collapsed": false,
    "pycharm": {
     "name": "#%%\n"
    }
   },
   "outputs": [
    {
     "data": {
      "text/html": [
       "<div>\n",
       "<style scoped>\n",
       "    .dataframe tbody tr th:only-of-type {\n",
       "        vertical-align: middle;\n",
       "    }\n",
       "\n",
       "    .dataframe tbody tr th {\n",
       "        vertical-align: top;\n",
       "    }\n",
       "\n",
       "    .dataframe thead th {\n",
       "        text-align: right;\n",
       "    }\n",
       "</style>\n",
       "<table border=\"1\" class=\"dataframe\">\n",
       "  <thead>\n",
       "    <tr style=\"text-align: right;\">\n",
       "      <th></th>\n",
       "      <th>avg_attribution_coeff</th>\n",
       "      <th>relative_order</th>\n",
       "      <th>feature_importance_rank</th>\n",
       "    </tr>\n",
       "  </thead>\n",
       "  <tbody>\n",
       "    <tr>\n",
       "      <th>POSIX_F_META_TIME</th>\n",
       "      <td>39682.842085</td>\n",
       "      <td>1.0</td>\n",
       "      <td>1.0</td>\n",
       "    </tr>\n",
       "    <tr>\n",
       "      <th>POSIX_F_READ_TIME</th>\n",
       "      <td>18711.590626</td>\n",
       "      <td>2.0</td>\n",
       "      <td>2.0</td>\n",
       "    </tr>\n",
       "    <tr>\n",
       "      <th>POSIX_TOTAL_TIME</th>\n",
       "      <td>18379.645688</td>\n",
       "      <td>3.0</td>\n",
       "      <td>3.0</td>\n",
       "    </tr>\n",
       "    <tr>\n",
       "      <th>POSIX_MAX_WRITE_TIME_SIZE</th>\n",
       "      <td>8744.312691</td>\n",
       "      <td>4.0</td>\n",
       "      <td>4.0</td>\n",
       "    </tr>\n",
       "    <tr>\n",
       "      <th>POSIX_ACCESS2_ACCESS</th>\n",
       "      <td>6479.626682</td>\n",
       "      <td>5.0</td>\n",
       "      <td>5.0</td>\n",
       "    </tr>\n",
       "    <tr>\n",
       "      <th>...</th>\n",
       "      <td>...</td>\n",
       "      <td>...</td>\n",
       "      <td>...</td>\n",
       "    </tr>\n",
       "    <tr>\n",
       "      <th>READ_1K_10K</th>\n",
       "      <td>-578.440659</td>\n",
       "      <td>93.0</td>\n",
       "      <td>63.0</td>\n",
       "    </tr>\n",
       "    <tr>\n",
       "      <th>POSIX_SIZE_READ_1K_10K</th>\n",
       "      <td>-615.256061</td>\n",
       "      <td>94.0</td>\n",
       "      <td>62.0</td>\n",
       "    </tr>\n",
       "    <tr>\n",
       "      <th>POSIX_SLOWEST_RANK</th>\n",
       "      <td>-970.510207</td>\n",
       "      <td>95.0</td>\n",
       "      <td>43.0</td>\n",
       "    </tr>\n",
       "    <tr>\n",
       "      <th>rank</th>\n",
       "      <td>-1369.661555</td>\n",
       "      <td>96.0</td>\n",
       "      <td>31.0</td>\n",
       "    </tr>\n",
       "    <tr>\n",
       "      <th>nprocs</th>\n",
       "      <td>-1459.844966</td>\n",
       "      <td>97.0</td>\n",
       "      <td>29.0</td>\n",
       "    </tr>\n",
       "  </tbody>\n",
       "</table>\n",
       "<p>97 rows × 3 columns</p>\n",
       "</div>"
      ],
      "text/plain": [
       "                           avg_attribution_coeff  relative_order  \\\n",
       "POSIX_F_META_TIME                   39682.842085             1.0   \n",
       "POSIX_F_READ_TIME                   18711.590626             2.0   \n",
       "POSIX_TOTAL_TIME                    18379.645688             3.0   \n",
       "POSIX_MAX_WRITE_TIME_SIZE            8744.312691             4.0   \n",
       "POSIX_ACCESS2_ACCESS                 6479.626682             5.0   \n",
       "...                                          ...             ...   \n",
       "READ_1K_10K                          -578.440659            93.0   \n",
       "POSIX_SIZE_READ_1K_10K               -615.256061            94.0   \n",
       "POSIX_SLOWEST_RANK                   -970.510207            95.0   \n",
       "rank                                -1369.661555            96.0   \n",
       "nprocs                              -1459.844966            97.0   \n",
       "\n",
       "                           feature_importance_rank  \n",
       "POSIX_F_META_TIME                              1.0  \n",
       "POSIX_F_READ_TIME                              2.0  \n",
       "POSIX_TOTAL_TIME                               3.0  \n",
       "POSIX_MAX_WRITE_TIME_SIZE                      4.0  \n",
       "POSIX_ACCESS2_ACCESS                           5.0  \n",
       "...                                            ...  \n",
       "READ_1K_10K                                   63.0  \n",
       "POSIX_SIZE_READ_1K_10K                        62.0  \n",
       "POSIX_SLOWEST_RANK                            43.0  \n",
       "rank                                          31.0  \n",
       "nprocs                                        29.0  \n",
       "\n",
       "[97 rows x 3 columns]"
      ]
     },
     "execution_count": 289,
     "metadata": {},
     "output_type": "execute_result"
    }
   ],
   "source": [
    "aggregated_feature_attributions_avg = rank_features_by_importance(add_relative_order_of_features(aggregated_feature_attributions_avg.mean(axis=1).to_frame(\"avg_attribution_coeff\")))\n",
    "aggregated_feature_attributions_avg"
   ]
  }
 ],
 "metadata": {
  "kernelspec": {
   "display_name": "Python 3.9.12 ('pytorch-1.11-cpu': conda)",
   "language": "python",
   "name": "python3"
  },
  "language_info": {
   "codemirror_mode": {
    "name": "ipython",
    "version": 3
   },
   "file_extension": ".py",
   "mimetype": "text/x-python",
   "name": "python",
   "nbconvert_exporter": "python",
   "pygments_lexer": "ipython3",
   "version": "3.9.12"
  },
  "vscode": {
   "interpreter": {
    "hash": "811b443dd8d422ffa9941c612fbf9ea011d398d2eeb82bbb146d54a584e27f79"
   }
  }
 },
 "nbformat": 4,
 "nbformat_minor": 5
}
