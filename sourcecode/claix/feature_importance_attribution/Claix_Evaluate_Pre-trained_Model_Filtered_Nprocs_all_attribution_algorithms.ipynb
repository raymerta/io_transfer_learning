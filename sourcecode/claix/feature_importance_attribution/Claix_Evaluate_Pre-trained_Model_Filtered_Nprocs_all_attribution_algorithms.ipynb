{
 "cells": [
  {
   "cell_type": "code",
   "execution_count": 3,
   "id": "525d92ca",
   "metadata": {
    "pycharm": {
     "name": "#%%\n"
    },
    "tags": []
   },
   "outputs": [],
   "source": [
    "import pandas as pd\n",
    "from pathlib import Path\n",
    "import numpy as np\n",
    "import random\n",
    "\n",
    "from sklearn.preprocessing import StandardScaler"
   ]
  },
  {
   "cell_type": "code",
   "execution_count": 4,
   "id": "1f0c20a7-106e-4151-b7ed-3939c2d81a52",
   "metadata": {
    "pycharm": {
     "name": "#%%\n"
    }
   },
   "outputs": [],
   "source": [
    "import torch.nn as nn\n",
    "import torch.optim as optim\n",
    "from torch.utils.data import TensorDataset, DataLoader\n",
    "import torch"
   ]
  },
  {
   "cell_type": "code",
   "execution_count": 5,
   "id": "f73f196c-7ac1-4796-9f4d-9c641b82beee",
   "metadata": {
    "collapsed": false,
    "jupyter": {
     "outputs_hidden": false
    },
    "pycharm": {
     "name": "#%%\n"
    }
   },
   "outputs": [
    {
     "name": "stdout",
     "output_type": "stream",
     "text": [
      "Using cuda\n"
     ]
    }
   ],
   "source": [
    "device = \"cuda\" if torch.cuda.is_available() else \"cpu\"\n",
    "print(f\"Using {device}\")"
   ]
  },
  {
   "cell_type": "code",
   "execution_count": 7,
   "id": "21e4359d",
   "metadata": {
    "pycharm": {
     "name": "#%%\n"
    }
   },
   "outputs": [],
   "source": [
    "from captum.attr import IntegratedGradients, DeepLift, GradientShap, NoiseTunnel, FeatureAblation, FeaturePermutation, GuidedBackprop, Saliency, InputXGradient, ShapleyValueSampling\n",
    "\n",
    "from captum.metrics import sensitivity_max, infidelity"
   ]
  },
  {
   "cell_type": "code",
   "execution_count": 8,
   "id": "534ee44d",
   "metadata": {
    "collapsed": false,
    "pycharm": {
     "name": "#%%\n"
    }
   },
   "outputs": [],
   "source": [
    "def annotate_attributions(attributions, columns):\n",
    "    return pd.DataFrame(attributions.cpu().detach().numpy(), columns = columns)"
   ]
  },
  {
   "cell_type": "code",
   "execution_count": 9,
   "id": "ed4f0a38",
   "metadata": {
    "collapsed": false,
    "pycharm": {
     "name": "#%%\n"
    }
   },
   "outputs": [],
   "source": [
    "def calculate_avg_attributions(attributions, axis=0):\n",
    "    return attributions.mean(axis=axis).sort_values(ascending=False).to_frame(name=\"avg_attribution_coeff\")"
   ]
  },
  {
   "cell_type": "code",
   "execution_count": 10,
   "id": "7c4ac51f",
   "metadata": {
    "collapsed": false,
    "pycharm": {
     "name": "#%%\n"
    }
   },
   "outputs": [],
   "source": [
    "# Rank features by their absolute coefficient value to identify the most important ones\n",
    "def rank_features_by_importance(summarized_attributions_df):\n",
    "    summarized_attributions_df[\"abs_avg_attribution_coeff\"] = summarized_attributions_df[\"avg_attribution_coeff\"].abs()\n",
    "    summarized_attributions_df[\"feature_importance_rank\"] = summarized_attributions_df[\"abs_avg_attribution_coeff\"].rank(ascending=False)\n",
    "    summarized_attributions_df.drop([\"abs_avg_attribution_coeff\"], axis=1, inplace=True)\n",
    "\n",
    "    return summarized_attributions_df"
   ]
  },
  {
   "cell_type": "code",
   "execution_count": 11,
   "id": "82298412",
   "metadata": {
    "collapsed": false,
    "pycharm": {
     "name": "#%%\n"
    }
   },
   "outputs": [],
   "source": [
    "#For each feature, show its relative order (1 - most positive influence, n - least positive influence)\n",
    "def add_relative_order_of_features(summarized_attributions_df):\n",
    "    summarized_attributions_df = summarized_attributions_df.sort_values(by=\"avg_attribution_coeff\", ascending=False)\n",
    "    summarized_attributions_df[\"relative_order\"] = summarized_attributions_df.rank(ascending=False)\n",
    "\n",
    "    return summarized_attributions_df"
   ]
  },
  {
   "attachments": {},
   "cell_type": "markdown",
   "id": "5a0732e6",
   "metadata": {
    "collapsed": false,
    "pycharm": {
     "name": "#%% md\n"
    }
   },
   "source": [
    "### Download model artifact from a previous run"
   ]
  },
  {
   "cell_type": "code",
   "execution_count": 16,
   "id": "12962c48",
   "metadata": {
    "collapsed": false,
    "pycharm": {
     "name": "#%%\n"
    }
   },
   "outputs": [],
   "source": [
    "MODEL_FILENAME = \"SmoothL1Loss_fixed_Adamax_fewer_neurons_0.2_testSize_new_StandardScaler_2048_batch_0.008_lr_norm_4_16_48_64_144_240_nprocs_0.05_dropout_pytorch_v1.11.0.tar\"\n",
    "MODEL_DIR = rf\"/home/thes1067/models/blue_waters\"\n",
    "MODEL_PATH = Path(MODEL_DIR, MODEL_FILENAME)"
   ]
  },
  {
   "cell_type": "code",
   "execution_count": 17,
   "id": "73776be3",
   "metadata": {
    "collapsed": false,
    "pycharm": {
     "name": "#%%\n"
    }
   },
   "outputs": [],
   "source": [
    "DATASET_DIR = r\"/home/thes1067/data/claix_dataset\"\n",
    "DATASET_NAME = \"claix_posix_npb_4_16_64_nprocs_Ciao_C_1288.csv\"\n",
    "DATASET_PATH = Path(DATASET_DIR, DATASET_NAME)"
   ]
  },
  {
   "cell_type": "code",
   "execution_count": 19,
   "id": "7b218423",
   "metadata": {
    "collapsed": false,
    "pycharm": {
     "name": "#%%\n"
    }
   },
   "outputs": [
    {
     "data": {
      "text/plain": [
       "True"
      ]
     },
     "execution_count": 19,
     "metadata": {},
     "output_type": "execute_result"
    }
   ],
   "source": [
    "MODEL_PATH.is_file()"
   ]
  },
  {
   "attachments": {},
   "cell_type": "markdown",
   "id": "33074835",
   "metadata": {
    "pycharm": {
     "name": "#%% md\n"
    }
   },
   "source": [
    "## Load the model"
   ]
  },
  {
   "cell_type": "code",
   "execution_count": 20,
   "id": "49743cef",
   "metadata": {
    "pycharm": {
     "name": "#%%\n"
    }
   },
   "outputs": [],
   "source": [
    "bw_model = nn.Sequential(\n",
    "    nn.Linear(97, 2048),\n",
    "    nn.Dropout(p=0.05),\n",
    "    nn.ReLU(),\n",
    "    nn.Linear(2048, 512),\n",
    "    nn.Dropout(p=0.05),\n",
    "    nn.ReLU(),\n",
    "    nn.Linear(512, 128),\n",
    "    nn.Dropout(p=0.05),\n",
    "    nn.ReLU(),\n",
    "    nn.Linear(128, 1),\n",
    ").to(device)"
   ]
  },
  {
   "cell_type": "code",
   "execution_count": 21,
   "id": "0e4875e3",
   "metadata": {
    "pycharm": {
     "name": "#%%\n"
    },
    "tags": []
   },
   "outputs": [
    {
     "name": "stdout",
     "output_type": "stream",
     "text": [
      "Loading pretrained model...\n",
      "Current epoch: 599\n"
     ]
    }
   ],
   "source": [
    "print(\"Loading pretrained model...\")\n",
    "\n",
    "checkpoint = torch.load(MODEL_PATH, map_location=torch.device(device))\n",
    "bw_model.load_state_dict(checkpoint['model_state_dict'])\n",
    "model_epoch = checkpoint['epoch']\n",
    "\n",
    "print(f\"Current epoch: {model_epoch}\")"
   ]
  },
  {
   "cell_type": "code",
   "execution_count": 22,
   "id": "ba49b04c",
   "metadata": {
    "pycharm": {
     "name": "#%%\n"
    }
   },
   "outputs": [
    {
     "data": {
      "text/plain": [
       "Sequential(\n",
       "  (0): Linear(in_features=97, out_features=2048, bias=True)\n",
       "  (1): Dropout(p=0.05, inplace=False)\n",
       "  (2): ReLU()\n",
       "  (3): Linear(in_features=2048, out_features=512, bias=True)\n",
       "  (4): Dropout(p=0.05, inplace=False)\n",
       "  (5): ReLU()\n",
       "  (6): Linear(in_features=512, out_features=128, bias=True)\n",
       "  (7): Dropout(p=0.05, inplace=False)\n",
       "  (8): ReLU()\n",
       "  (9): Linear(in_features=128, out_features=1, bias=True)\n",
       ")"
      ]
     },
     "execution_count": 22,
     "metadata": {},
     "output_type": "execute_result"
    }
   ],
   "source": [
    "bw_model.eval()"
   ]
  },
  {
   "attachments": {},
   "cell_type": "markdown",
   "id": "4fac1bd8",
   "metadata": {
    "pycharm": {
     "name": "#%% md\n"
    }
   },
   "source": [
    "### Fix the seeds\n"
   ]
  },
  {
   "cell_type": "code",
   "execution_count": 23,
   "id": "2a457eca",
   "metadata": {
    "pycharm": {
     "name": "#%%\n"
    }
   },
   "outputs": [],
   "source": [
    "random_seed = 1234\n",
    "split_seed = 42\n",
    "\n",
    "random.seed(random_seed)\n",
    "np.random.seed(random_seed)\n",
    "\n",
    "torch.manual_seed(random_seed)\n",
    "torch.cuda.manual_seed_all(random_seed)\n",
    "\n",
    "# Set PyTorch to use deterministic algorithms if possible\n",
    "torch.backends.cudnn.deterministic = True\n",
    "torch.backends.cudnn.benchmark = False"
   ]
  },
  {
   "attachments": {},
   "cell_type": "markdown",
   "id": "b3568844-8e45-40fa-948e-700b4f21cbc7",
   "metadata": {
    "pycharm": {
     "name": "#%% md\n"
    }
   },
   "source": [
    "## Load the data"
   ]
  },
  {
   "cell_type": "code",
   "execution_count": 24,
   "id": "864d5d08-b055-40bc-b92b-e43d08ae0277",
   "metadata": {
    "pycharm": {
     "name": "#%%\n"
    }
   },
   "outputs": [],
   "source": [
    "df_claix_posix = pd.read_csv(DATASET_PATH)"
   ]
  },
  {
   "cell_type": "code",
   "execution_count": 25,
   "id": "dbf45020-3029-41a1-9fbd-505a649b3107",
   "metadata": {
    "pycharm": {
     "name": "#%%\n"
    }
   },
   "outputs": [
    {
     "data": {
      "text/plain": [
       "1163"
      ]
     },
     "execution_count": 25,
     "metadata": {},
     "output_type": "execute_result"
    }
   ],
   "source": [
    "len(df_claix_posix)"
   ]
  },
  {
   "cell_type": "code",
   "execution_count": 26,
   "id": "5d87718d-8351-4bde-a45c-8c95e0c494e1",
   "metadata": {
    "pycharm": {
     "name": "#%%\n"
    }
   },
   "outputs": [
    {
     "data": {
      "text/html": [
       "<div>\n",
       "<style scoped>\n",
       "    .dataframe tbody tr th:only-of-type {\n",
       "        vertical-align: middle;\n",
       "    }\n",
       "\n",
       "    .dataframe tbody tr th {\n",
       "        vertical-align: top;\n",
       "    }\n",
       "\n",
       "    .dataframe thead th {\n",
       "        text-align: right;\n",
       "    }\n",
       "</style>\n",
       "<table border=\"1\" class=\"dataframe\">\n",
       "  <thead>\n",
       "    <tr style=\"text-align: right;\">\n",
       "      <th></th>\n",
       "      <th>POSIX_OPENS</th>\n",
       "      <th>POSIX_FILENOS</th>\n",
       "      <th>POSIX_DUPS</th>\n",
       "      <th>POSIX_READS</th>\n",
       "      <th>POSIX_WRITES</th>\n",
       "      <th>POSIX_SEEKS</th>\n",
       "      <th>POSIX_STATS</th>\n",
       "      <th>POSIX_MMAPS</th>\n",
       "      <th>POSIX_FSYNCS</th>\n",
       "      <th>POSIX_FDSYNCS</th>\n",
       "      <th>...</th>\n",
       "      <th>POSIX_F_VARIANCE_RANK_TIME</th>\n",
       "      <th>POSIX_F_VARIANCE_RANK_BYTES</th>\n",
       "      <th>uid</th>\n",
       "      <th>start_time</th>\n",
       "      <th>end_time</th>\n",
       "      <th>nprocs</th>\n",
       "      <th>jobid</th>\n",
       "      <th>lib_ver</th>\n",
       "      <th>hints</th>\n",
       "      <th>bandwidth</th>\n",
       "    </tr>\n",
       "  </thead>\n",
       "  <tbody>\n",
       "    <tr>\n",
       "      <th>0</th>\n",
       "      <td>32</td>\n",
       "      <td>0</td>\n",
       "      <td>0</td>\n",
       "      <td>440</td>\n",
       "      <td>440</td>\n",
       "      <td>78</td>\n",
       "      <td>0</td>\n",
       "      <td>-1</td>\n",
       "      <td>0</td>\n",
       "      <td>0</td>\n",
       "      <td>...</td>\n",
       "      <td>2.520036</td>\n",
       "      <td>1.084529e+19</td>\n",
       "      <td>38849</td>\n",
       "      <td>2022-07-26 20:10:07</td>\n",
       "      <td>2022-07-26 20:11:18</td>\n",
       "      <td>16</td>\n",
       "      <td>28860382</td>\n",
       "      <td>3.3.1</td>\n",
       "      <td>romio_no_indep_rw=true;cb_nodes=4</td>\n",
       "      <td>1971.700985</td>\n",
       "    </tr>\n",
       "    <tr>\n",
       "      <th>1</th>\n",
       "      <td>32</td>\n",
       "      <td>0</td>\n",
       "      <td>0</td>\n",
       "      <td>440</td>\n",
       "      <td>440</td>\n",
       "      <td>78</td>\n",
       "      <td>0</td>\n",
       "      <td>-1</td>\n",
       "      <td>0</td>\n",
       "      <td>0</td>\n",
       "      <td>...</td>\n",
       "      <td>2.567556</td>\n",
       "      <td>1.084529e+19</td>\n",
       "      <td>38849</td>\n",
       "      <td>2022-07-25 23:45:34</td>\n",
       "      <td>2022-07-25 23:46:49</td>\n",
       "      <td>16</td>\n",
       "      <td>28845229</td>\n",
       "      <td>3.3.1</td>\n",
       "      <td>romio_no_indep_rw=true;cb_nodes=4</td>\n",
       "      <td>1952.503983</td>\n",
       "    </tr>\n",
       "    <tr>\n",
       "      <th>2</th>\n",
       "      <td>32</td>\n",
       "      <td>0</td>\n",
       "      <td>0</td>\n",
       "      <td>440</td>\n",
       "      <td>440</td>\n",
       "      <td>78</td>\n",
       "      <td>0</td>\n",
       "      <td>-1</td>\n",
       "      <td>0</td>\n",
       "      <td>0</td>\n",
       "      <td>...</td>\n",
       "      <td>2.458673</td>\n",
       "      <td>1.084529e+19</td>\n",
       "      <td>38849</td>\n",
       "      <td>2022-07-26 20:52:45</td>\n",
       "      <td>2022-07-26 20:53:56</td>\n",
       "      <td>16</td>\n",
       "      <td>28860382</td>\n",
       "      <td>3.3.1</td>\n",
       "      <td>romio_no_indep_rw=true;cb_nodes=4</td>\n",
       "      <td>1996.763339</td>\n",
       "    </tr>\n",
       "    <tr>\n",
       "      <th>3</th>\n",
       "      <td>32</td>\n",
       "      <td>0</td>\n",
       "      <td>0</td>\n",
       "      <td>440</td>\n",
       "      <td>440</td>\n",
       "      <td>78</td>\n",
       "      <td>0</td>\n",
       "      <td>-1</td>\n",
       "      <td>0</td>\n",
       "      <td>0</td>\n",
       "      <td>...</td>\n",
       "      <td>2.409477</td>\n",
       "      <td>1.084529e+19</td>\n",
       "      <td>38849</td>\n",
       "      <td>2022-07-26 21:41:19</td>\n",
       "      <td>2022-07-26 21:42:29</td>\n",
       "      <td>16</td>\n",
       "      <td>28860382</td>\n",
       "      <td>3.3.1</td>\n",
       "      <td>romio_no_indep_rw=true;cb_nodes=4</td>\n",
       "      <td>2017.040999</td>\n",
       "    </tr>\n",
       "    <tr>\n",
       "      <th>4</th>\n",
       "      <td>32</td>\n",
       "      <td>0</td>\n",
       "      <td>0</td>\n",
       "      <td>440</td>\n",
       "      <td>440</td>\n",
       "      <td>78</td>\n",
       "      <td>0</td>\n",
       "      <td>-1</td>\n",
       "      <td>0</td>\n",
       "      <td>0</td>\n",
       "      <td>...</td>\n",
       "      <td>2.466827</td>\n",
       "      <td>1.084529e+19</td>\n",
       "      <td>38849</td>\n",
       "      <td>2022-07-26 18:02:28</td>\n",
       "      <td>2022-07-26 18:03:39</td>\n",
       "      <td>16</td>\n",
       "      <td>28860381</td>\n",
       "      <td>3.3.1</td>\n",
       "      <td>romio_no_indep_rw=true;cb_nodes=4</td>\n",
       "      <td>1992.351330</td>\n",
       "    </tr>\n",
       "  </tbody>\n",
       "</table>\n",
       "<p>5 rows × 108 columns</p>\n",
       "</div>"
      ],
      "text/plain": [
       "   POSIX_OPENS  POSIX_FILENOS  POSIX_DUPS  POSIX_READS  POSIX_WRITES  \\\n",
       "0           32              0           0          440           440   \n",
       "1           32              0           0          440           440   \n",
       "2           32              0           0          440           440   \n",
       "3           32              0           0          440           440   \n",
       "4           32              0           0          440           440   \n",
       "\n",
       "   POSIX_SEEKS  POSIX_STATS  POSIX_MMAPS  POSIX_FSYNCS  POSIX_FDSYNCS  ...  \\\n",
       "0           78            0           -1             0              0  ...   \n",
       "1           78            0           -1             0              0  ...   \n",
       "2           78            0           -1             0              0  ...   \n",
       "3           78            0           -1             0              0  ...   \n",
       "4           78            0           -1             0              0  ...   \n",
       "\n",
       "   POSIX_F_VARIANCE_RANK_TIME  POSIX_F_VARIANCE_RANK_BYTES    uid  \\\n",
       "0                    2.520036                 1.084529e+19  38849   \n",
       "1                    2.567556                 1.084529e+19  38849   \n",
       "2                    2.458673                 1.084529e+19  38849   \n",
       "3                    2.409477                 1.084529e+19  38849   \n",
       "4                    2.466827                 1.084529e+19  38849   \n",
       "\n",
       "            start_time             end_time  nprocs     jobid  lib_ver  \\\n",
       "0  2022-07-26 20:10:07  2022-07-26 20:11:18      16  28860382    3.3.1   \n",
       "1  2022-07-25 23:45:34  2022-07-25 23:46:49      16  28845229    3.3.1   \n",
       "2  2022-07-26 20:52:45  2022-07-26 20:53:56      16  28860382    3.3.1   \n",
       "3  2022-07-26 21:41:19  2022-07-26 21:42:29      16  28860382    3.3.1   \n",
       "4  2022-07-26 18:02:28  2022-07-26 18:03:39      16  28860381    3.3.1   \n",
       "\n",
       "                               hints    bandwidth  \n",
       "0  romio_no_indep_rw=true;cb_nodes=4  1971.700985  \n",
       "1  romio_no_indep_rw=true;cb_nodes=4  1952.503983  \n",
       "2  romio_no_indep_rw=true;cb_nodes=4  1996.763339  \n",
       "3  romio_no_indep_rw=true;cb_nodes=4  2017.040999  \n",
       "4  romio_no_indep_rw=true;cb_nodes=4  1992.351330  \n",
       "\n",
       "[5 rows x 108 columns]"
      ]
     },
     "execution_count": 26,
     "metadata": {},
     "output_type": "execute_result"
    }
   ],
   "source": [
    "df_claix_posix.head()"
   ]
  },
  {
   "attachments": {},
   "cell_type": "markdown",
   "id": "0e872522-3b30-46fc-8b77-23417e333eb5",
   "metadata": {
    "pycharm": {
     "name": "#%% md\n"
    }
   },
   "source": [
    "### Drop the non-invariant columns"
   ]
  },
  {
   "cell_type": "code",
   "execution_count": 27,
   "id": "b4c029ec-622d-4618-8340-1023d4a87537",
   "metadata": {
    "pycharm": {
     "name": "#%%\n"
    },
    "tags": []
   },
   "outputs": [],
   "source": [
    "df_claix_posix = df_claix_posix.drop(['uid', 'jobid', 'hints', 'start_time', 'end_time', 'lib_ver'],\n",
    "                                                               axis=1)"
   ]
  },
  {
   "attachments": {},
   "cell_type": "markdown",
   "id": "15024a34",
   "metadata": {
    "pycharm": {
     "name": "#%% md\n"
    }
   },
   "source": [
    "### Drop columns to match the Blue Waters dataset on which the model was trained"
   ]
  },
  {
   "cell_type": "code",
   "execution_count": 28,
   "id": "edd27d13",
   "metadata": {
    "pycharm": {
     "name": "#%%\n"
    }
   },
   "outputs": [],
   "source": [
    "df_claix_posix = df_claix_posix.drop(['POSIX_FDSYNCS',\n",
    "                                        'POSIX_RENAMED_FROM',\n",
    "                                        'POSIX_F_VARIANCE_RANK_TIME',\n",
    "                                        'POSIX_F_VARIANCE_RANK_BYTES'],\n",
    "                                        axis=1)\t\t\t"
   ]
  },
  {
   "attachments": {},
   "cell_type": "markdown",
   "id": "a8354bd2-dae7-4f01-bdd7-873963929f7f",
   "metadata": {
    "pycharm": {
     "name": "#%% md\n"
    }
   },
   "source": [
    "### Separate bandwidth from input features"
   ]
  },
  {
   "cell_type": "code",
   "execution_count": 29,
   "id": "1a0efb2e-b687-46c1-824c-656a490ca2db",
   "metadata": {
    "pycharm": {
     "name": "#%%\n"
    }
   },
   "outputs": [
    {
     "data": {
      "text/html": [
       "<div>\n",
       "<style scoped>\n",
       "    .dataframe tbody tr th:only-of-type {\n",
       "        vertical-align: middle;\n",
       "    }\n",
       "\n",
       "    .dataframe tbody tr th {\n",
       "        vertical-align: top;\n",
       "    }\n",
       "\n",
       "    .dataframe thead th {\n",
       "        text-align: right;\n",
       "    }\n",
       "</style>\n",
       "<table border=\"1\" class=\"dataframe\">\n",
       "  <thead>\n",
       "    <tr style=\"text-align: right;\">\n",
       "      <th></th>\n",
       "      <th>POSIX_OPENS</th>\n",
       "      <th>POSIX_FILENOS</th>\n",
       "      <th>POSIX_DUPS</th>\n",
       "      <th>POSIX_READS</th>\n",
       "      <th>POSIX_WRITES</th>\n",
       "      <th>POSIX_SEEKS</th>\n",
       "      <th>POSIX_STATS</th>\n",
       "      <th>POSIX_MMAPS</th>\n",
       "      <th>POSIX_FSYNCS</th>\n",
       "      <th>POSIX_RENAME_SOURCES</th>\n",
       "      <th>...</th>\n",
       "      <th>rank</th>\n",
       "      <th>POSIX_F_READ_TIME</th>\n",
       "      <th>POSIX_F_WRITE_TIME</th>\n",
       "      <th>POSIX_F_META_TIME</th>\n",
       "      <th>POSIX_TOTAL_TIME</th>\n",
       "      <th>POSIX_F_MAX_READ_TIME</th>\n",
       "      <th>POSIX_F_MAX_WRITE_TIME</th>\n",
       "      <th>POSIX_F_FASTEST_RANK_TIME</th>\n",
       "      <th>POSIX_F_SLOWEST_RANK_TIME</th>\n",
       "      <th>nprocs</th>\n",
       "    </tr>\n",
       "  </thead>\n",
       "  <tbody>\n",
       "    <tr>\n",
       "      <th>0</th>\n",
       "      <td>32</td>\n",
       "      <td>0</td>\n",
       "      <td>0</td>\n",
       "      <td>440</td>\n",
       "      <td>440</td>\n",
       "      <td>78</td>\n",
       "      <td>0</td>\n",
       "      <td>-1</td>\n",
       "      <td>0</td>\n",
       "      <td>0</td>\n",
       "      <td>...</td>\n",
       "      <td>-1</td>\n",
       "      <td>1.396742</td>\n",
       "      <td>5.161620</td>\n",
       "      <td>0.022065</td>\n",
       "      <td>6.580427</td>\n",
       "      <td>0.005862</td>\n",
       "      <td>0.155172</td>\n",
       "      <td>0.000530</td>\n",
       "      <td>6.559490</td>\n",
       "      <td>16</td>\n",
       "    </tr>\n",
       "    <tr>\n",
       "      <th>1</th>\n",
       "      <td>32</td>\n",
       "      <td>0</td>\n",
       "      <td>0</td>\n",
       "      <td>440</td>\n",
       "      <td>440</td>\n",
       "      <td>78</td>\n",
       "      <td>0</td>\n",
       "      <td>-1</td>\n",
       "      <td>0</td>\n",
       "      <td>0</td>\n",
       "      <td>...</td>\n",
       "      <td>-1</td>\n",
       "      <td>1.388736</td>\n",
       "      <td>5.230402</td>\n",
       "      <td>0.025987</td>\n",
       "      <td>6.645125</td>\n",
       "      <td>0.005642</td>\n",
       "      <td>0.016469</td>\n",
       "      <td>0.000806</td>\n",
       "      <td>6.621231</td>\n",
       "      <td>16</td>\n",
       "    </tr>\n",
       "    <tr>\n",
       "      <th>2</th>\n",
       "      <td>32</td>\n",
       "      <td>0</td>\n",
       "      <td>0</td>\n",
       "      <td>440</td>\n",
       "      <td>440</td>\n",
       "      <td>78</td>\n",
       "      <td>0</td>\n",
       "      <td>-1</td>\n",
       "      <td>0</td>\n",
       "      <td>0</td>\n",
       "      <td>...</td>\n",
       "      <td>-1</td>\n",
       "      <td>1.374670</td>\n",
       "      <td>5.102114</td>\n",
       "      <td>0.021048</td>\n",
       "      <td>6.497833</td>\n",
       "      <td>0.006568</td>\n",
       "      <td>0.130111</td>\n",
       "      <td>0.000555</td>\n",
       "      <td>6.479013</td>\n",
       "      <td>16</td>\n",
       "    </tr>\n",
       "    <tr>\n",
       "      <th>3</th>\n",
       "      <td>32</td>\n",
       "      <td>0</td>\n",
       "      <td>0</td>\n",
       "      <td>440</td>\n",
       "      <td>440</td>\n",
       "      <td>78</td>\n",
       "      <td>0</td>\n",
       "      <td>-1</td>\n",
       "      <td>0</td>\n",
       "      <td>0</td>\n",
       "      <td>...</td>\n",
       "      <td>-1</td>\n",
       "      <td>1.382730</td>\n",
       "      <td>5.028884</td>\n",
       "      <td>0.020894</td>\n",
       "      <td>6.432509</td>\n",
       "      <td>0.006548</td>\n",
       "      <td>0.017362</td>\n",
       "      <td>0.000570</td>\n",
       "      <td>6.413866</td>\n",
       "      <td>16</td>\n",
       "    </tr>\n",
       "    <tr>\n",
       "      <th>4</th>\n",
       "      <td>32</td>\n",
       "      <td>0</td>\n",
       "      <td>0</td>\n",
       "      <td>440</td>\n",
       "      <td>440</td>\n",
       "      <td>78</td>\n",
       "      <td>0</td>\n",
       "      <td>-1</td>\n",
       "      <td>0</td>\n",
       "      <td>0</td>\n",
       "      <td>...</td>\n",
       "      <td>-1</td>\n",
       "      <td>1.392669</td>\n",
       "      <td>5.095290</td>\n",
       "      <td>0.024262</td>\n",
       "      <td>6.512222</td>\n",
       "      <td>0.006047</td>\n",
       "      <td>0.083048</td>\n",
       "      <td>0.000641</td>\n",
       "      <td>6.489974</td>\n",
       "      <td>16</td>\n",
       "    </tr>\n",
       "    <tr>\n",
       "      <th>...</th>\n",
       "      <td>...</td>\n",
       "      <td>...</td>\n",
       "      <td>...</td>\n",
       "      <td>...</td>\n",
       "      <td>...</td>\n",
       "      <td>...</td>\n",
       "      <td>...</td>\n",
       "      <td>...</td>\n",
       "      <td>...</td>\n",
       "      <td>...</td>\n",
       "      <td>...</td>\n",
       "      <td>...</td>\n",
       "      <td>...</td>\n",
       "      <td>...</td>\n",
       "      <td>...</td>\n",
       "      <td>...</td>\n",
       "      <td>...</td>\n",
       "      <td>...</td>\n",
       "      <td>...</td>\n",
       "      <td>...</td>\n",
       "      <td>...</td>\n",
       "    </tr>\n",
       "    <tr>\n",
       "      <th>1158</th>\n",
       "      <td>8</td>\n",
       "      <td>0</td>\n",
       "      <td>0</td>\n",
       "      <td>440</td>\n",
       "      <td>440</td>\n",
       "      <td>78</td>\n",
       "      <td>0</td>\n",
       "      <td>-1</td>\n",
       "      <td>0</td>\n",
       "      <td>0</td>\n",
       "      <td>...</td>\n",
       "      <td>-1</td>\n",
       "      <td>1.408159</td>\n",
       "      <td>4.991706</td>\n",
       "      <td>0.003280</td>\n",
       "      <td>6.403145</td>\n",
       "      <td>0.005342</td>\n",
       "      <td>0.089964</td>\n",
       "      <td>0.000726</td>\n",
       "      <td>6.400820</td>\n",
       "      <td>4</td>\n",
       "    </tr>\n",
       "    <tr>\n",
       "      <th>1159</th>\n",
       "      <td>8</td>\n",
       "      <td>0</td>\n",
       "      <td>0</td>\n",
       "      <td>440</td>\n",
       "      <td>440</td>\n",
       "      <td>78</td>\n",
       "      <td>0</td>\n",
       "      <td>-1</td>\n",
       "      <td>0</td>\n",
       "      <td>0</td>\n",
       "      <td>...</td>\n",
       "      <td>-1</td>\n",
       "      <td>1.421173</td>\n",
       "      <td>5.007220</td>\n",
       "      <td>0.003163</td>\n",
       "      <td>6.431556</td>\n",
       "      <td>0.005848</td>\n",
       "      <td>0.090479</td>\n",
       "      <td>0.000674</td>\n",
       "      <td>6.429183</td>\n",
       "      <td>4</td>\n",
       "    </tr>\n",
       "    <tr>\n",
       "      <th>1160</th>\n",
       "      <td>3248</td>\n",
       "      <td>2542</td>\n",
       "      <td>0</td>\n",
       "      <td>107198</td>\n",
       "      <td>9041</td>\n",
       "      <td>78248</td>\n",
       "      <td>397</td>\n",
       "      <td>-43</td>\n",
       "      <td>0</td>\n",
       "      <td>0</td>\n",
       "      <td>...</td>\n",
       "      <td>-1</td>\n",
       "      <td>284.566834</td>\n",
       "      <td>198.561634</td>\n",
       "      <td>0.594587</td>\n",
       "      <td>483.723055</td>\n",
       "      <td>1.709868</td>\n",
       "      <td>0.548601</td>\n",
       "      <td>0.000000</td>\n",
       "      <td>14.079545</td>\n",
       "      <td>48</td>\n",
       "    </tr>\n",
       "    <tr>\n",
       "      <th>1161</th>\n",
       "      <td>16112</td>\n",
       "      <td>12718</td>\n",
       "      <td>0</td>\n",
       "      <td>389198</td>\n",
       "      <td>35189</td>\n",
       "      <td>236638</td>\n",
       "      <td>1933</td>\n",
       "      <td>-43</td>\n",
       "      <td>0</td>\n",
       "      <td>0</td>\n",
       "      <td>...</td>\n",
       "      <td>-1</td>\n",
       "      <td>2329.200567</td>\n",
       "      <td>100.632465</td>\n",
       "      <td>3.125118</td>\n",
       "      <td>2432.958150</td>\n",
       "      <td>1.931765</td>\n",
       "      <td>0.226163</td>\n",
       "      <td>0.000000</td>\n",
       "      <td>17.771790</td>\n",
       "      <td>240</td>\n",
       "    </tr>\n",
       "    <tr>\n",
       "      <th>1162</th>\n",
       "      <td>8</td>\n",
       "      <td>0</td>\n",
       "      <td>0</td>\n",
       "      <td>440</td>\n",
       "      <td>440</td>\n",
       "      <td>78</td>\n",
       "      <td>0</td>\n",
       "      <td>-1</td>\n",
       "      <td>0</td>\n",
       "      <td>0</td>\n",
       "      <td>...</td>\n",
       "      <td>-1</td>\n",
       "      <td>1.455455</td>\n",
       "      <td>4.972493</td>\n",
       "      <td>0.003468</td>\n",
       "      <td>6.431416</td>\n",
       "      <td>0.005511</td>\n",
       "      <td>0.092336</td>\n",
       "      <td>0.000721</td>\n",
       "      <td>6.428901</td>\n",
       "      <td>4</td>\n",
       "    </tr>\n",
       "  </tbody>\n",
       "</table>\n",
       "<p>1163 rows × 97 columns</p>\n",
       "</div>"
      ],
      "text/plain": [
       "      POSIX_OPENS  POSIX_FILENOS  POSIX_DUPS  POSIX_READS  POSIX_WRITES  \\\n",
       "0              32              0           0          440           440   \n",
       "1              32              0           0          440           440   \n",
       "2              32              0           0          440           440   \n",
       "3              32              0           0          440           440   \n",
       "4              32              0           0          440           440   \n",
       "...           ...            ...         ...          ...           ...   \n",
       "1158            8              0           0          440           440   \n",
       "1159            8              0           0          440           440   \n",
       "1160         3248           2542           0       107198          9041   \n",
       "1161        16112          12718           0       389198         35189   \n",
       "1162            8              0           0          440           440   \n",
       "\n",
       "      POSIX_SEEKS  POSIX_STATS  POSIX_MMAPS  POSIX_FSYNCS  \\\n",
       "0              78            0           -1             0   \n",
       "1              78            0           -1             0   \n",
       "2              78            0           -1             0   \n",
       "3              78            0           -1             0   \n",
       "4              78            0           -1             0   \n",
       "...           ...          ...          ...           ...   \n",
       "1158           78            0           -1             0   \n",
       "1159           78            0           -1             0   \n",
       "1160        78248          397          -43             0   \n",
       "1161       236638         1933          -43             0   \n",
       "1162           78            0           -1             0   \n",
       "\n",
       "      POSIX_RENAME_SOURCES  ...  rank  POSIX_F_READ_TIME  POSIX_F_WRITE_TIME  \\\n",
       "0                        0  ...    -1           1.396742            5.161620   \n",
       "1                        0  ...    -1           1.388736            5.230402   \n",
       "2                        0  ...    -1           1.374670            5.102114   \n",
       "3                        0  ...    -1           1.382730            5.028884   \n",
       "4                        0  ...    -1           1.392669            5.095290   \n",
       "...                    ...  ...   ...                ...                 ...   \n",
       "1158                     0  ...    -1           1.408159            4.991706   \n",
       "1159                     0  ...    -1           1.421173            5.007220   \n",
       "1160                     0  ...    -1         284.566834          198.561634   \n",
       "1161                     0  ...    -1        2329.200567          100.632465   \n",
       "1162                     0  ...    -1           1.455455            4.972493   \n",
       "\n",
       "      POSIX_F_META_TIME  POSIX_TOTAL_TIME  POSIX_F_MAX_READ_TIME  \\\n",
       "0              0.022065          6.580427               0.005862   \n",
       "1              0.025987          6.645125               0.005642   \n",
       "2              0.021048          6.497833               0.006568   \n",
       "3              0.020894          6.432509               0.006548   \n",
       "4              0.024262          6.512222               0.006047   \n",
       "...                 ...               ...                    ...   \n",
       "1158           0.003280          6.403145               0.005342   \n",
       "1159           0.003163          6.431556               0.005848   \n",
       "1160           0.594587        483.723055               1.709868   \n",
       "1161           3.125118       2432.958150               1.931765   \n",
       "1162           0.003468          6.431416               0.005511   \n",
       "\n",
       "      POSIX_F_MAX_WRITE_TIME  POSIX_F_FASTEST_RANK_TIME  \\\n",
       "0                   0.155172                   0.000530   \n",
       "1                   0.016469                   0.000806   \n",
       "2                   0.130111                   0.000555   \n",
       "3                   0.017362                   0.000570   \n",
       "4                   0.083048                   0.000641   \n",
       "...                      ...                        ...   \n",
       "1158                0.089964                   0.000726   \n",
       "1159                0.090479                   0.000674   \n",
       "1160                0.548601                   0.000000   \n",
       "1161                0.226163                   0.000000   \n",
       "1162                0.092336                   0.000721   \n",
       "\n",
       "      POSIX_F_SLOWEST_RANK_TIME  nprocs  \n",
       "0                      6.559490      16  \n",
       "1                      6.621231      16  \n",
       "2                      6.479013      16  \n",
       "3                      6.413866      16  \n",
       "4                      6.489974      16  \n",
       "...                         ...     ...  \n",
       "1158                   6.400820       4  \n",
       "1159                   6.429183       4  \n",
       "1160                  14.079545      48  \n",
       "1161                  17.771790     240  \n",
       "1162                   6.428901       4  \n",
       "\n",
       "[1163 rows x 97 columns]"
      ]
     },
     "execution_count": 29,
     "metadata": {},
     "output_type": "execute_result"
    }
   ],
   "source": [
    "df_bandwidth = df_claix_posix.pop('bandwidth')\n",
    "df_claix_posix"
   ]
  },
  {
   "cell_type": "code",
   "execution_count": 30,
   "id": "2beb6b5d",
   "metadata": {
    "collapsed": false,
    "pycharm": {
     "name": "#%%\n"
    }
   },
   "outputs": [
    {
     "data": {
      "text/plain": [
       "count    1163.000000\n",
       "mean     1814.994168\n",
       "std       393.298187\n",
       "min         0.084217\n",
       "25%      1953.342184\n",
       "50%      1986.288164\n",
       "75%      2007.708468\n",
       "max      2070.166839\n",
       "Name: bandwidth, dtype: float64"
      ]
     },
     "execution_count": 30,
     "metadata": {},
     "output_type": "execute_result"
    }
   ],
   "source": [
    "df_bandwidth.describe()"
   ]
  },
  {
   "attachments": {},
   "cell_type": "markdown",
   "id": "04001d67",
   "metadata": {
    "pycharm": {
     "name": "#%% md\n"
    }
   },
   "source": [
    "### Split the Claix data into the train/test pair"
   ]
  },
  {
   "cell_type": "code",
   "execution_count": 34,
   "id": "1f53305c",
   "metadata": {
    "pycharm": {
     "name": "#%%\n"
    }
   },
   "outputs": [],
   "source": [
    "X = df_claix_posix.to_numpy()"
   ]
  },
  {
   "attachments": {},
   "cell_type": "markdown",
   "id": "e831d9c5",
   "metadata": {
    "pycharm": {
     "name": "#%% md\n"
    }
   },
   "source": [
    "### Scale the input features"
   ]
  },
  {
   "cell_type": "code",
   "execution_count": 36,
   "id": "40ee39e4",
   "metadata": {
    "collapsed": false,
    "pycharm": {
     "name": "#%%\n"
    }
   },
   "outputs": [],
   "source": [
    "scaler = StandardScaler().fit(X)\n",
    "X_scaled = scaler.transform(X)"
   ]
  },
  {
   "cell_type": "code",
   "execution_count": 37,
   "id": "4b60948d",
   "metadata": {
    "pycharm": {
     "name": "#%%\n"
    }
   },
   "outputs": [],
   "source": [
    "tensor_X = torch.Tensor(X_scaled).to(device)\n",
    "tensor_y = torch.Tensor(df_bandwidth.to_numpy()).view(-1, 1).to(device) "
   ]
  },
  {
   "attachments": {},
   "cell_type": "markdown",
   "id": "0f38f3f3-6cdc-498a-bad8-c0bded54d9b6",
   "metadata": {
    "pycharm": {
     "name": "#%% md\n"
    }
   },
   "source": [
    "## Use Integrated Gradients to attribute the importance to the features"
   ]
  },
  {
   "cell_type": "code",
   "execution_count": 43,
   "id": "d683b650",
   "metadata": {
    "collapsed": false,
    "pycharm": {
     "name": "#%%\n"
    }
   },
   "outputs": [
    {
     "data": {
      "text/plain": [
       "tensor([[0., 0., 0.,  ..., 0., 0., 0.],\n",
       "        [0., 0., 0.,  ..., 0., 0., 0.],\n",
       "        [0., 0., 0.,  ..., 0., 0., 0.],\n",
       "        ...,\n",
       "        [0., 0., 0.,  ..., 0., 0., 0.],\n",
       "        [0., 0., 0.,  ..., 0., 0., 0.],\n",
       "        [0., 0., 0.,  ..., 0., 0., 0.]], device='cuda:0')"
      ]
     },
     "execution_count": 43,
     "metadata": {},
     "output_type": "execute_result"
    }
   ],
   "source": [
    "baseline = torch.zeros(len(tensor_X), 97).to(device)\n",
    "baseline"
   ]
  },
  {
   "cell_type": "code",
   "execution_count": 44,
   "id": "661ba740",
   "metadata": {
    "collapsed": false,
    "pycharm": {
     "name": "#%%\n"
    }
   },
   "outputs": [
    {
     "name": "stdout",
     "output_type": "stream",
     "text": [
      "Delta Avg: tensor(-0.2472, device='cuda:0', dtype=torch.float64)\n"
     ]
    }
   ],
   "source": [
    "bw_ig = IntegratedGradients(bw_model)\n",
    "bw_ig_attributions, bw_ig_delta = bw_ig.attribute(tensor_X, baseline, n_steps=300, return_convergence_delta=True)\n",
    "bw_ig_attributions_df = annotate_attributions(bw_ig_attributions, columns = list(df_claix_posix.columns))\n",
    "print('Delta Avg:', torch.mean(bw_ig_delta))"
   ]
  },
  {
   "attachments": {},
   "cell_type": "markdown",
   "id": "e2e79145",
   "metadata": {
    "collapsed": false,
    "pycharm": {
     "name": "#%% md\n"
    }
   },
   "source": [
    "## Other feature attribution methods"
   ]
  },
  {
   "cell_type": "code",
   "execution_count": 45,
   "id": "f547f428",
   "metadata": {
    "collapsed": false,
    "pycharm": {
     "name": "#%%\n"
    }
   },
   "outputs": [],
   "source": [
    "ig_nt_bw = NoiseTunnel(bw_ig)\n",
    "dl_bw = DeepLift(bw_model)\n",
    "gs_bw = GradientShap(bw_model)\n",
    "fa_bw = FeatureAblation(bw_model)\n",
    "fp_bw = FeaturePermutation(bw_model)\n",
    "sal_bw = Saliency(bw_model)\n",
    "input_x_grad_bw = InputXGradient(bw_model)\n",
    "guided_back_prop_bw = GuidedBackprop(bw_model)\n",
    "shap_sampling_bw = ShapleyValueSampling(bw_model)"
   ]
  },
  {
   "cell_type": "code",
   "execution_count": 46,
   "id": "b55e39db",
   "metadata": {
    "collapsed": false,
    "pycharm": {
     "name": "#%%\n"
    }
   },
   "outputs": [],
   "source": [
    "def perturb_fn(inputs):\n",
    "    noise = torch.tensor(np.random.normal(0, 0.003, inputs.shape)).float().to(device)\n",
    "    return noise, inputs - noise"
   ]
  },
  {
   "cell_type": "code",
   "execution_count": 48,
   "id": "c0ff49c7",
   "metadata": {
    "collapsed": false,
    "pycharm": {
     "name": "#%%\n"
    }
   },
   "outputs": [
    {
     "name": "stderr",
     "output_type": "stream",
     "text": [
      "/home/eo080593/Software/miniconda3/envs/pytorch-1.12/lib/python3.9/site-packages/captum/_utils/gradient.py:57: UserWarning: Input Tensor 0 did not already require gradients, required_grads has been set automatically.\n",
      "  warnings.warn(\n"
     ]
    }
   ],
   "source": [
    "sal_attr_bw = sal_bw.attribute(tensor_X)\n",
    "sal_attr_df_bw = annotate_attributions(sal_attr_bw, columns=list(df_claix_posix.columns))"
   ]
  },
  {
   "cell_type": "code",
   "execution_count": 49,
   "id": "2a151261",
   "metadata": {
    "collapsed": false,
    "pycharm": {
     "name": "#%%\n"
    }
   },
   "outputs": [
    {
     "name": "stderr",
     "output_type": "stream",
     "text": [
      "/home/eo080593/Software/miniconda3/envs/pytorch-1.12/lib/python3.9/site-packages/captum/_utils/gradient.py:57: UserWarning: Input Tensor 0 did not already require gradients, required_grads has been set automatically.\n",
      "  warnings.warn(\n"
     ]
    },
    {
     "data": {
      "text/plain": [
       "tensor(0.0356, device='cuda:0')"
      ]
     },
     "execution_count": 49,
     "metadata": {},
     "output_type": "execute_result"
    }
   ],
   "source": [
    "sens = sensitivity_max(sal_bw.attribute, tensor_X)\n",
    "torch.mean(sens)"
   ]
  },
  {
   "cell_type": "code",
   "execution_count": 50,
   "id": "ce480ed6",
   "metadata": {
    "collapsed": false,
    "pycharm": {
     "name": "#%%\n"
    }
   },
   "outputs": [
    {
     "data": {
      "text/plain": [
       "tensor(2481037.7500, device='cuda:0')"
      ]
     },
     "execution_count": 50,
     "metadata": {},
     "output_type": "execute_result"
    }
   ],
   "source": [
    "infid = infidelity(bw_model, perturb_fn, tensor_X, sal_attr_bw)\n",
    "torch.mean(infid)"
   ]
  },
  {
   "cell_type": "code",
   "execution_count": 51,
   "id": "3022261d",
   "metadata": {
    "collapsed": false,
    "pycharm": {
     "name": "#%%\n"
    }
   },
   "outputs": [],
   "source": [
    "fp_attr_bw = fp_bw.attribute(tensor_X)\n",
    "fp_attr_df_bw = annotate_attributions(fp_attr_bw, columns=list(df_claix_posix.columns))"
   ]
  },
  {
   "cell_type": "code",
   "execution_count": 52,
   "id": "ecc2b434",
   "metadata": {
    "collapsed": false,
    "pycharm": {
     "name": "#%%\n"
    }
   },
   "outputs": [
    {
     "data": {
      "text/plain": [
       "tensor(10.0365, device='cuda:0')"
      ]
     },
     "execution_count": 52,
     "metadata": {},
     "output_type": "execute_result"
    }
   ],
   "source": [
    "sens = sensitivity_max(fp_bw.attribute, tensor_X)\n",
    "torch.mean(sens)"
   ]
  },
  {
   "cell_type": "code",
   "execution_count": 53,
   "id": "96d7856a",
   "metadata": {
    "collapsed": false,
    "pycharm": {
     "name": "#%%\n"
    }
   },
   "outputs": [
    {
     "data": {
      "text/plain": [
       "tensor(638123.1875, device='cuda:0')"
      ]
     },
     "execution_count": 53,
     "metadata": {},
     "output_type": "execute_result"
    }
   ],
   "source": [
    "infid = infidelity(bw_model, perturb_fn, tensor_X, fp_attr_bw)\n",
    "torch.mean(infid)"
   ]
  },
  {
   "cell_type": "code",
   "execution_count": 54,
   "id": "953db79e",
   "metadata": {
    "collapsed": false,
    "pycharm": {
     "name": "#%%\n"
    }
   },
   "outputs": [
    {
     "name": "stderr",
     "output_type": "stream",
     "text": [
      "/home/eo080593/Software/miniconda3/envs/pytorch-1.12/lib/python3.9/site-packages/captum/_utils/gradient.py:57: UserWarning: Input Tensor 0 did not already require gradients, required_grads has been set automatically.\n",
      "  warnings.warn(\n"
     ]
    }
   ],
   "source": [
    "input_x_grad_attr_bw = input_x_grad_bw.attribute(tensor_X)\n",
    "input_x_grad_attr_df_bw = annotate_attributions(input_x_grad_attr_bw, columns=list(df_claix_posix.columns))"
   ]
  },
  {
   "cell_type": "code",
   "execution_count": 55,
   "id": "f0698a4f",
   "metadata": {
    "collapsed": false,
    "pycharm": {
     "name": "#%%\n"
    }
   },
   "outputs": [
    {
     "name": "stderr",
     "output_type": "stream",
     "text": [
      "/home/eo080593/Software/miniconda3/envs/pytorch-1.12/lib/python3.9/site-packages/captum/_utils/gradient.py:57: UserWarning: Input Tensor 0 did not already require gradients, required_grads has been set automatically.\n",
      "  warnings.warn(\n"
     ]
    },
    {
     "data": {
      "text/plain": [
       "tensor(0.1989, device='cuda:0')"
      ]
     },
     "execution_count": 55,
     "metadata": {},
     "output_type": "execute_result"
    }
   ],
   "source": [
    "sens = sensitivity_max(input_x_grad_bw.attribute, tensor_X)\n",
    "torch.mean(sens)"
   ]
  },
  {
   "cell_type": "code",
   "execution_count": 56,
   "id": "0e7500c6",
   "metadata": {
    "collapsed": false,
    "pycharm": {
     "name": "#%%\n"
    }
   },
   "outputs": [
    {
     "data": {
      "text/plain": [
       "tensor(735415.2500, device='cuda:0')"
      ]
     },
     "execution_count": 56,
     "metadata": {},
     "output_type": "execute_result"
    }
   ],
   "source": [
    "infid = infidelity(bw_model, perturb_fn, tensor_X, input_x_grad_attr_bw)\n",
    "torch.mean(infid)"
   ]
  },
  {
   "cell_type": "code",
   "execution_count": 57,
   "id": "f7241e06",
   "metadata": {
    "collapsed": false,
    "pycharm": {
     "name": "#%%\n"
    }
   },
   "outputs": [
    {
     "name": "stderr",
     "output_type": "stream",
     "text": [
      "/home/eo080593/Software/miniconda3/envs/pytorch-1.12/lib/python3.9/site-packages/captum/attr/_core/guided_backprop_deconvnet.py:64: UserWarning: Setting backward hooks on ReLU activations.The hooks will be removed after the attribution is finished\n",
      "  warnings.warn(\n"
     ]
    }
   ],
   "source": [
    "guided_back_prop_attr_bw = guided_back_prop_bw.attribute(tensor_X)\n",
    "guided_back_prop_attr_df_bw = annotate_attributions(guided_back_prop_attr_bw, columns=list(df_claix_posix.columns))"
   ]
  },
  {
   "cell_type": "code",
   "execution_count": 58,
   "id": "989b7dde",
   "metadata": {
    "collapsed": false,
    "pycharm": {
     "name": "#%%\n"
    }
   },
   "outputs": [
    {
     "name": "stderr",
     "output_type": "stream",
     "text": [
      "/home/eo080593/Software/miniconda3/envs/pytorch-1.12/lib/python3.9/site-packages/captum/_utils/gradient.py:57: UserWarning: Input Tensor 0 did not already require gradients, required_grads has been set automatically.\n",
      "  warnings.warn(\n",
      "/home/eo080593/Software/miniconda3/envs/pytorch-1.12/lib/python3.9/site-packages/captum/attr/_core/guided_backprop_deconvnet.py:64: UserWarning: Setting backward hooks on ReLU activations.The hooks will be removed after the attribution is finished\n",
      "  warnings.warn(\n"
     ]
    },
    {
     "data": {
      "text/plain": [
       "tensor(0.0604, device='cuda:0')"
      ]
     },
     "execution_count": 58,
     "metadata": {},
     "output_type": "execute_result"
    }
   ],
   "source": [
    "sens = sensitivity_max(guided_back_prop_bw.attribute, tensor_X)\n",
    "torch.mean(sens)"
   ]
  },
  {
   "cell_type": "code",
   "execution_count": 59,
   "id": "2c9863f2",
   "metadata": {
    "collapsed": false,
    "pycharm": {
     "name": "#%%\n"
    }
   },
   "outputs": [
    {
     "data": {
      "text/plain": [
       "tensor(9909.1270, device='cuda:0')"
      ]
     },
     "execution_count": 59,
     "metadata": {},
     "output_type": "execute_result"
    }
   ],
   "source": [
    "infid = infidelity(bw_model, perturb_fn, tensor_X, guided_back_prop_attr_bw)\n",
    "torch.mean(infid)"
   ]
  },
  {
   "cell_type": "code",
   "execution_count": 60,
   "id": "a406040d",
   "metadata": {
    "collapsed": false,
    "pycharm": {
     "name": "#%%\n"
    }
   },
   "outputs": [],
   "source": [
    "shap_sampling_attr_bw = shap_sampling_bw.attribute(tensor_X)\n",
    "shap_sampling_attr_df_bw = annotate_attributions(shap_sampling_attr_bw, columns=list(df_claix_posix.columns))"
   ]
  },
  {
   "cell_type": "code",
   "execution_count": 61,
   "id": "ca9b1a56",
   "metadata": {
    "collapsed": false,
    "pycharm": {
     "name": "#%%\n"
    }
   },
   "outputs": [
    {
     "data": {
      "text/plain": [
       "tensor(0.2753, device='cuda:0')"
      ]
     },
     "execution_count": 61,
     "metadata": {},
     "output_type": "execute_result"
    }
   ],
   "source": [
    "sens = sensitivity_max(shap_sampling_bw.attribute, tensor_X)\n",
    "torch.mean(sens)"
   ]
  },
  {
   "cell_type": "code",
   "execution_count": 62,
   "id": "46dec40c",
   "metadata": {
    "collapsed": false,
    "pycharm": {
     "name": "#%%\n"
    }
   },
   "outputs": [
    {
     "data": {
      "text/plain": [
       "tensor(691033.1875, device='cuda:0')"
      ]
     },
     "execution_count": 62,
     "metadata": {},
     "output_type": "execute_result"
    }
   ],
   "source": [
    "infid = infidelity(bw_model, perturb_fn, tensor_X, shap_sampling_attr_bw)\n",
    "torch.mean(infid)"
   ]
  },
  {
   "cell_type": "code",
   "execution_count": 152,
   "id": "24b1e090",
   "metadata": {
    "collapsed": false,
    "pycharm": {
     "name": "#%%\n"
    }
   },
   "outputs": [
    {
     "name": "stdout",
     "output_type": "stream",
     "text": [
      "Delta Avg:  tensor(0.5005, device='cuda:0', dtype=torch.float64)\n"
     ]
    }
   ],
   "source": [
    "ig_nt_attr_bw, ig_nt_delta_bw = ig_nt_bw.attribute(tensor_X, return_convergence_delta=True)\n",
    "print(\"Delta Avg: \", torch.mean(ig_nt_delta_bw))\n",
    "ig_nt_attr_df_bw = annotate_attributions(ig_nt_attr_bw, columns=list(df_claix_posix.columns))"
   ]
  },
  {
   "cell_type": "code",
   "execution_count": 64,
   "id": "ae37067e",
   "metadata": {
    "collapsed": false,
    "pycharm": {
     "name": "#%%\n"
    }
   },
   "outputs": [
    {
     "name": "stdout",
     "output_type": "stream",
     "text": [
      "Delta Avg:  tensor(0.0003, device='cuda:0')\n"
     ]
    },
    {
     "name": "stderr",
     "output_type": "stream",
     "text": [
      "/home/eo080593/Software/miniconda3/envs/pytorch-1.12/lib/python3.9/site-packages/captum/_utils/gradient.py:57: UserWarning: Input Tensor 0 did not already require gradients, required_grads has been set automatically.\n",
      "  warnings.warn(\n",
      "/home/eo080593/Software/miniconda3/envs/pytorch-1.12/lib/python3.9/site-packages/captum/attr/_core/deep_lift.py:336: UserWarning: Setting forward, backward hooks and attributes on non-linear\n",
      "               activations. The hooks and attributes will be removed\n",
      "            after the attribution is finished\n",
      "  warnings.warn(\n"
     ]
    }
   ],
   "source": [
    "dl_attr_bw, dl_delta_bw = dl_bw.attribute(tensor_X, return_convergence_delta=True)\n",
    "print(\"Delta Avg: \", torch.mean(dl_delta_bw))\n",
    "dl_attr_df_bw = annotate_attributions(dl_attr_bw, columns=list(df_claix_posix.columns))"
   ]
  },
  {
   "cell_type": "code",
   "execution_count": 65,
   "id": "728f7d4e",
   "metadata": {
    "collapsed": false,
    "pycharm": {
     "name": "#%%\n"
    }
   },
   "outputs": [],
   "source": [
    "fa_attr_bw = fa_bw.attribute(tensor_X)\n",
    "fa_attr_df_bw = annotate_attributions(fa_attr_bw, columns=list(df_claix_posix.columns))"
   ]
  },
  {
   "cell_type": "code",
   "execution_count": 66,
   "id": "e7513595",
   "metadata": {
    "collapsed": false,
    "pycharm": {
     "name": "#%%\n"
    }
   },
   "outputs": [
    {
     "data": {
      "text/plain": [
       "tensor(0.2343, device='cuda:0')"
      ]
     },
     "execution_count": 66,
     "metadata": {},
     "output_type": "execute_result"
    }
   ],
   "source": [
    "sens = sensitivity_max(fa_bw.attribute, tensor_X)\n",
    "torch.mean(sens)"
   ]
  },
  {
   "cell_type": "code",
   "execution_count": 67,
   "id": "91704fc3",
   "metadata": {
    "collapsed": false,
    "pycharm": {
     "name": "#%%\n"
    }
   },
   "outputs": [
    {
     "data": {
      "text/plain": [
       "tensor(721449.8750, device='cuda:0')"
      ]
     },
     "execution_count": 67,
     "metadata": {},
     "output_type": "execute_result"
    }
   ],
   "source": [
    "infid = infidelity(bw_model, perturb_fn, tensor_X, fa_attr_bw)\n",
    "torch.mean(infid)"
   ]
  },
  {
   "cell_type": "code",
   "execution_count": 70,
   "id": "4637ea9f",
   "metadata": {
    "collapsed": false,
    "pycharm": {
     "name": "#%%\n"
    }
   },
   "outputs": [],
   "source": [
    "def calc_norm_sum(attributions_df):\n",
    "    attributions_sum = attributions_df.sum(0)\n",
    "    return (attributions_sum / np.linalg.norm(attributions_sum, ord=1)).to_frame(name=\"norm_attr_coeff\") # Just division returns a Series, so cast it to a DataFrame"
   ]
  },
  {
   "cell_type": "code",
   "execution_count": 71,
   "id": "59788c9f",
   "metadata": {
    "collapsed": false,
    "pycharm": {
     "name": "#%%\n"
    }
   },
   "outputs": [
    {
     "data": {
      "text/html": [
       "<div>\n",
       "<style scoped>\n",
       "    .dataframe tbody tr th:only-of-type {\n",
       "        vertical-align: middle;\n",
       "    }\n",
       "\n",
       "    .dataframe tbody tr th {\n",
       "        vertical-align: top;\n",
       "    }\n",
       "\n",
       "    .dataframe thead th {\n",
       "        text-align: right;\n",
       "    }\n",
       "</style>\n",
       "<table border=\"1\" class=\"dataframe\">\n",
       "  <thead>\n",
       "    <tr style=\"text-align: right;\">\n",
       "      <th></th>\n",
       "      <th>norm_attr_coeff</th>\n",
       "    </tr>\n",
       "  </thead>\n",
       "  <tbody>\n",
       "    <tr>\n",
       "      <th>POSIX_OPENS</th>\n",
       "      <td>-0.000538</td>\n",
       "    </tr>\n",
       "    <tr>\n",
       "      <th>POSIX_FILENOS</th>\n",
       "      <td>-0.000727</td>\n",
       "    </tr>\n",
       "    <tr>\n",
       "      <th>POSIX_DUPS</th>\n",
       "      <td>0.000000</td>\n",
       "    </tr>\n",
       "    <tr>\n",
       "      <th>POSIX_READS</th>\n",
       "      <td>0.003232</td>\n",
       "    </tr>\n",
       "    <tr>\n",
       "      <th>POSIX_WRITES</th>\n",
       "      <td>-0.004742</td>\n",
       "    </tr>\n",
       "    <tr>\n",
       "      <th>...</th>\n",
       "      <td>...</td>\n",
       "    </tr>\n",
       "    <tr>\n",
       "      <th>POSIX_F_MAX_READ_TIME</th>\n",
       "      <td>0.007788</td>\n",
       "    </tr>\n",
       "    <tr>\n",
       "      <th>POSIX_F_MAX_WRITE_TIME</th>\n",
       "      <td>0.013595</td>\n",
       "    </tr>\n",
       "    <tr>\n",
       "      <th>POSIX_F_FASTEST_RANK_TIME</th>\n",
       "      <td>0.000392</td>\n",
       "    </tr>\n",
       "    <tr>\n",
       "      <th>POSIX_F_SLOWEST_RANK_TIME</th>\n",
       "      <td>0.014220</td>\n",
       "    </tr>\n",
       "    <tr>\n",
       "      <th>nprocs</th>\n",
       "      <td>-0.000360</td>\n",
       "    </tr>\n",
       "  </tbody>\n",
       "</table>\n",
       "<p>97 rows × 1 columns</p>\n",
       "</div>"
      ],
      "text/plain": [
       "                           norm_attr_coeff\n",
       "POSIX_OPENS                      -0.000538\n",
       "POSIX_FILENOS                    -0.000727\n",
       "POSIX_DUPS                        0.000000\n",
       "POSIX_READS                       0.003232\n",
       "POSIX_WRITES                     -0.004742\n",
       "...                                    ...\n",
       "POSIX_F_MAX_READ_TIME             0.007788\n",
       "POSIX_F_MAX_WRITE_TIME            0.013595\n",
       "POSIX_F_FASTEST_RANK_TIME         0.000392\n",
       "POSIX_F_SLOWEST_RANK_TIME         0.014220\n",
       "nprocs                           -0.000360\n",
       "\n",
       "[97 rows x 1 columns]"
      ]
     },
     "execution_count": 71,
     "metadata": {},
     "output_type": "execute_result"
    }
   ],
   "source": [
    "ig_attr_norm_sum_bw = calc_norm_sum(bw_ig_attributions_df)\n",
    "ig_attr_norm_sum_bw"
   ]
  },
  {
   "cell_type": "code",
   "execution_count": 153,
   "id": "12730ffe",
   "metadata": {
    "collapsed": false,
    "pycharm": {
     "name": "#%%\n"
    }
   },
   "outputs": [],
   "source": [
    "ig_nt_attr_test_norm_sum_bw = calc_norm_sum(ig_nt_attr_df_bw)"
   ]
  },
  {
   "cell_type": "code",
   "execution_count": 73,
   "id": "8c908027",
   "metadata": {
    "collapsed": false,
    "pycharm": {
     "name": "#%%\n"
    }
   },
   "outputs": [],
   "source": [
    "dl_attr_test_norm_sum_bw = calc_norm_sum(dl_attr_df_bw)"
   ]
  },
  {
   "cell_type": "code",
   "execution_count": 75,
   "id": "8e425857",
   "metadata": {
    "collapsed": false,
    "pycharm": {
     "name": "#%%\n"
    }
   },
   "outputs": [],
   "source": [
    "fa_attr_test_norm_sum_bw =calc_norm_sum(fa_attr_df_bw)"
   ]
  },
  {
   "cell_type": "code",
   "execution_count": 76,
   "id": "a5e87155",
   "metadata": {
    "collapsed": false,
    "pycharm": {
     "name": "#%%\n"
    }
   },
   "outputs": [],
   "source": [
    "sal_norm_sum_bw = calc_norm_sum(sal_attr_df_bw)"
   ]
  },
  {
   "cell_type": "code",
   "execution_count": 77,
   "id": "f4976313",
   "metadata": {
    "collapsed": false,
    "pycharm": {
     "name": "#%%\n"
    }
   },
   "outputs": [],
   "source": [
    "input_x_grad_norm_sum_bw = calc_norm_sum(input_x_grad_attr_df_bw)"
   ]
  },
  {
   "cell_type": "code",
   "execution_count": 78,
   "id": "abb838cb",
   "metadata": {
    "collapsed": false,
    "pycharm": {
     "name": "#%%\n"
    }
   },
   "outputs": [],
   "source": [
    "guided_back_prop_norm_sum_bw = calc_norm_sum(guided_back_prop_attr_df_bw)"
   ]
  },
  {
   "cell_type": "code",
   "execution_count": 79,
   "id": "aa170e34",
   "metadata": {
    "collapsed": false,
    "pycharm": {
     "name": "#%%\n"
    }
   },
   "outputs": [],
   "source": [
    "fp_attr_norm_sum_bw = calc_norm_sum(fp_attr_df_bw)"
   ]
  },
  {
   "cell_type": "code",
   "execution_count": 80,
   "id": "6c3a7fb3",
   "metadata": {
    "collapsed": false,
    "pycharm": {
     "name": "#%%\n"
    }
   },
   "outputs": [],
   "source": [
    "shap_sampling_attr_norm_sum_bw = calc_norm_sum(shap_sampling_attr_df_bw)"
   ]
  },
  {
   "cell_type": "code",
   "execution_count": 154,
   "id": "dc5d4fdb",
   "metadata": {
    "collapsed": false,
    "pycharm": {
     "name": "#%%\n"
    }
   },
   "outputs": [
    {
     "data": {
      "text/html": [
       "<div>\n",
       "<style scoped>\n",
       "    .dataframe tbody tr th:only-of-type {\n",
       "        vertical-align: middle;\n",
       "    }\n",
       "\n",
       "    .dataframe tbody tr th {\n",
       "        vertical-align: top;\n",
       "    }\n",
       "\n",
       "    .dataframe thead th {\n",
       "        text-align: right;\n",
       "    }\n",
       "</style>\n",
       "<table border=\"1\" class=\"dataframe\">\n",
       "  <thead>\n",
       "    <tr style=\"text-align: right;\">\n",
       "      <th></th>\n",
       "      <th>ig</th>\n",
       "      <th>ig_noise_tunnel</th>\n",
       "      <th>deeplift</th>\n",
       "      <th>feature_ablation</th>\n",
       "      <th>shap_sampling</th>\n",
       "      <th>guided_backprop</th>\n",
       "      <th>feature_permutation</th>\n",
       "      <th>input_x_grad</th>\n",
       "      <th>saliency</th>\n",
       "    </tr>\n",
       "  </thead>\n",
       "  <tbody>\n",
       "    <tr>\n",
       "      <th>POSIX_OPENS</th>\n",
       "      <td>-0.000538</td>\n",
       "      <td>-0.000177</td>\n",
       "      <td>-0.000529</td>\n",
       "      <td>-0.000435</td>\n",
       "      <td>-0.000522</td>\n",
       "      <td>0.000372</td>\n",
       "      <td>0.003408</td>\n",
       "      <td>-0.000471</td>\n",
       "      <td>0.000304</td>\n",
       "    </tr>\n",
       "    <tr>\n",
       "      <th>POSIX_FILENOS</th>\n",
       "      <td>-0.000727</td>\n",
       "      <td>-0.000074</td>\n",
       "      <td>-0.000760</td>\n",
       "      <td>-0.000588</td>\n",
       "      <td>-0.000705</td>\n",
       "      <td>0.000311</td>\n",
       "      <td>0.001900</td>\n",
       "      <td>-0.000600</td>\n",
       "      <td>0.000422</td>\n",
       "    </tr>\n",
       "    <tr>\n",
       "      <th>POSIX_DUPS</th>\n",
       "      <td>0.000000</td>\n",
       "      <td>-0.000021</td>\n",
       "      <td>0.000000</td>\n",
       "      <td>0.000000</td>\n",
       "      <td>0.000000</td>\n",
       "      <td>-0.000352</td>\n",
       "      <td>0.000000</td>\n",
       "      <td>0.000000</td>\n",
       "      <td>0.000314</td>\n",
       "    </tr>\n",
       "    <tr>\n",
       "      <th>POSIX_READS</th>\n",
       "      <td>0.003232</td>\n",
       "      <td>0.000514</td>\n",
       "      <td>0.003167</td>\n",
       "      <td>0.003287</td>\n",
       "      <td>0.002943</td>\n",
       "      <td>-0.002275</td>\n",
       "      <td>0.014992</td>\n",
       "      <td>0.003259</td>\n",
       "      <td>0.002137</td>\n",
       "    </tr>\n",
       "    <tr>\n",
       "      <th>POSIX_WRITES</th>\n",
       "      <td>-0.004742</td>\n",
       "      <td>-0.000694</td>\n",
       "      <td>-0.006035</td>\n",
       "      <td>-0.003019</td>\n",
       "      <td>-0.002542</td>\n",
       "      <td>-0.000226</td>\n",
       "      <td>-0.004328</td>\n",
       "      <td>-0.003117</td>\n",
       "      <td>0.002083</td>\n",
       "    </tr>\n",
       "    <tr>\n",
       "      <th>...</th>\n",
       "      <td>...</td>\n",
       "      <td>...</td>\n",
       "      <td>...</td>\n",
       "      <td>...</td>\n",
       "      <td>...</td>\n",
       "      <td>...</td>\n",
       "      <td>...</td>\n",
       "      <td>...</td>\n",
       "      <td>...</td>\n",
       "    </tr>\n",
       "    <tr>\n",
       "      <th>POSIX_F_MAX_READ_TIME</th>\n",
       "      <td>0.007788</td>\n",
       "      <td>0.002614</td>\n",
       "      <td>0.006396</td>\n",
       "      <td>0.010632</td>\n",
       "      <td>0.009513</td>\n",
       "      <td>-0.010306</td>\n",
       "      <td>0.018056</td>\n",
       "      <td>0.010624</td>\n",
       "      <td>0.008158</td>\n",
       "    </tr>\n",
       "    <tr>\n",
       "      <th>POSIX_F_MAX_WRITE_TIME</th>\n",
       "      <td>0.013595</td>\n",
       "      <td>0.006002</td>\n",
       "      <td>0.012175</td>\n",
       "      <td>0.013013</td>\n",
       "      <td>0.015313</td>\n",
       "      <td>-0.011995</td>\n",
       "      <td>0.012253</td>\n",
       "      <td>0.014386</td>\n",
       "      <td>0.010243</td>\n",
       "    </tr>\n",
       "    <tr>\n",
       "      <th>POSIX_F_FASTEST_RANK_TIME</th>\n",
       "      <td>0.000392</td>\n",
       "      <td>-0.000483</td>\n",
       "      <td>0.000409</td>\n",
       "      <td>-0.000350</td>\n",
       "      <td>0.000191</td>\n",
       "      <td>-0.004890</td>\n",
       "      <td>-0.000797</td>\n",
       "      <td>0.000317</td>\n",
       "      <td>0.004271</td>\n",
       "    </tr>\n",
       "    <tr>\n",
       "      <th>POSIX_F_SLOWEST_RANK_TIME</th>\n",
       "      <td>0.014220</td>\n",
       "      <td>0.002793</td>\n",
       "      <td>0.013344</td>\n",
       "      <td>0.013356</td>\n",
       "      <td>0.012447</td>\n",
       "      <td>-0.014954</td>\n",
       "      <td>0.022987</td>\n",
       "      <td>0.013230</td>\n",
       "      <td>0.012866</td>\n",
       "    </tr>\n",
       "    <tr>\n",
       "      <th>nprocs</th>\n",
       "      <td>-0.000360</td>\n",
       "      <td>-0.000185</td>\n",
       "      <td>-0.000699</td>\n",
       "      <td>-0.001912</td>\n",
       "      <td>-0.001881</td>\n",
       "      <td>0.000903</td>\n",
       "      <td>-0.000329</td>\n",
       "      <td>-0.001925</td>\n",
       "      <td>0.000484</td>\n",
       "    </tr>\n",
       "  </tbody>\n",
       "</table>\n",
       "<p>97 rows × 9 columns</p>\n",
       "</div>"
      ],
      "text/plain": [
       "                                 ig  ig_noise_tunnel  deeplift  \\\n",
       "POSIX_OPENS               -0.000538        -0.000177 -0.000529   \n",
       "POSIX_FILENOS             -0.000727        -0.000074 -0.000760   \n",
       "POSIX_DUPS                 0.000000        -0.000021  0.000000   \n",
       "POSIX_READS                0.003232         0.000514  0.003167   \n",
       "POSIX_WRITES              -0.004742        -0.000694 -0.006035   \n",
       "...                             ...              ...       ...   \n",
       "POSIX_F_MAX_READ_TIME      0.007788         0.002614  0.006396   \n",
       "POSIX_F_MAX_WRITE_TIME     0.013595         0.006002  0.012175   \n",
       "POSIX_F_FASTEST_RANK_TIME  0.000392        -0.000483  0.000409   \n",
       "POSIX_F_SLOWEST_RANK_TIME  0.014220         0.002793  0.013344   \n",
       "nprocs                    -0.000360        -0.000185 -0.000699   \n",
       "\n",
       "                           feature_ablation  shap_sampling  guided_backprop  \\\n",
       "POSIX_OPENS                       -0.000435      -0.000522         0.000372   \n",
       "POSIX_FILENOS                     -0.000588      -0.000705         0.000311   \n",
       "POSIX_DUPS                         0.000000       0.000000        -0.000352   \n",
       "POSIX_READS                        0.003287       0.002943        -0.002275   \n",
       "POSIX_WRITES                      -0.003019      -0.002542        -0.000226   \n",
       "...                                     ...            ...              ...   \n",
       "POSIX_F_MAX_READ_TIME              0.010632       0.009513        -0.010306   \n",
       "POSIX_F_MAX_WRITE_TIME             0.013013       0.015313        -0.011995   \n",
       "POSIX_F_FASTEST_RANK_TIME         -0.000350       0.000191        -0.004890   \n",
       "POSIX_F_SLOWEST_RANK_TIME          0.013356       0.012447        -0.014954   \n",
       "nprocs                            -0.001912      -0.001881         0.000903   \n",
       "\n",
       "                           feature_permutation  input_x_grad  saliency  \n",
       "POSIX_OPENS                           0.003408     -0.000471  0.000304  \n",
       "POSIX_FILENOS                         0.001900     -0.000600  0.000422  \n",
       "POSIX_DUPS                            0.000000      0.000000  0.000314  \n",
       "POSIX_READS                           0.014992      0.003259  0.002137  \n",
       "POSIX_WRITES                         -0.004328     -0.003117  0.002083  \n",
       "...                                        ...           ...       ...  \n",
       "POSIX_F_MAX_READ_TIME                 0.018056      0.010624  0.008158  \n",
       "POSIX_F_MAX_WRITE_TIME                0.012253      0.014386  0.010243  \n",
       "POSIX_F_FASTEST_RANK_TIME            -0.000797      0.000317  0.004271  \n",
       "POSIX_F_SLOWEST_RANK_TIME             0.022987      0.013230  0.012866  \n",
       "nprocs                               -0.000329     -0.001925  0.000484  \n",
       "\n",
       "[97 rows x 9 columns]"
      ]
     },
     "execution_count": 154,
     "metadata": {},
     "output_type": "execute_result"
    }
   ],
   "source": [
    "aggregated_feature_attributions_normalized_df_bw = pd.concat([ig_attr_norm_sum_bw, ig_nt_attr_test_norm_sum_bw, dl_attr_test_norm_sum_bw,\n",
    "                                                            fa_attr_test_norm_sum_bw, shap_sampling_attr_norm_sum_bw, guided_back_prop_norm_sum_bw, fp_attr_norm_sum_bw, input_x_grad_norm_sum_bw, sal_norm_sum_bw],\n",
    "                                                            axis=1, join=\"inner\")\n",
    "aggregated_feature_attributions_normalized_df_bw.columns = [\"ig\", \"ig_noise_tunnel\", \"deeplift\",\n",
    "                                                            \"feature_ablation\", \"shap_sampling\", \"guided_backprop\", \"feature_permutation\", \"input_x_grad\", \"saliency\"]\n",
    "aggregated_feature_attributions_normalized_df_bw"
   ]
  },
  {
   "cell_type": "code",
   "execution_count": 155,
   "id": "17ffc2c2",
   "metadata": {
    "collapsed": false,
    "pycharm": {
     "name": "#%%\n"
    }
   },
   "outputs": [
    {
     "data": {
      "text/html": [
       "<div>\n",
       "<style scoped>\n",
       "    .dataframe tbody tr th:only-of-type {\n",
       "        vertical-align: middle;\n",
       "    }\n",
       "\n",
       "    .dataframe tbody tr th {\n",
       "        vertical-align: top;\n",
       "    }\n",
       "\n",
       "    .dataframe thead th {\n",
       "        text-align: right;\n",
       "    }\n",
       "</style>\n",
       "<table border=\"1\" class=\"dataframe\">\n",
       "  <thead>\n",
       "    <tr style=\"text-align: right;\">\n",
       "      <th></th>\n",
       "      <th>avg_attribution_coeff</th>\n",
       "      <th>relative_order</th>\n",
       "      <th>feature_importance_rank</th>\n",
       "    </tr>\n",
       "  </thead>\n",
       "  <tbody>\n",
       "    <tr>\n",
       "      <th>POSIX_F_READ_TIME</th>\n",
       "      <td>0.241142</td>\n",
       "      <td>1.0</td>\n",
       "      <td>1.0</td>\n",
       "    </tr>\n",
       "    <tr>\n",
       "      <th>POSIX_TOTAL_TIME</th>\n",
       "      <td>0.104137</td>\n",
       "      <td>2.0</td>\n",
       "      <td>2.0</td>\n",
       "    </tr>\n",
       "    <tr>\n",
       "      <th>POSIX_F_WRITE_TIME</th>\n",
       "      <td>0.092017</td>\n",
       "      <td>3.0</td>\n",
       "      <td>3.0</td>\n",
       "    </tr>\n",
       "    <tr>\n",
       "      <th>POSIX_F_META_TIME</th>\n",
       "      <td>0.069713</td>\n",
       "      <td>4.0</td>\n",
       "      <td>4.0</td>\n",
       "    </tr>\n",
       "    <tr>\n",
       "      <th>POSIX_ACCESS2_ACCESS</th>\n",
       "      <td>0.010361</td>\n",
       "      <td>5.0</td>\n",
       "      <td>6.0</td>\n",
       "    </tr>\n",
       "    <tr>\n",
       "      <th>...</th>\n",
       "      <td>...</td>\n",
       "      <td>...</td>\n",
       "      <td>...</td>\n",
       "    </tr>\n",
       "    <tr>\n",
       "      <th>POSIX_SIZE_WRITE_0_100</th>\n",
       "      <td>-0.004580</td>\n",
       "      <td>93.0</td>\n",
       "      <td>16.0</td>\n",
       "    </tr>\n",
       "    <tr>\n",
       "      <th>POSIX_MEM_NOT_ALIGNED</th>\n",
       "      <td>-0.008242</td>\n",
       "      <td>94.0</td>\n",
       "      <td>11.0</td>\n",
       "    </tr>\n",
       "    <tr>\n",
       "      <th>READ_1G_PLUS</th>\n",
       "      <td>-0.009140</td>\n",
       "      <td>95.0</td>\n",
       "      <td>10.0</td>\n",
       "    </tr>\n",
       "    <tr>\n",
       "      <th>POSIX_SIZE_READ_1G_PLUS</th>\n",
       "      <td>-0.009203</td>\n",
       "      <td>96.0</td>\n",
       "      <td>9.0</td>\n",
       "    </tr>\n",
       "    <tr>\n",
       "      <th>POSIX_BYTES_READ</th>\n",
       "      <td>-0.021065</td>\n",
       "      <td>97.0</td>\n",
       "      <td>5.0</td>\n",
       "    </tr>\n",
       "  </tbody>\n",
       "</table>\n",
       "<p>97 rows × 3 columns</p>\n",
       "</div>"
      ],
      "text/plain": [
       "                         avg_attribution_coeff  relative_order  \\\n",
       "POSIX_F_READ_TIME                     0.241142             1.0   \n",
       "POSIX_TOTAL_TIME                      0.104137             2.0   \n",
       "POSIX_F_WRITE_TIME                    0.092017             3.0   \n",
       "POSIX_F_META_TIME                     0.069713             4.0   \n",
       "POSIX_ACCESS2_ACCESS                  0.010361             5.0   \n",
       "...                                        ...             ...   \n",
       "POSIX_SIZE_WRITE_0_100               -0.004580            93.0   \n",
       "POSIX_MEM_NOT_ALIGNED                -0.008242            94.0   \n",
       "READ_1G_PLUS                         -0.009140            95.0   \n",
       "POSIX_SIZE_READ_1G_PLUS              -0.009203            96.0   \n",
       "POSIX_BYTES_READ                     -0.021065            97.0   \n",
       "\n",
       "                         feature_importance_rank  \n",
       "POSIX_F_READ_TIME                            1.0  \n",
       "POSIX_TOTAL_TIME                             2.0  \n",
       "POSIX_F_WRITE_TIME                           3.0  \n",
       "POSIX_F_META_TIME                            4.0  \n",
       "POSIX_ACCESS2_ACCESS                         6.0  \n",
       "...                                          ...  \n",
       "POSIX_SIZE_WRITE_0_100                      16.0  \n",
       "POSIX_MEM_NOT_ALIGNED                       11.0  \n",
       "READ_1G_PLUS                                10.0  \n",
       "POSIX_SIZE_READ_1G_PLUS                      9.0  \n",
       "POSIX_BYTES_READ                             5.0  \n",
       "\n",
       "[97 rows x 3 columns]"
      ]
     },
     "execution_count": 155,
     "metadata": {},
     "output_type": "execute_result"
    }
   ],
   "source": [
    "summary_feature_attributions_normalized_df_bw = calculate_avg_attributions(aggregated_feature_attributions_normalized_df_bw, axis=1)\n",
    "\n",
    "# For each feature, show its relative order (1 - most positive influence, n - least positive influence)\n",
    "# Rank features by their absolute coefficient value to identify the most important ones\n",
    "summary_feature_attributions_normalized_df_bw = rank_features_by_importance(add_relative_order_of_features(summary_feature_attributions_normalized_df_bw))\n",
    "summary_feature_attributions_normalized_df_bw"
   ]
  },
  {
   "cell_type": "code",
   "execution_count": 156,
   "id": "375c2db6",
   "metadata": {
    "collapsed": false,
    "pycharm": {
     "name": "#%%\n"
    }
   },
   "outputs": [
    {
     "data": {
      "text/plain": [
       "avg_attribution_coeff      -0.021065\n",
       "relative_order             97.000000\n",
       "feature_importance_rank     5.000000\n",
       "Name: POSIX_BYTES_READ, dtype: float64"
      ]
     },
     "execution_count": 156,
     "metadata": {},
     "output_type": "execute_result"
    }
   ],
   "source": [
    "summary_feature_attributions_normalized_df_bw.loc[\"POSIX_BYTES_READ\"]"
   ]
  },
  {
   "attachments": {},
   "cell_type": "markdown",
   "id": "e8cea5b5",
   "metadata": {
    "collapsed": false,
    "pycharm": {
     "name": "#%% md\n"
    }
   },
   "source": [
    "# Evaluate the model fine-tuned on the Claix dataset"
   ]
  },
  {
   "attachments": {},
   "cell_type": "markdown",
   "id": "540045e8",
   "metadata": {
    "collapsed": false,
    "pycharm": {
     "name": "#%% md\n"
    }
   },
   "source": [
    "### Load the pre-trained model"
   ]
  },
  {
   "cell_type": "code",
   "execution_count": 100,
   "id": "5ea8f849",
   "metadata": {
    "collapsed": false,
    "pycharm": {
     "name": "#%%\n"
    }
   },
   "outputs": [],
   "source": [
    "claix_model = nn.Sequential(\n",
    "    nn.Linear(97, 2048),\n",
    "    nn.Dropout(p=0.05),\n",
    "    nn.ReLU(),\n",
    "    nn.Linear(2048, 512),\n",
    "    nn.Dropout(p=0.05),\n",
    "    nn.ReLU(),\n",
    "    nn.Linear(512, 128),\n",
    "    nn.Dropout(p=0.05),\n",
    "    nn.ReLU(),\n",
    "    nn.Linear(128, 1),\n",
    ").to(device)"
   ]
  },
  {
   "cell_type": "code",
   "execution_count": 101,
   "id": "2b7503b2",
   "metadata": {
    "collapsed": false,
    "pycharm": {
     "name": "#%%\n"
    }
   },
   "outputs": [
    {
     "data": {
      "text/plain": [
       "<bound method Module.modules of Sequential(\n",
       "  (0): Linear(in_features=97, out_features=2048, bias=True)\n",
       "  (1): Dropout(p=0.05, inplace=False)\n",
       "  (2): ReLU()\n",
       "  (3): Linear(in_features=2048, out_features=512, bias=True)\n",
       "  (4): Dropout(p=0.05, inplace=False)\n",
       "  (5): ReLU()\n",
       "  (6): Linear(in_features=512, out_features=128, bias=True)\n",
       "  (7): Dropout(p=0.05, inplace=False)\n",
       "  (8): ReLU()\n",
       "  (9): Linear(in_features=128, out_features=1, bias=True)\n",
       ")>"
      ]
     },
     "execution_count": 101,
     "metadata": {},
     "output_type": "execute_result"
    }
   ],
   "source": [
    "claix_model.modules"
   ]
  },
  {
   "cell_type": "code",
   "execution_count": null,
   "id": "1ea32d2d",
   "metadata": {
    "collapsed": false,
    "pycharm": {
     "name": "#%%\n"
    }
   },
   "outputs": [],
   "source": [
    "CLAIX_MODEL_DIR = \"/home/thes1067/models/claix\"\n",
    "CLAIX_MODEL_NAME = \"SmoothL1Loss_0.2_testSize_StandardScaler_0.001_lr_4_16_48_64_144_240_nprocs_0.05_dropout_pytorch_v1.12.0\"\n",
    "CLAIX_MODEL_PATH = Path(CLAIX_MODEL_DIR, CLAIX_MODEL_NAME)\n",
    "CLAIX_MODEL_PATH"
   ]
  },
  {
   "cell_type": "code",
   "execution_count": 104,
   "id": "193f82d9",
   "metadata": {
    "collapsed": false,
    "pycharm": {
     "name": "#%%\n"
    }
   },
   "outputs": [
    {
     "data": {
      "text/plain": [
       "True"
      ]
     },
     "execution_count": 104,
     "metadata": {},
     "output_type": "execute_result"
    }
   ],
   "source": [
    "CLAIX_MODEL_PATH.exists()"
   ]
  },
  {
   "cell_type": "code",
   "execution_count": 105,
   "id": "260f59c0",
   "metadata": {
    "collapsed": false,
    "pycharm": {
     "name": "#%%\n"
    }
   },
   "outputs": [
    {
     "name": "stdout",
     "output_type": "stream",
     "text": [
      "Loading pretrained model...\n",
      "Current epoch: 1199\n"
     ]
    }
   ],
   "source": [
    "print(\"Loading pretrained model...\")\n",
    "\n",
    "checkpoint = torch.load(CLAIX_MODEL_PATH, map_location=torch.device(device))\n",
    "claix_model.load_state_dict(checkpoint['model_state_dict'])\n",
    "model_epoch = checkpoint['epoch']\n",
    "\n",
    "print(f\"Current epoch: {model_epoch}\")"
   ]
  },
  {
   "cell_type": "code",
   "execution_count": 106,
   "id": "da9bd8c1",
   "metadata": {
    "collapsed": false,
    "pycharm": {
     "name": "#%%\n"
    }
   },
   "outputs": [
    {
     "name": "stdout",
     "output_type": "stream",
     "text": [
      "Delta Avg: tensor(-2.2503, device='cuda:0', dtype=torch.float64)\n"
     ]
    }
   ],
   "source": [
    "ig_claix = IntegratedGradients(claix_model)\n",
    "ig_attributions_claix, ig_delta_claix = ig_claix.attribute(tensor_X, baseline, n_steps=300, return_convergence_delta=True)\n",
    "ig_attributions_df_claix = annotate_attributions(ig_attributions_claix, columns = list(df_claix_posix.columns))\n",
    "print('Delta Avg:', torch.mean(ig_delta_claix))"
   ]
  },
  {
   "cell_type": "code",
   "execution_count": 107,
   "id": "f8272539",
   "metadata": {
    "collapsed": false,
    "pycharm": {
     "name": "#%%\n"
    }
   },
   "outputs": [],
   "source": [
    "ig_nt_claix = NoiseTunnel(ig_claix)\n",
    "dl_claix = DeepLift(claix_model)\n",
    "gs_claix = GradientShap(claix_model)\n",
    "fa_claix = FeatureAblation(claix_model)\n",
    "fp_claix = FeaturePermutation(claix_model)\n",
    "sal_claix = Saliency(claix_model)\n",
    "input_x_grad_claix = InputXGradient(claix_model)\n",
    "guided_back_prop_claix = GuidedBackprop(claix_model)\n",
    "shap_sampling_claix = ShapleyValueSampling(claix_model)"
   ]
  },
  {
   "cell_type": "code",
   "execution_count": 108,
   "id": "c204107d",
   "metadata": {
    "collapsed": false,
    "pycharm": {
     "name": "#%%\n"
    }
   },
   "outputs": [],
   "source": [
    "def perturb_fn(inputs):\n",
    "    noise = torch.tensor(np.random.normal(0, 0.003, inputs.shape)).float().to(device)\n",
    "    return noise, inputs - noise"
   ]
  },
  {
   "cell_type": "code",
   "execution_count": 110,
   "id": "efe8af96",
   "metadata": {
    "collapsed": false,
    "pycharm": {
     "name": "#%%\n"
    }
   },
   "outputs": [
    {
     "name": "stderr",
     "output_type": "stream",
     "text": [
      "/home/eo080593/Software/miniconda3/envs/pytorch-1.12/lib/python3.9/site-packages/captum/_utils/gradient.py:57: UserWarning: Input Tensor 0 did not already require gradients, required_grads has been set automatically.\n",
      "  warnings.warn(\n"
     ]
    }
   ],
   "source": [
    "sal_attr_claix = sal_claix.attribute(tensor_X)\n",
    "sal_attr_df_claix = annotate_attributions(sal_attr_claix, columns=list(df_claix_posix.columns))"
   ]
  },
  {
   "cell_type": "code",
   "execution_count": 111,
   "id": "580aeac6",
   "metadata": {
    "collapsed": false,
    "pycharm": {
     "name": "#%%\n"
    }
   },
   "outputs": [
    {
     "name": "stderr",
     "output_type": "stream",
     "text": [
      "/home/eo080593/Software/miniconda3/envs/pytorch-1.12/lib/python3.9/site-packages/captum/_utils/gradient.py:57: UserWarning: Input Tensor 0 did not already require gradients, required_grads has been set automatically.\n",
      "  warnings.warn(\n"
     ]
    },
    {
     "data": {
      "text/plain": [
       "tensor(0.2232, device='cuda:0')"
      ]
     },
     "execution_count": 111,
     "metadata": {},
     "output_type": "execute_result"
    }
   ],
   "source": [
    "sens = sensitivity_max(sal_claix.attribute, tensor_X)\n",
    "torch.mean(sens)"
   ]
  },
  {
   "cell_type": "code",
   "execution_count": 112,
   "id": "adc0b51c",
   "metadata": {
    "collapsed": false,
    "pycharm": {
     "name": "#%%\n"
    }
   },
   "outputs": [
    {
     "data": {
      "text/plain": [
       "tensor(55610.0039, device='cuda:0')"
      ]
     },
     "execution_count": 112,
     "metadata": {},
     "output_type": "execute_result"
    }
   ],
   "source": [
    "infid = infidelity(claix_model, perturb_fn, tensor_X, sal_attr_claix)\n",
    "torch.mean(infid)"
   ]
  },
  {
   "cell_type": "code",
   "execution_count": 113,
   "id": "d5b83516",
   "metadata": {
    "collapsed": false,
    "pycharm": {
     "name": "#%%\n"
    }
   },
   "outputs": [],
   "source": [
    "fp_attr_claix = fp_claix.attribute(tensor_X)\n",
    "fp_attr_df_claix = annotate_attributions(fp_attr_claix, columns=list(df_claix_posix.columns))"
   ]
  },
  {
   "cell_type": "code",
   "execution_count": 114,
   "id": "afd66e81",
   "metadata": {
    "collapsed": false,
    "pycharm": {
     "name": "#%%\n"
    }
   },
   "outputs": [
    {
     "data": {
      "text/plain": [
       "tensor(2.2639, device='cuda:0')"
      ]
     },
     "execution_count": 114,
     "metadata": {},
     "output_type": "execute_result"
    }
   ],
   "source": [
    "sens = sensitivity_max(fp_claix.attribute, tensor_X)\n",
    "torch.mean(sens)"
   ]
  },
  {
   "cell_type": "code",
   "execution_count": 115,
   "id": "fb16bcc8",
   "metadata": {
    "collapsed": false,
    "pycharm": {
     "name": "#%%\n"
    }
   },
   "outputs": [
    {
     "data": {
      "text/plain": [
       "tensor(49360.8672, device='cuda:0')"
      ]
     },
     "execution_count": 115,
     "metadata": {},
     "output_type": "execute_result"
    }
   ],
   "source": [
    "infid = infidelity(claix_model, perturb_fn, tensor_X, fp_attr_claix)\n",
    "torch.mean(infid)"
   ]
  },
  {
   "cell_type": "code",
   "execution_count": 116,
   "id": "9123d75c",
   "metadata": {
    "collapsed": false,
    "pycharm": {
     "name": "#%%\n"
    }
   },
   "outputs": [
    {
     "name": "stderr",
     "output_type": "stream",
     "text": [
      "/home/eo080593/Software/miniconda3/envs/pytorch-1.12/lib/python3.9/site-packages/captum/_utils/gradient.py:57: UserWarning: Input Tensor 0 did not already require gradients, required_grads has been set automatically.\n",
      "  warnings.warn(\n"
     ]
    }
   ],
   "source": [
    "input_x_grad_attr_claix = input_x_grad_claix.attribute(tensor_X)\n",
    "input_x_grad_attr_df_claix = annotate_attributions(input_x_grad_attr_claix, columns=list(df_claix_posix.columns))"
   ]
  },
  {
   "cell_type": "code",
   "execution_count": 117,
   "id": "92d0e848",
   "metadata": {
    "collapsed": false,
    "pycharm": {
     "name": "#%%\n"
    }
   },
   "outputs": [
    {
     "name": "stderr",
     "output_type": "stream",
     "text": [
      "/home/eo080593/Software/miniconda3/envs/pytorch-1.12/lib/python3.9/site-packages/captum/_utils/gradient.py:57: UserWarning: Input Tensor 0 did not already require gradients, required_grads has been set automatically.\n",
      "  warnings.warn(\n"
     ]
    },
    {
     "data": {
      "text/plain": [
       "tensor(0.3036, device='cuda:0')"
      ]
     },
     "execution_count": 117,
     "metadata": {},
     "output_type": "execute_result"
    }
   ],
   "source": [
    "sens = sensitivity_max(input_x_grad_claix.attribute, tensor_X)\n",
    "torch.mean(sens)"
   ]
  },
  {
   "cell_type": "code",
   "execution_count": 118,
   "id": "129f0092",
   "metadata": {
    "collapsed": false,
    "pycharm": {
     "name": "#%%\n"
    }
   },
   "outputs": [
    {
     "data": {
      "text/plain": [
       "tensor(48032.1992, device='cuda:0')"
      ]
     },
     "execution_count": 118,
     "metadata": {},
     "output_type": "execute_result"
    }
   ],
   "source": [
    "infid = infidelity(claix_model, perturb_fn, tensor_X, input_x_grad_attr_claix)\n",
    "torch.mean(infid)"
   ]
  },
  {
   "cell_type": "code",
   "execution_count": 119,
   "id": "ba1f9ccd",
   "metadata": {
    "collapsed": false,
    "pycharm": {
     "name": "#%%\n"
    }
   },
   "outputs": [
    {
     "name": "stderr",
     "output_type": "stream",
     "text": [
      "/home/eo080593/Software/miniconda3/envs/pytorch-1.12/lib/python3.9/site-packages/captum/attr/_core/guided_backprop_deconvnet.py:64: UserWarning: Setting backward hooks on ReLU activations.The hooks will be removed after the attribution is finished\n",
      "  warnings.warn(\n"
     ]
    }
   ],
   "source": [
    "guided_back_prop_attr_claix = guided_back_prop_claix.attribute(tensor_X)\n",
    "guided_back_prop_attr_df_claix = annotate_attributions(guided_back_prop_attr_claix, columns=list(df_claix_posix.columns))"
   ]
  },
  {
   "cell_type": "code",
   "execution_count": 120,
   "id": "c9585bc5",
   "metadata": {
    "collapsed": false,
    "pycharm": {
     "name": "#%%\n"
    }
   },
   "outputs": [
    {
     "name": "stderr",
     "output_type": "stream",
     "text": [
      "/home/eo080593/Software/miniconda3/envs/pytorch-1.12/lib/python3.9/site-packages/captum/_utils/gradient.py:57: UserWarning: Input Tensor 0 did not already require gradients, required_grads has been set automatically.\n",
      "  warnings.warn(\n",
      "/home/eo080593/Software/miniconda3/envs/pytorch-1.12/lib/python3.9/site-packages/captum/attr/_core/guided_backprop_deconvnet.py:64: UserWarning: Setting backward hooks on ReLU activations.The hooks will be removed after the attribution is finished\n",
      "  warnings.warn(\n"
     ]
    },
    {
     "data": {
      "text/plain": [
       "tensor(0.1195, device='cuda:0')"
      ]
     },
     "execution_count": 120,
     "metadata": {},
     "output_type": "execute_result"
    }
   ],
   "source": [
    "sens = sensitivity_max(guided_back_prop_claix.attribute, tensor_X)\n",
    "torch.mean(sens)"
   ]
  },
  {
   "cell_type": "code",
   "execution_count": 121,
   "id": "bead6147",
   "metadata": {
    "collapsed": false,
    "pycharm": {
     "name": "#%%\n"
    }
   },
   "outputs": [
    {
     "data": {
      "text/plain": [
       "tensor(46559.8945, device='cuda:0')"
      ]
     },
     "execution_count": 121,
     "metadata": {},
     "output_type": "execute_result"
    }
   ],
   "source": [
    "infid = infidelity(claix_model, perturb_fn, tensor_X, guided_back_prop_attr_claix)\n",
    "torch.mean(infid)"
   ]
  },
  {
   "cell_type": "code",
   "execution_count": 122,
   "id": "e4959f0d",
   "metadata": {
    "collapsed": false,
    "pycharm": {
     "name": "#%%\n"
    }
   },
   "outputs": [],
   "source": [
    "shap_sampling_attr_claix = shap_sampling_claix.attribute(tensor_X)\n",
    "shap_sampling_attr_df_claix = annotate_attributions(shap_sampling_attr_claix, columns=list(df_claix_posix.columns))"
   ]
  },
  {
   "cell_type": "code",
   "execution_count": 123,
   "id": "0ce51cda",
   "metadata": {
    "collapsed": false,
    "pycharm": {
     "name": "#%%\n"
    }
   },
   "outputs": [
    {
     "data": {
      "text/plain": [
       "tensor(0.4336, device='cuda:0')"
      ]
     },
     "execution_count": 123,
     "metadata": {},
     "output_type": "execute_result"
    }
   ],
   "source": [
    "sens = sensitivity_max(shap_sampling_claix.attribute, tensor_X)\n",
    "torch.mean(sens)"
   ]
  },
  {
   "cell_type": "code",
   "execution_count": 124,
   "id": "98be40ce",
   "metadata": {
    "collapsed": false,
    "pycharm": {
     "name": "#%%\n"
    }
   },
   "outputs": [
    {
     "data": {
      "text/plain": [
       "tensor(48765.1211, device='cuda:0')"
      ]
     },
     "execution_count": 124,
     "metadata": {},
     "output_type": "execute_result"
    }
   ],
   "source": [
    "infid = infidelity(claix_model, perturb_fn, tensor_X, shap_sampling_attr_claix)\n",
    "torch.mean(infid)"
   ]
  },
  {
   "cell_type": "code",
   "execution_count": 125,
   "id": "09f5f1c5",
   "metadata": {
    "collapsed": false,
    "pycharm": {
     "name": "#%%\n"
    }
   },
   "outputs": [
    {
     "name": "stdout",
     "output_type": "stream",
     "text": [
      "Delta Avg:  tensor(0.2106, device='cuda:0', dtype=torch.float64)\n"
     ]
    }
   ],
   "source": [
    "ig_nt_attr_claix, ig_nt_delta_claix = ig_nt_claix.attribute(tensor_X, return_convergence_delta=True)\n",
    "print(\"Delta Avg: \", torch.mean(ig_nt_delta_claix))\n",
    "ig_nt_attr_df_claix = annotate_attributions(ig_nt_attr_claix, columns=list(df_claix_posix.columns))"
   ]
  },
  {
   "cell_type": "code",
   "execution_count": 126,
   "id": "69b1c02b",
   "metadata": {
    "collapsed": false,
    "pycharm": {
     "name": "#%%\n"
    }
   },
   "outputs": [
    {
     "name": "stdout",
     "output_type": "stream",
     "text": [
      "Delta Avg:  tensor(29.1444, device='cuda:0')\n"
     ]
    },
    {
     "name": "stderr",
     "output_type": "stream",
     "text": [
      "/home/eo080593/Software/miniconda3/envs/pytorch-1.12/lib/python3.9/site-packages/captum/_utils/gradient.py:57: UserWarning: Input Tensor 0 did not already require gradients, required_grads has been set automatically.\n",
      "  warnings.warn(\n",
      "/home/eo080593/Software/miniconda3/envs/pytorch-1.12/lib/python3.9/site-packages/captum/attr/_core/deep_lift.py:336: UserWarning: Setting forward, backward hooks and attributes on non-linear\n",
      "               activations. The hooks and attributes will be removed\n",
      "            after the attribution is finished\n",
      "  warnings.warn(\n"
     ]
    }
   ],
   "source": [
    "dl_attr_claix, dl_delta_claix = dl_claix.attribute(tensor_X, return_convergence_delta=True)\n",
    "print(\"Delta Avg: \", torch.mean(dl_delta_claix))\n",
    "dl_attr_df_claix = annotate_attributions(dl_attr_claix, columns=list(df_claix_posix.columns))"
   ]
  },
  {
   "cell_type": "code",
   "execution_count": 127,
   "id": "04125745",
   "metadata": {
    "collapsed": false,
    "pycharm": {
     "name": "#%%\n"
    }
   },
   "outputs": [],
   "source": [
    "fa_attr_claix = fa_claix.attribute(tensor_X)\n",
    "fa_attr_df_claix = annotate_attributions(fa_attr_claix, columns=list(df_claix_posix.columns))"
   ]
  },
  {
   "cell_type": "code",
   "execution_count": 128,
   "id": "163e8cc1",
   "metadata": {
    "collapsed": false,
    "pycharm": {
     "name": "#%%\n"
    }
   },
   "outputs": [
    {
     "data": {
      "text/plain": [
       "tensor(1.8132, device='cuda:0')"
      ]
     },
     "execution_count": 128,
     "metadata": {},
     "output_type": "execute_result"
    }
   ],
   "source": [
    "sens = sensitivity_max(fa_claix.attribute, tensor_X)\n",
    "torch.mean(sens)"
   ]
  },
  {
   "cell_type": "code",
   "execution_count": 129,
   "id": "408130d1",
   "metadata": {
    "collapsed": false,
    "pycharm": {
     "name": "#%%\n"
    }
   },
   "outputs": [
    {
     "data": {
      "text/plain": [
       "tensor(47416.7852, device='cuda:0')"
      ]
     },
     "execution_count": 129,
     "metadata": {},
     "output_type": "execute_result"
    }
   ],
   "source": [
    "infid = infidelity(claix_model, perturb_fn, tensor_X, fa_attr_claix)\n",
    "torch.mean(infid)"
   ]
  },
  {
   "cell_type": "code",
   "execution_count": 132,
   "id": "be936b27",
   "metadata": {
    "collapsed": false,
    "pycharm": {
     "name": "#%%\n"
    }
   },
   "outputs": [],
   "source": [
    "def calc_norm_sum(attributions_df):\n",
    "    attributions_sum = attributions_df.sum(0)\n",
    "    return (attributions_sum / np.linalg.norm(attributions_sum, ord=1)).to_frame(name=\"norm_attr_coeff\") # Just division returns a Series, so cast it to a DataFrame"
   ]
  },
  {
   "cell_type": "code",
   "execution_count": 133,
   "id": "05ebe3a9",
   "metadata": {
    "collapsed": false,
    "pycharm": {
     "name": "#%%\n"
    }
   },
   "outputs": [
    {
     "data": {
      "text/html": [
       "<div>\n",
       "<style scoped>\n",
       "    .dataframe tbody tr th:only-of-type {\n",
       "        vertical-align: middle;\n",
       "    }\n",
       "\n",
       "    .dataframe tbody tr th {\n",
       "        vertical-align: top;\n",
       "    }\n",
       "\n",
       "    .dataframe thead th {\n",
       "        text-align: right;\n",
       "    }\n",
       "</style>\n",
       "<table border=\"1\" class=\"dataframe\">\n",
       "  <thead>\n",
       "    <tr style=\"text-align: right;\">\n",
       "      <th></th>\n",
       "      <th>norm_attr_coeff</th>\n",
       "    </tr>\n",
       "  </thead>\n",
       "  <tbody>\n",
       "    <tr>\n",
       "      <th>POSIX_OPENS</th>\n",
       "      <td>0.000506</td>\n",
       "    </tr>\n",
       "    <tr>\n",
       "      <th>POSIX_FILENOS</th>\n",
       "      <td>0.000238</td>\n",
       "    </tr>\n",
       "    <tr>\n",
       "      <th>POSIX_DUPS</th>\n",
       "      <td>0.000000</td>\n",
       "    </tr>\n",
       "    <tr>\n",
       "      <th>POSIX_READS</th>\n",
       "      <td>0.003827</td>\n",
       "    </tr>\n",
       "    <tr>\n",
       "      <th>POSIX_WRITES</th>\n",
       "      <td>-0.002928</td>\n",
       "    </tr>\n",
       "    <tr>\n",
       "      <th>...</th>\n",
       "      <td>...</td>\n",
       "    </tr>\n",
       "    <tr>\n",
       "      <th>POSIX_F_MAX_READ_TIME</th>\n",
       "      <td>0.006486</td>\n",
       "    </tr>\n",
       "    <tr>\n",
       "      <th>POSIX_F_MAX_WRITE_TIME</th>\n",
       "      <td>0.007066</td>\n",
       "    </tr>\n",
       "    <tr>\n",
       "      <th>POSIX_F_FASTEST_RANK_TIME</th>\n",
       "      <td>-0.000308</td>\n",
       "    </tr>\n",
       "    <tr>\n",
       "      <th>POSIX_F_SLOWEST_RANK_TIME</th>\n",
       "      <td>0.017646</td>\n",
       "    </tr>\n",
       "    <tr>\n",
       "      <th>nprocs</th>\n",
       "      <td>0.003163</td>\n",
       "    </tr>\n",
       "  </tbody>\n",
       "</table>\n",
       "<p>97 rows × 1 columns</p>\n",
       "</div>"
      ],
      "text/plain": [
       "                           norm_attr_coeff\n",
       "POSIX_OPENS                       0.000506\n",
       "POSIX_FILENOS                     0.000238\n",
       "POSIX_DUPS                        0.000000\n",
       "POSIX_READS                       0.003827\n",
       "POSIX_WRITES                     -0.002928\n",
       "...                                    ...\n",
       "POSIX_F_MAX_READ_TIME             0.006486\n",
       "POSIX_F_MAX_WRITE_TIME            0.007066\n",
       "POSIX_F_FASTEST_RANK_TIME        -0.000308\n",
       "POSIX_F_SLOWEST_RANK_TIME         0.017646\n",
       "nprocs                            0.003163\n",
       "\n",
       "[97 rows x 1 columns]"
      ]
     },
     "execution_count": 133,
     "metadata": {},
     "output_type": "execute_result"
    }
   ],
   "source": [
    "ig_attr_norm_sum_claix = calc_norm_sum(ig_attributions_df_claix)\n",
    "ig_attr_norm_sum_claix"
   ]
  },
  {
   "cell_type": "code",
   "execution_count": 134,
   "id": "65b5f145",
   "metadata": {
    "collapsed": false,
    "pycharm": {
     "name": "#%%\n"
    }
   },
   "outputs": [],
   "source": [
    "ig_nt_attr_test_norm_sum_claix = calc_norm_sum(ig_nt_attr_df_claix)"
   ]
  },
  {
   "cell_type": "code",
   "execution_count": 135,
   "id": "d323ccb9",
   "metadata": {
    "collapsed": false,
    "pycharm": {
     "name": "#%%\n"
    }
   },
   "outputs": [],
   "source": [
    "dl_attr_test_norm_sum_claix = calc_norm_sum(dl_attr_df_claix)"
   ]
  },
  {
   "cell_type": "code",
   "execution_count": 137,
   "id": "0706ecc3",
   "metadata": {
    "collapsed": false,
    "pycharm": {
     "name": "#%%\n"
    }
   },
   "outputs": [],
   "source": [
    "fa_attr_test_norm_sum_claix =calc_norm_sum(fa_attr_df_claix)"
   ]
  },
  {
   "cell_type": "code",
   "execution_count": 138,
   "id": "da113306",
   "metadata": {
    "collapsed": false,
    "pycharm": {
     "name": "#%%\n"
    }
   },
   "outputs": [],
   "source": [
    "sal_norm_sum_claix = calc_norm_sum(sal_attr_df_claix)"
   ]
  },
  {
   "cell_type": "code",
   "execution_count": 139,
   "id": "9ff67f2f",
   "metadata": {
    "collapsed": false,
    "pycharm": {
     "name": "#%%\n"
    }
   },
   "outputs": [],
   "source": [
    "input_x_grad_norm_sum_claix = calc_norm_sum(input_x_grad_attr_df_claix)"
   ]
  },
  {
   "cell_type": "code",
   "execution_count": 140,
   "id": "1da3fe34",
   "metadata": {
    "collapsed": false,
    "pycharm": {
     "name": "#%%\n"
    }
   },
   "outputs": [],
   "source": [
    "guided_back_prop_norm_sum_claix = calc_norm_sum(guided_back_prop_attr_df_claix)"
   ]
  },
  {
   "cell_type": "code",
   "execution_count": 141,
   "id": "4224b54f",
   "metadata": {
    "collapsed": false,
    "pycharm": {
     "name": "#%%\n"
    }
   },
   "outputs": [],
   "source": [
    "fp_attr_norm_sum_claix = calc_norm_sum(fp_attr_df_claix)"
   ]
  },
  {
   "cell_type": "code",
   "execution_count": 142,
   "id": "d4f5a590",
   "metadata": {
    "collapsed": false,
    "pycharm": {
     "name": "#%%\n"
    }
   },
   "outputs": [],
   "source": [
    "shap_sampling_attr_norm_sum_claix = calc_norm_sum(shap_sampling_attr_df_claix)"
   ]
  },
  {
   "cell_type": "code",
   "execution_count": 143,
   "id": "84c43004",
   "metadata": {
    "collapsed": false,
    "pycharm": {
     "name": "#%%\n"
    }
   },
   "outputs": [
    {
     "data": {
      "text/html": [
       "<div>\n",
       "<style scoped>\n",
       "    .dataframe tbody tr th:only-of-type {\n",
       "        vertical-align: middle;\n",
       "    }\n",
       "\n",
       "    .dataframe tbody tr th {\n",
       "        vertical-align: top;\n",
       "    }\n",
       "\n",
       "    .dataframe thead th {\n",
       "        text-align: right;\n",
       "    }\n",
       "</style>\n",
       "<table border=\"1\" class=\"dataframe\">\n",
       "  <thead>\n",
       "    <tr style=\"text-align: right;\">\n",
       "      <th></th>\n",
       "      <th>ig</th>\n",
       "      <th>ig_noise_tunnel</th>\n",
       "      <th>deeplift</th>\n",
       "      <th>feature_ablation</th>\n",
       "      <th>shap_sampling</th>\n",
       "      <th>guided_backprop</th>\n",
       "      <th>feature_permutation</th>\n",
       "      <th>input_x_grad</th>\n",
       "      <th>saliency</th>\n",
       "    </tr>\n",
       "  </thead>\n",
       "  <tbody>\n",
       "    <tr>\n",
       "      <th>POSIX_OPENS</th>\n",
       "      <td>0.000506</td>\n",
       "      <td>0.000116</td>\n",
       "      <td>0.000516</td>\n",
       "      <td>-0.000363</td>\n",
       "      <td>0.000217</td>\n",
       "      <td>-0.000304</td>\n",
       "      <td>0.006641</td>\n",
       "      <td>0.000631</td>\n",
       "      <td>0.000495</td>\n",
       "    </tr>\n",
       "    <tr>\n",
       "      <th>POSIX_FILENOS</th>\n",
       "      <td>0.000238</td>\n",
       "      <td>0.000230</td>\n",
       "      <td>0.000239</td>\n",
       "      <td>-0.002010</td>\n",
       "      <td>0.000790</td>\n",
       "      <td>-0.000547</td>\n",
       "      <td>0.000575</td>\n",
       "      <td>0.000632</td>\n",
       "      <td>0.000427</td>\n",
       "    </tr>\n",
       "    <tr>\n",
       "      <th>POSIX_DUPS</th>\n",
       "      <td>0.000000</td>\n",
       "      <td>0.000002</td>\n",
       "      <td>0.000000</td>\n",
       "      <td>0.003602</td>\n",
       "      <td>0.000768</td>\n",
       "      <td>0.000040</td>\n",
       "      <td>0.009781</td>\n",
       "      <td>0.000000</td>\n",
       "      <td>0.000030</td>\n",
       "    </tr>\n",
       "    <tr>\n",
       "      <th>POSIX_READS</th>\n",
       "      <td>0.003827</td>\n",
       "      <td>0.000834</td>\n",
       "      <td>0.003840</td>\n",
       "      <td>0.001296</td>\n",
       "      <td>0.002608</td>\n",
       "      <td>-0.002762</td>\n",
       "      <td>0.016784</td>\n",
       "      <td>0.003819</td>\n",
       "      <td>0.002519</td>\n",
       "    </tr>\n",
       "    <tr>\n",
       "      <th>POSIX_WRITES</th>\n",
       "      <td>-0.002928</td>\n",
       "      <td>-0.000274</td>\n",
       "      <td>-0.003579</td>\n",
       "      <td>-0.001705</td>\n",
       "      <td>-0.001774</td>\n",
       "      <td>-0.000870</td>\n",
       "      <td>0.000634</td>\n",
       "      <td>-0.001377</td>\n",
       "      <td>0.000975</td>\n",
       "    </tr>\n",
       "    <tr>\n",
       "      <th>...</th>\n",
       "      <td>...</td>\n",
       "      <td>...</td>\n",
       "      <td>...</td>\n",
       "      <td>...</td>\n",
       "      <td>...</td>\n",
       "      <td>...</td>\n",
       "      <td>...</td>\n",
       "      <td>...</td>\n",
       "      <td>...</td>\n",
       "    </tr>\n",
       "    <tr>\n",
       "      <th>POSIX_F_MAX_READ_TIME</th>\n",
       "      <td>0.006486</td>\n",
       "      <td>0.003712</td>\n",
       "      <td>0.005942</td>\n",
       "      <td>0.010220</td>\n",
       "      <td>0.008393</td>\n",
       "      <td>-0.009642</td>\n",
       "      <td>0.016982</td>\n",
       "      <td>0.008835</td>\n",
       "      <td>0.006893</td>\n",
       "    </tr>\n",
       "    <tr>\n",
       "      <th>POSIX_F_MAX_WRITE_TIME</th>\n",
       "      <td>0.007066</td>\n",
       "      <td>0.004321</td>\n",
       "      <td>0.006671</td>\n",
       "      <td>0.001578</td>\n",
       "      <td>0.005058</td>\n",
       "      <td>-0.004206</td>\n",
       "      <td>0.010123</td>\n",
       "      <td>0.004350</td>\n",
       "      <td>0.001668</td>\n",
       "    </tr>\n",
       "    <tr>\n",
       "      <th>POSIX_F_FASTEST_RANK_TIME</th>\n",
       "      <td>-0.000308</td>\n",
       "      <td>-0.000125</td>\n",
       "      <td>-0.000364</td>\n",
       "      <td>-0.000211</td>\n",
       "      <td>-0.000047</td>\n",
       "      <td>-0.000691</td>\n",
       "      <td>0.009754</td>\n",
       "      <td>-0.000416</td>\n",
       "      <td>0.000222</td>\n",
       "    </tr>\n",
       "    <tr>\n",
       "      <th>POSIX_F_SLOWEST_RANK_TIME</th>\n",
       "      <td>0.017646</td>\n",
       "      <td>0.004403</td>\n",
       "      <td>0.017033</td>\n",
       "      <td>0.013705</td>\n",
       "      <td>0.015667</td>\n",
       "      <td>-0.016577</td>\n",
       "      <td>0.029480</td>\n",
       "      <td>0.016897</td>\n",
       "      <td>0.015303</td>\n",
       "    </tr>\n",
       "    <tr>\n",
       "      <th>nprocs</th>\n",
       "      <td>0.003163</td>\n",
       "      <td>0.000256</td>\n",
       "      <td>0.002654</td>\n",
       "      <td>-0.000760</td>\n",
       "      <td>0.002698</td>\n",
       "      <td>-0.000292</td>\n",
       "      <td>0.010033</td>\n",
       "      <td>0.000178</td>\n",
       "      <td>0.001595</td>\n",
       "    </tr>\n",
       "  </tbody>\n",
       "</table>\n",
       "<p>97 rows × 9 columns</p>\n",
       "</div>"
      ],
      "text/plain": [
       "                                 ig  ig_noise_tunnel  deeplift  \\\n",
       "POSIX_OPENS                0.000506         0.000116  0.000516   \n",
       "POSIX_FILENOS              0.000238         0.000230  0.000239   \n",
       "POSIX_DUPS                 0.000000         0.000002  0.000000   \n",
       "POSIX_READS                0.003827         0.000834  0.003840   \n",
       "POSIX_WRITES              -0.002928        -0.000274 -0.003579   \n",
       "...                             ...              ...       ...   \n",
       "POSIX_F_MAX_READ_TIME      0.006486         0.003712  0.005942   \n",
       "POSIX_F_MAX_WRITE_TIME     0.007066         0.004321  0.006671   \n",
       "POSIX_F_FASTEST_RANK_TIME -0.000308        -0.000125 -0.000364   \n",
       "POSIX_F_SLOWEST_RANK_TIME  0.017646         0.004403  0.017033   \n",
       "nprocs                     0.003163         0.000256  0.002654   \n",
       "\n",
       "                           feature_ablation  shap_sampling  guided_backprop  \\\n",
       "POSIX_OPENS                       -0.000363       0.000217        -0.000304   \n",
       "POSIX_FILENOS                     -0.002010       0.000790        -0.000547   \n",
       "POSIX_DUPS                         0.003602       0.000768         0.000040   \n",
       "POSIX_READS                        0.001296       0.002608        -0.002762   \n",
       "POSIX_WRITES                      -0.001705      -0.001774        -0.000870   \n",
       "...                                     ...            ...              ...   \n",
       "POSIX_F_MAX_READ_TIME              0.010220       0.008393        -0.009642   \n",
       "POSIX_F_MAX_WRITE_TIME             0.001578       0.005058        -0.004206   \n",
       "POSIX_F_FASTEST_RANK_TIME         -0.000211      -0.000047        -0.000691   \n",
       "POSIX_F_SLOWEST_RANK_TIME          0.013705       0.015667        -0.016577   \n",
       "nprocs                            -0.000760       0.002698        -0.000292   \n",
       "\n",
       "                           feature_permutation  input_x_grad  saliency  \n",
       "POSIX_OPENS                           0.006641      0.000631  0.000495  \n",
       "POSIX_FILENOS                         0.000575      0.000632  0.000427  \n",
       "POSIX_DUPS                            0.009781      0.000000  0.000030  \n",
       "POSIX_READS                           0.016784      0.003819  0.002519  \n",
       "POSIX_WRITES                          0.000634     -0.001377  0.000975  \n",
       "...                                        ...           ...       ...  \n",
       "POSIX_F_MAX_READ_TIME                 0.016982      0.008835  0.006893  \n",
       "POSIX_F_MAX_WRITE_TIME                0.010123      0.004350  0.001668  \n",
       "POSIX_F_FASTEST_RANK_TIME             0.009754     -0.000416  0.000222  \n",
       "POSIX_F_SLOWEST_RANK_TIME             0.029480      0.016897  0.015303  \n",
       "nprocs                                0.010033      0.000178  0.001595  \n",
       "\n",
       "[97 rows x 9 columns]"
      ]
     },
     "execution_count": 143,
     "metadata": {},
     "output_type": "execute_result"
    }
   ],
   "source": [
    "aggregated_feature_attributions_normalized_df_claix = pd.concat([ig_attr_norm_sum_claix, ig_nt_attr_test_norm_sum_claix, dl_attr_test_norm_sum_claix,\n",
    "                                                                fa_attr_test_norm_sum_claix, shap_sampling_attr_norm_sum_claix, guided_back_prop_norm_sum_claix, fp_attr_norm_sum_claix, input_x_grad_norm_sum_claix, sal_norm_sum_claix],\n",
    "                                                                axis=1, join=\"inner\")\n",
    "aggregated_feature_attributions_normalized_df_claix.columns = [\"ig\", \"ig_noise_tunnel\", \"deeplift\",\n",
    "                                                                \"feature_ablation\", \"shap_sampling\", \"guided_backprop\", \"feature_permutation\", \"input_x_grad\", \"saliency\"]\n",
    "aggregated_feature_attributions_normalized_df_claix"
   ]
  },
  {
   "cell_type": "code",
   "execution_count": 144,
   "id": "3c5bdddb",
   "metadata": {
    "collapsed": false,
    "pycharm": {
     "name": "#%%\n"
    }
   },
   "outputs": [
    {
     "data": {
      "text/html": [
       "<div>\n",
       "<style scoped>\n",
       "    .dataframe tbody tr th:only-of-type {\n",
       "        vertical-align: middle;\n",
       "    }\n",
       "\n",
       "    .dataframe tbody tr th {\n",
       "        vertical-align: top;\n",
       "    }\n",
       "\n",
       "    .dataframe thead th {\n",
       "        text-align: right;\n",
       "    }\n",
       "</style>\n",
       "<table border=\"1\" class=\"dataframe\">\n",
       "  <thead>\n",
       "    <tr style=\"text-align: right;\">\n",
       "      <th></th>\n",
       "      <th>avg_attribution_coeff</th>\n",
       "      <th>relative_order</th>\n",
       "      <th>feature_importance_rank</th>\n",
       "    </tr>\n",
       "  </thead>\n",
       "  <tbody>\n",
       "    <tr>\n",
       "      <th>POSIX_F_READ_TIME</th>\n",
       "      <td>0.246626</td>\n",
       "      <td>1.0</td>\n",
       "      <td>1.0</td>\n",
       "    </tr>\n",
       "    <tr>\n",
       "      <th>POSIX_TOTAL_TIME</th>\n",
       "      <td>0.110199</td>\n",
       "      <td>2.0</td>\n",
       "      <td>2.0</td>\n",
       "    </tr>\n",
       "    <tr>\n",
       "      <th>POSIX_F_WRITE_TIME</th>\n",
       "      <td>0.096342</td>\n",
       "      <td>3.0</td>\n",
       "      <td>3.0</td>\n",
       "    </tr>\n",
       "    <tr>\n",
       "      <th>POSIX_F_META_TIME</th>\n",
       "      <td>0.068759</td>\n",
       "      <td>4.0</td>\n",
       "      <td>4.0</td>\n",
       "    </tr>\n",
       "    <tr>\n",
       "      <th>POSIX_F_SLOWEST_RANK_TIME</th>\n",
       "      <td>0.012618</td>\n",
       "      <td>5.0</td>\n",
       "      <td>6.0</td>\n",
       "    </tr>\n",
       "    <tr>\n",
       "      <th>...</th>\n",
       "      <td>...</td>\n",
       "      <td>...</td>\n",
       "      <td>...</td>\n",
       "    </tr>\n",
       "    <tr>\n",
       "      <th>WRITE_0_100</th>\n",
       "      <td>-0.003555</td>\n",
       "      <td>93.0</td>\n",
       "      <td>19.0</td>\n",
       "    </tr>\n",
       "    <tr>\n",
       "      <th>POSIX_MEM_NOT_ALIGNED</th>\n",
       "      <td>-0.005309</td>\n",
       "      <td>94.0</td>\n",
       "      <td>13.0</td>\n",
       "    </tr>\n",
       "    <tr>\n",
       "      <th>POSIX_SIZE_READ_1G_PLUS</th>\n",
       "      <td>-0.006814</td>\n",
       "      <td>95.0</td>\n",
       "      <td>9.0</td>\n",
       "    </tr>\n",
       "    <tr>\n",
       "      <th>READ_1G_PLUS</th>\n",
       "      <td>-0.007429</td>\n",
       "      <td>96.0</td>\n",
       "      <td>8.0</td>\n",
       "    </tr>\n",
       "    <tr>\n",
       "      <th>POSIX_BYTES_READ</th>\n",
       "      <td>-0.017711</td>\n",
       "      <td>97.0</td>\n",
       "      <td>5.0</td>\n",
       "    </tr>\n",
       "  </tbody>\n",
       "</table>\n",
       "<p>97 rows × 3 columns</p>\n",
       "</div>"
      ],
      "text/plain": [
       "                           avg_attribution_coeff  relative_order  \\\n",
       "POSIX_F_READ_TIME                       0.246626             1.0   \n",
       "POSIX_TOTAL_TIME                        0.110199             2.0   \n",
       "POSIX_F_WRITE_TIME                      0.096342             3.0   \n",
       "POSIX_F_META_TIME                       0.068759             4.0   \n",
       "POSIX_F_SLOWEST_RANK_TIME               0.012618             5.0   \n",
       "...                                          ...             ...   \n",
       "WRITE_0_100                            -0.003555            93.0   \n",
       "POSIX_MEM_NOT_ALIGNED                  -0.005309            94.0   \n",
       "POSIX_SIZE_READ_1G_PLUS                -0.006814            95.0   \n",
       "READ_1G_PLUS                           -0.007429            96.0   \n",
       "POSIX_BYTES_READ                       -0.017711            97.0   \n",
       "\n",
       "                           feature_importance_rank  \n",
       "POSIX_F_READ_TIME                              1.0  \n",
       "POSIX_TOTAL_TIME                               2.0  \n",
       "POSIX_F_WRITE_TIME                             3.0  \n",
       "POSIX_F_META_TIME                              4.0  \n",
       "POSIX_F_SLOWEST_RANK_TIME                      6.0  \n",
       "...                                            ...  \n",
       "WRITE_0_100                                   19.0  \n",
       "POSIX_MEM_NOT_ALIGNED                         13.0  \n",
       "POSIX_SIZE_READ_1G_PLUS                        9.0  \n",
       "READ_1G_PLUS                                   8.0  \n",
       "POSIX_BYTES_READ                               5.0  \n",
       "\n",
       "[97 rows x 3 columns]"
      ]
     },
     "execution_count": 144,
     "metadata": {},
     "output_type": "execute_result"
    }
   ],
   "source": [
    "summary_feature_attributions_normalized_df_claix = calculate_avg_attributions(aggregated_feature_attributions_normalized_df_claix, axis=1)\n",
    "\n",
    "# For each feature, show its relative order (1 - most positive influence, n - least positive influence)\n",
    "# Rank features by their absolute coefficient value to identify the most important ones\n",
    "summary_feature_attributions_normalized_df_claix = rank_features_by_importance(add_relative_order_of_features(summary_feature_attributions_normalized_df_claix))\n",
    "summary_feature_attributions_normalized_df_claix"
   ]
  },
  {
   "cell_type": "code",
   "execution_count": 145,
   "id": "ddfa1adb",
   "metadata": {
    "collapsed": false,
    "pycharm": {
     "name": "#%%\n"
    }
   },
   "outputs": [
    {
     "data": {
      "text/plain": [
       "avg_attribution_coeff      -0.017711\n",
       "relative_order             97.000000\n",
       "feature_importance_rank     5.000000\n",
       "Name: POSIX_BYTES_READ, dtype: float64"
      ]
     },
     "execution_count": 145,
     "metadata": {},
     "output_type": "execute_result"
    }
   ],
   "source": [
    "summary_feature_attributions_normalized_df_claix.loc[\"POSIX_BYTES_READ\"]"
   ]
  },
  {
   "cell_type": "code",
   "execution_count": 157,
   "id": "7752fd6d",
   "metadata": {
    "collapsed": false,
    "pycharm": {
     "name": "#%%\n"
    }
   },
   "outputs": [
    {
     "data": {
      "text/html": [
       "<div>\n",
       "<style scoped>\n",
       "    .dataframe tbody tr th:only-of-type {\n",
       "        vertical-align: middle;\n",
       "    }\n",
       "\n",
       "    .dataframe tbody tr th {\n",
       "        vertical-align: top;\n",
       "    }\n",
       "\n",
       "    .dataframe thead th {\n",
       "        text-align: right;\n",
       "    }\n",
       "</style>\n",
       "<table border=\"1\" class=\"dataframe\">\n",
       "  <thead>\n",
       "    <tr style=\"text-align: right;\">\n",
       "      <th></th>\n",
       "      <th>avg_attribution_coeff_bw</th>\n",
       "      <th>relative_order_bw</th>\n",
       "      <th>feature_importance_rank_bw</th>\n",
       "      <th>avg_attribution_coeff_claix</th>\n",
       "      <th>relative_order_claix</th>\n",
       "      <th>feature_importance_rank_claix</th>\n",
       "    </tr>\n",
       "  </thead>\n",
       "  <tbody>\n",
       "    <tr>\n",
       "      <th>POSIX_F_READ_TIME</th>\n",
       "      <td>0.241142</td>\n",
       "      <td>1.0</td>\n",
       "      <td>1.0</td>\n",
       "      <td>0.246626</td>\n",
       "      <td>1.0</td>\n",
       "      <td>1.0</td>\n",
       "    </tr>\n",
       "    <tr>\n",
       "      <th>POSIX_TOTAL_TIME</th>\n",
       "      <td>0.104137</td>\n",
       "      <td>2.0</td>\n",
       "      <td>2.0</td>\n",
       "      <td>0.110199</td>\n",
       "      <td>2.0</td>\n",
       "      <td>2.0</td>\n",
       "    </tr>\n",
       "    <tr>\n",
       "      <th>POSIX_F_WRITE_TIME</th>\n",
       "      <td>0.092017</td>\n",
       "      <td>3.0</td>\n",
       "      <td>3.0</td>\n",
       "      <td>0.096342</td>\n",
       "      <td>3.0</td>\n",
       "      <td>3.0</td>\n",
       "    </tr>\n",
       "    <tr>\n",
       "      <th>POSIX_F_META_TIME</th>\n",
       "      <td>0.069713</td>\n",
       "      <td>4.0</td>\n",
       "      <td>4.0</td>\n",
       "      <td>0.068759</td>\n",
       "      <td>4.0</td>\n",
       "      <td>4.0</td>\n",
       "    </tr>\n",
       "    <tr>\n",
       "      <th>POSIX_ACCESS2_ACCESS</th>\n",
       "      <td>0.010361</td>\n",
       "      <td>5.0</td>\n",
       "      <td>6.0</td>\n",
       "      <td>0.011412</td>\n",
       "      <td>6.0</td>\n",
       "      <td>7.0</td>\n",
       "    </tr>\n",
       "    <tr>\n",
       "      <th>...</th>\n",
       "      <td>...</td>\n",
       "      <td>...</td>\n",
       "      <td>...</td>\n",
       "      <td>...</td>\n",
       "      <td>...</td>\n",
       "      <td>...</td>\n",
       "    </tr>\n",
       "    <tr>\n",
       "      <th>POSIX_SIZE_WRITE_0_100</th>\n",
       "      <td>-0.004580</td>\n",
       "      <td>93.0</td>\n",
       "      <td>16.0</td>\n",
       "      <td>-0.002226</td>\n",
       "      <td>87.0</td>\n",
       "      <td>38.0</td>\n",
       "    </tr>\n",
       "    <tr>\n",
       "      <th>POSIX_MEM_NOT_ALIGNED</th>\n",
       "      <td>-0.008242</td>\n",
       "      <td>94.0</td>\n",
       "      <td>11.0</td>\n",
       "      <td>-0.005309</td>\n",
       "      <td>94.0</td>\n",
       "      <td>13.0</td>\n",
       "    </tr>\n",
       "    <tr>\n",
       "      <th>READ_1G_PLUS</th>\n",
       "      <td>-0.009140</td>\n",
       "      <td>95.0</td>\n",
       "      <td>10.0</td>\n",
       "      <td>-0.007429</td>\n",
       "      <td>96.0</td>\n",
       "      <td>8.0</td>\n",
       "    </tr>\n",
       "    <tr>\n",
       "      <th>POSIX_SIZE_READ_1G_PLUS</th>\n",
       "      <td>-0.009203</td>\n",
       "      <td>96.0</td>\n",
       "      <td>9.0</td>\n",
       "      <td>-0.006814</td>\n",
       "      <td>95.0</td>\n",
       "      <td>9.0</td>\n",
       "    </tr>\n",
       "    <tr>\n",
       "      <th>POSIX_BYTES_READ</th>\n",
       "      <td>-0.021065</td>\n",
       "      <td>97.0</td>\n",
       "      <td>5.0</td>\n",
       "      <td>-0.017711</td>\n",
       "      <td>97.0</td>\n",
       "      <td>5.0</td>\n",
       "    </tr>\n",
       "  </tbody>\n",
       "</table>\n",
       "<p>97 rows × 6 columns</p>\n",
       "</div>"
      ],
      "text/plain": [
       "                         avg_attribution_coeff_bw  relative_order_bw  \\\n",
       "POSIX_F_READ_TIME                        0.241142                1.0   \n",
       "POSIX_TOTAL_TIME                         0.104137                2.0   \n",
       "POSIX_F_WRITE_TIME                       0.092017                3.0   \n",
       "POSIX_F_META_TIME                        0.069713                4.0   \n",
       "POSIX_ACCESS2_ACCESS                     0.010361                5.0   \n",
       "...                                           ...                ...   \n",
       "POSIX_SIZE_WRITE_0_100                  -0.004580               93.0   \n",
       "POSIX_MEM_NOT_ALIGNED                   -0.008242               94.0   \n",
       "READ_1G_PLUS                            -0.009140               95.0   \n",
       "POSIX_SIZE_READ_1G_PLUS                 -0.009203               96.0   \n",
       "POSIX_BYTES_READ                        -0.021065               97.0   \n",
       "\n",
       "                         feature_importance_rank_bw  \\\n",
       "POSIX_F_READ_TIME                               1.0   \n",
       "POSIX_TOTAL_TIME                                2.0   \n",
       "POSIX_F_WRITE_TIME                              3.0   \n",
       "POSIX_F_META_TIME                               4.0   \n",
       "POSIX_ACCESS2_ACCESS                            6.0   \n",
       "...                                             ...   \n",
       "POSIX_SIZE_WRITE_0_100                         16.0   \n",
       "POSIX_MEM_NOT_ALIGNED                          11.0   \n",
       "READ_1G_PLUS                                   10.0   \n",
       "POSIX_SIZE_READ_1G_PLUS                         9.0   \n",
       "POSIX_BYTES_READ                                5.0   \n",
       "\n",
       "                         avg_attribution_coeff_claix  relative_order_claix  \\\n",
       "POSIX_F_READ_TIME                           0.246626                   1.0   \n",
       "POSIX_TOTAL_TIME                            0.110199                   2.0   \n",
       "POSIX_F_WRITE_TIME                          0.096342                   3.0   \n",
       "POSIX_F_META_TIME                           0.068759                   4.0   \n",
       "POSIX_ACCESS2_ACCESS                        0.011412                   6.0   \n",
       "...                                              ...                   ...   \n",
       "POSIX_SIZE_WRITE_0_100                     -0.002226                  87.0   \n",
       "POSIX_MEM_NOT_ALIGNED                      -0.005309                  94.0   \n",
       "READ_1G_PLUS                               -0.007429                  96.0   \n",
       "POSIX_SIZE_READ_1G_PLUS                    -0.006814                  95.0   \n",
       "POSIX_BYTES_READ                           -0.017711                  97.0   \n",
       "\n",
       "                         feature_importance_rank_claix  \n",
       "POSIX_F_READ_TIME                                  1.0  \n",
       "POSIX_TOTAL_TIME                                   2.0  \n",
       "POSIX_F_WRITE_TIME                                 3.0  \n",
       "POSIX_F_META_TIME                                  4.0  \n",
       "POSIX_ACCESS2_ACCESS                               7.0  \n",
       "...                                                ...  \n",
       "POSIX_SIZE_WRITE_0_100                            38.0  \n",
       "POSIX_MEM_NOT_ALIGNED                             13.0  \n",
       "READ_1G_PLUS                                       8.0  \n",
       "POSIX_SIZE_READ_1G_PLUS                            9.0  \n",
       "POSIX_BYTES_READ                                   5.0  \n",
       "\n",
       "[97 rows x 6 columns]"
      ]
     },
     "execution_count": 157,
     "metadata": {},
     "output_type": "execute_result"
    }
   ],
   "source": [
    "features_importance_comparison_df = pd.merge(summary_feature_attributions_normalized_df_bw, summary_feature_attributions_normalized_df_claix, left_index=True, right_index=True, suffixes=[\"_bw\", \"_claix\"])\n",
    "features_importance_comparison_df"
   ]
  },
  {
   "cell_type": "code",
   "execution_count": 158,
   "id": "8d5e8335",
   "metadata": {
    "collapsed": false,
    "pycharm": {
     "name": "#%%\n"
    }
   },
   "outputs": [
    {
     "data": {
      "text/html": [
       "<div>\n",
       "<style scoped>\n",
       "    .dataframe tbody tr th:only-of-type {\n",
       "        vertical-align: middle;\n",
       "    }\n",
       "\n",
       "    .dataframe tbody tr th {\n",
       "        vertical-align: top;\n",
       "    }\n",
       "\n",
       "    .dataframe thead th {\n",
       "        text-align: right;\n",
       "    }\n",
       "</style>\n",
       "<table border=\"1\" class=\"dataframe\">\n",
       "  <thead>\n",
       "    <tr style=\"text-align: right;\">\n",
       "      <th></th>\n",
       "      <th>avg_attribution_coeff_bw</th>\n",
       "      <th>relative_order_bw</th>\n",
       "      <th>feature_importance_rank_bw</th>\n",
       "      <th>avg_attribution_coeff_claix</th>\n",
       "      <th>relative_order_claix</th>\n",
       "      <th>feature_importance_rank_claix</th>\n",
       "    </tr>\n",
       "  </thead>\n",
       "  <tbody>\n",
       "    <tr>\n",
       "      <th>POSIX_ACCESS2_ACCESS</th>\n",
       "      <td>0.010361</td>\n",
       "      <td>5.0</td>\n",
       "      <td>6.0</td>\n",
       "      <td>0.011412</td>\n",
       "      <td>6.0</td>\n",
       "      <td>7.0</td>\n",
       "    </tr>\n",
       "    <tr>\n",
       "      <th>POSIX_F_SLOWEST_RANK_TIME</th>\n",
       "      <td>0.010032</td>\n",
       "      <td>6.0</td>\n",
       "      <td>7.0</td>\n",
       "      <td>0.012618</td>\n",
       "      <td>5.0</td>\n",
       "      <td>6.0</td>\n",
       "    </tr>\n",
       "    <tr>\n",
       "      <th>POSIX_F_MAX_WRITE_TIME</th>\n",
       "      <td>0.009443</td>\n",
       "      <td>7.0</td>\n",
       "      <td>8.0</td>\n",
       "      <td>0.004070</td>\n",
       "      <td>13.0</td>\n",
       "      <td>17.0</td>\n",
       "    </tr>\n",
       "    <tr>\n",
       "      <th>POSIX_F_MAX_READ_TIME</th>\n",
       "      <td>0.007053</td>\n",
       "      <td>8.0</td>\n",
       "      <td>12.0</td>\n",
       "      <td>0.006425</td>\n",
       "      <td>7.0</td>\n",
       "      <td>10.0</td>\n",
       "    </tr>\n",
       "    <tr>\n",
       "      <th>READ_100_1K</th>\n",
       "      <td>0.005458</td>\n",
       "      <td>9.0</td>\n",
       "      <td>13.0</td>\n",
       "      <td>0.006259</td>\n",
       "      <td>8.0</td>\n",
       "      <td>11.0</td>\n",
       "    </tr>\n",
       "    <tr>\n",
       "      <th>...</th>\n",
       "      <td>...</td>\n",
       "      <td>...</td>\n",
       "      <td>...</td>\n",
       "      <td>...</td>\n",
       "      <td>...</td>\n",
       "      <td>...</td>\n",
       "    </tr>\n",
       "    <tr>\n",
       "      <th>POSIX_SIZE_READ_1M_4M</th>\n",
       "      <td>-0.003905</td>\n",
       "      <td>91.0</td>\n",
       "      <td>18.0</td>\n",
       "      <td>-0.002390</td>\n",
       "      <td>88.0</td>\n",
       "      <td>35.0</td>\n",
       "    </tr>\n",
       "    <tr>\n",
       "      <th>WRITE_0_100</th>\n",
       "      <td>-0.004347</td>\n",
       "      <td>92.0</td>\n",
       "      <td>17.0</td>\n",
       "      <td>-0.003555</td>\n",
       "      <td>93.0</td>\n",
       "      <td>19.0</td>\n",
       "    </tr>\n",
       "    <tr>\n",
       "      <th>POSIX_SIZE_WRITE_0_100</th>\n",
       "      <td>-0.004580</td>\n",
       "      <td>93.0</td>\n",
       "      <td>16.0</td>\n",
       "      <td>-0.002226</td>\n",
       "      <td>87.0</td>\n",
       "      <td>38.0</td>\n",
       "    </tr>\n",
       "    <tr>\n",
       "      <th>READ_1G_PLUS</th>\n",
       "      <td>-0.009140</td>\n",
       "      <td>95.0</td>\n",
       "      <td>10.0</td>\n",
       "      <td>-0.007429</td>\n",
       "      <td>96.0</td>\n",
       "      <td>8.0</td>\n",
       "    </tr>\n",
       "    <tr>\n",
       "      <th>POSIX_SIZE_READ_1G_PLUS</th>\n",
       "      <td>-0.009203</td>\n",
       "      <td>96.0</td>\n",
       "      <td>9.0</td>\n",
       "      <td>-0.006814</td>\n",
       "      <td>95.0</td>\n",
       "      <td>9.0</td>\n",
       "    </tr>\n",
       "  </tbody>\n",
       "</table>\n",
       "<p>85 rows × 6 columns</p>\n",
       "</div>"
      ],
      "text/plain": [
       "                           avg_attribution_coeff_bw  relative_order_bw  \\\n",
       "POSIX_ACCESS2_ACCESS                       0.010361                5.0   \n",
       "POSIX_F_SLOWEST_RANK_TIME                  0.010032                6.0   \n",
       "POSIX_F_MAX_WRITE_TIME                     0.009443                7.0   \n",
       "POSIX_F_MAX_READ_TIME                      0.007053                8.0   \n",
       "READ_100_1K                                0.005458                9.0   \n",
       "...                                             ...                ...   \n",
       "POSIX_SIZE_READ_1M_4M                     -0.003905               91.0   \n",
       "WRITE_0_100                               -0.004347               92.0   \n",
       "POSIX_SIZE_WRITE_0_100                    -0.004580               93.0   \n",
       "READ_1G_PLUS                              -0.009140               95.0   \n",
       "POSIX_SIZE_READ_1G_PLUS                   -0.009203               96.0   \n",
       "\n",
       "                           feature_importance_rank_bw  \\\n",
       "POSIX_ACCESS2_ACCESS                              6.0   \n",
       "POSIX_F_SLOWEST_RANK_TIME                         7.0   \n",
       "POSIX_F_MAX_WRITE_TIME                            8.0   \n",
       "POSIX_F_MAX_READ_TIME                            12.0   \n",
       "READ_100_1K                                      13.0   \n",
       "...                                               ...   \n",
       "POSIX_SIZE_READ_1M_4M                            18.0   \n",
       "WRITE_0_100                                      17.0   \n",
       "POSIX_SIZE_WRITE_0_100                           16.0   \n",
       "READ_1G_PLUS                                     10.0   \n",
       "POSIX_SIZE_READ_1G_PLUS                           9.0   \n",
       "\n",
       "                           avg_attribution_coeff_claix  relative_order_claix  \\\n",
       "POSIX_ACCESS2_ACCESS                          0.011412                   6.0   \n",
       "POSIX_F_SLOWEST_RANK_TIME                     0.012618                   5.0   \n",
       "POSIX_F_MAX_WRITE_TIME                        0.004070                  13.0   \n",
       "POSIX_F_MAX_READ_TIME                         0.006425                   7.0   \n",
       "READ_100_1K                                   0.006259                   8.0   \n",
       "...                                                ...                   ...   \n",
       "POSIX_SIZE_READ_1M_4M                        -0.002390                  88.0   \n",
       "WRITE_0_100                                  -0.003555                  93.0   \n",
       "POSIX_SIZE_WRITE_0_100                       -0.002226                  87.0   \n",
       "READ_1G_PLUS                                 -0.007429                  96.0   \n",
       "POSIX_SIZE_READ_1G_PLUS                      -0.006814                  95.0   \n",
       "\n",
       "                           feature_importance_rank_claix  \n",
       "POSIX_ACCESS2_ACCESS                                 7.0  \n",
       "POSIX_F_SLOWEST_RANK_TIME                            6.0  \n",
       "POSIX_F_MAX_WRITE_TIME                              17.0  \n",
       "POSIX_F_MAX_READ_TIME                               10.0  \n",
       "READ_100_1K                                         11.0  \n",
       "...                                                  ...  \n",
       "POSIX_SIZE_READ_1M_4M                               35.0  \n",
       "WRITE_0_100                                         19.0  \n",
       "POSIX_SIZE_WRITE_0_100                              38.0  \n",
       "READ_1G_PLUS                                         8.0  \n",
       "POSIX_SIZE_READ_1G_PLUS                              9.0  \n",
       "\n",
       "[85 rows x 6 columns]"
      ]
     },
     "execution_count": 158,
     "metadata": {},
     "output_type": "execute_result"
    }
   ],
   "source": [
    "features_importance_comparison_df.loc[features_importance_comparison_df[\"relative_order_bw\"]!=features_importance_comparison_df[\"relative_order_claix\"]]"
   ]
  },
  {
   "cell_type": "code",
   "execution_count": 159,
   "id": "0ce50e92",
   "metadata": {
    "collapsed": false,
    "pycharm": {
     "name": "#%%\n"
    }
   },
   "outputs": [
    {
     "data": {
      "text/html": [
       "<div>\n",
       "<style scoped>\n",
       "    .dataframe tbody tr th:only-of-type {\n",
       "        vertical-align: middle;\n",
       "    }\n",
       "\n",
       "    .dataframe tbody tr th {\n",
       "        vertical-align: top;\n",
       "    }\n",
       "\n",
       "    .dataframe thead th {\n",
       "        text-align: right;\n",
       "    }\n",
       "</style>\n",
       "<table border=\"1\" class=\"dataframe\">\n",
       "  <thead>\n",
       "    <tr style=\"text-align: right;\">\n",
       "      <th></th>\n",
       "      <th>avg_attribution_coeff_bw</th>\n",
       "      <th>relative_order_bw</th>\n",
       "      <th>feature_importance_rank_bw</th>\n",
       "      <th>avg_attribution_coeff_claix</th>\n",
       "      <th>relative_order_claix</th>\n",
       "      <th>feature_importance_rank_claix</th>\n",
       "    </tr>\n",
       "  </thead>\n",
       "  <tbody>\n",
       "    <tr>\n",
       "      <th>POSIX_ACCESS2_ACCESS</th>\n",
       "      <td>0.010361</td>\n",
       "      <td>5.0</td>\n",
       "      <td>6.0</td>\n",
       "      <td>0.011412</td>\n",
       "      <td>6.0</td>\n",
       "      <td>7.0</td>\n",
       "    </tr>\n",
       "    <tr>\n",
       "      <th>POSIX_F_SLOWEST_RANK_TIME</th>\n",
       "      <td>0.010032</td>\n",
       "      <td>6.0</td>\n",
       "      <td>7.0</td>\n",
       "      <td>0.012618</td>\n",
       "      <td>5.0</td>\n",
       "      <td>6.0</td>\n",
       "    </tr>\n",
       "    <tr>\n",
       "      <th>POSIX_F_MAX_WRITE_TIME</th>\n",
       "      <td>0.009443</td>\n",
       "      <td>7.0</td>\n",
       "      <td>8.0</td>\n",
       "      <td>0.004070</td>\n",
       "      <td>13.0</td>\n",
       "      <td>17.0</td>\n",
       "    </tr>\n",
       "    <tr>\n",
       "      <th>POSIX_F_MAX_READ_TIME</th>\n",
       "      <td>0.007053</td>\n",
       "      <td>8.0</td>\n",
       "      <td>12.0</td>\n",
       "      <td>0.006425</td>\n",
       "      <td>7.0</td>\n",
       "      <td>10.0</td>\n",
       "    </tr>\n",
       "    <tr>\n",
       "      <th>READ_100_1K</th>\n",
       "      <td>0.005458</td>\n",
       "      <td>9.0</td>\n",
       "      <td>13.0</td>\n",
       "      <td>0.006259</td>\n",
       "      <td>8.0</td>\n",
       "      <td>11.0</td>\n",
       "    </tr>\n",
       "    <tr>\n",
       "      <th>...</th>\n",
       "      <td>...</td>\n",
       "      <td>...</td>\n",
       "      <td>...</td>\n",
       "      <td>...</td>\n",
       "      <td>...</td>\n",
       "      <td>...</td>\n",
       "    </tr>\n",
       "    <tr>\n",
       "      <th>POSIX_SIZE_READ_1M_4M</th>\n",
       "      <td>-0.003905</td>\n",
       "      <td>91.0</td>\n",
       "      <td>18.0</td>\n",
       "      <td>-0.002390</td>\n",
       "      <td>88.0</td>\n",
       "      <td>35.0</td>\n",
       "    </tr>\n",
       "    <tr>\n",
       "      <th>WRITE_0_100</th>\n",
       "      <td>-0.004347</td>\n",
       "      <td>92.0</td>\n",
       "      <td>17.0</td>\n",
       "      <td>-0.003555</td>\n",
       "      <td>93.0</td>\n",
       "      <td>19.0</td>\n",
       "    </tr>\n",
       "    <tr>\n",
       "      <th>POSIX_SIZE_WRITE_0_100</th>\n",
       "      <td>-0.004580</td>\n",
       "      <td>93.0</td>\n",
       "      <td>16.0</td>\n",
       "      <td>-0.002226</td>\n",
       "      <td>87.0</td>\n",
       "      <td>38.0</td>\n",
       "    </tr>\n",
       "    <tr>\n",
       "      <th>POSIX_MEM_NOT_ALIGNED</th>\n",
       "      <td>-0.008242</td>\n",
       "      <td>94.0</td>\n",
       "      <td>11.0</td>\n",
       "      <td>-0.005309</td>\n",
       "      <td>94.0</td>\n",
       "      <td>13.0</td>\n",
       "    </tr>\n",
       "    <tr>\n",
       "      <th>READ_1G_PLUS</th>\n",
       "      <td>-0.009140</td>\n",
       "      <td>95.0</td>\n",
       "      <td>10.0</td>\n",
       "      <td>-0.007429</td>\n",
       "      <td>96.0</td>\n",
       "      <td>8.0</td>\n",
       "    </tr>\n",
       "  </tbody>\n",
       "</table>\n",
       "<p>87 rows × 6 columns</p>\n",
       "</div>"
      ],
      "text/plain": [
       "                           avg_attribution_coeff_bw  relative_order_bw  \\\n",
       "POSIX_ACCESS2_ACCESS                       0.010361                5.0   \n",
       "POSIX_F_SLOWEST_RANK_TIME                  0.010032                6.0   \n",
       "POSIX_F_MAX_WRITE_TIME                     0.009443                7.0   \n",
       "POSIX_F_MAX_READ_TIME                      0.007053                8.0   \n",
       "READ_100_1K                                0.005458                9.0   \n",
       "...                                             ...                ...   \n",
       "POSIX_SIZE_READ_1M_4M                     -0.003905               91.0   \n",
       "WRITE_0_100                               -0.004347               92.0   \n",
       "POSIX_SIZE_WRITE_0_100                    -0.004580               93.0   \n",
       "POSIX_MEM_NOT_ALIGNED                     -0.008242               94.0   \n",
       "READ_1G_PLUS                              -0.009140               95.0   \n",
       "\n",
       "                           feature_importance_rank_bw  \\\n",
       "POSIX_ACCESS2_ACCESS                              6.0   \n",
       "POSIX_F_SLOWEST_RANK_TIME                         7.0   \n",
       "POSIX_F_MAX_WRITE_TIME                            8.0   \n",
       "POSIX_F_MAX_READ_TIME                            12.0   \n",
       "READ_100_1K                                      13.0   \n",
       "...                                               ...   \n",
       "POSIX_SIZE_READ_1M_4M                            18.0   \n",
       "WRITE_0_100                                      17.0   \n",
       "POSIX_SIZE_WRITE_0_100                           16.0   \n",
       "POSIX_MEM_NOT_ALIGNED                            11.0   \n",
       "READ_1G_PLUS                                     10.0   \n",
       "\n",
       "                           avg_attribution_coeff_claix  relative_order_claix  \\\n",
       "POSIX_ACCESS2_ACCESS                          0.011412                   6.0   \n",
       "POSIX_F_SLOWEST_RANK_TIME                     0.012618                   5.0   \n",
       "POSIX_F_MAX_WRITE_TIME                        0.004070                  13.0   \n",
       "POSIX_F_MAX_READ_TIME                         0.006425                   7.0   \n",
       "READ_100_1K                                   0.006259                   8.0   \n",
       "...                                                ...                   ...   \n",
       "POSIX_SIZE_READ_1M_4M                        -0.002390                  88.0   \n",
       "WRITE_0_100                                  -0.003555                  93.0   \n",
       "POSIX_SIZE_WRITE_0_100                       -0.002226                  87.0   \n",
       "POSIX_MEM_NOT_ALIGNED                        -0.005309                  94.0   \n",
       "READ_1G_PLUS                                 -0.007429                  96.0   \n",
       "\n",
       "                           feature_importance_rank_claix  \n",
       "POSIX_ACCESS2_ACCESS                                 7.0  \n",
       "POSIX_F_SLOWEST_RANK_TIME                            6.0  \n",
       "POSIX_F_MAX_WRITE_TIME                              17.0  \n",
       "POSIX_F_MAX_READ_TIME                               10.0  \n",
       "READ_100_1K                                         11.0  \n",
       "...                                                  ...  \n",
       "POSIX_SIZE_READ_1M_4M                               35.0  \n",
       "WRITE_0_100                                         19.0  \n",
       "POSIX_SIZE_WRITE_0_100                              38.0  \n",
       "POSIX_MEM_NOT_ALIGNED                               13.0  \n",
       "READ_1G_PLUS                                         8.0  \n",
       "\n",
       "[87 rows x 6 columns]"
      ]
     },
     "execution_count": 159,
     "metadata": {},
     "output_type": "execute_result"
    }
   ],
   "source": [
    "features_importance_comparison_df.loc[features_importance_comparison_df[\"feature_importance_rank_bw\"]!=features_importance_comparison_df[\"feature_importance_rank_claix\"]]"
   ]
  },
  {
   "cell_type": "code",
   "execution_count": 160,
   "id": "77710dbd",
   "metadata": {
    "collapsed": false,
    "pycharm": {
     "name": "#%%\n"
    }
   },
   "outputs": [],
   "source": [
    "features_importance_comparison_df.to_csv(r\"/home/eo080593/Projects/2021-dmytro-povaliaiev/sourcecode/visualization/data/Feature_Attributions_Filtered_Nprocs_vs_Fine-tuned.csv\")"
   ]
  },
  {
   "cell_type": "code",
   "execution_count": 287,
   "id": "d9649e19",
   "metadata": {
    "collapsed": false,
    "pycharm": {
     "name": "#%%\n"
    }
   },
   "outputs": [
    {
     "data": {
      "text/html": [
       "<div>\n",
       "<style scoped>\n",
       "    .dataframe tbody tr th:only-of-type {\n",
       "        vertical-align: middle;\n",
       "    }\n",
       "\n",
       "    .dataframe tbody tr th {\n",
       "        vertical-align: top;\n",
       "    }\n",
       "\n",
       "    .dataframe thead th {\n",
       "        text-align: right;\n",
       "    }\n",
       "</style>\n",
       "<table border=\"1\" class=\"dataframe\">\n",
       "  <thead>\n",
       "    <tr style=\"text-align: right;\">\n",
       "      <th></th>\n",
       "      <th>ig</th>\n",
       "      <th>ig_noise_tunnel</th>\n",
       "      <th>deeplift</th>\n",
       "      <th>gradientshap</th>\n",
       "      <th>feature_ablation</th>\n",
       "      <th>shap_sampling</th>\n",
       "      <th>guided_backprop</th>\n",
       "      <th>feature_permutation</th>\n",
       "      <th>input_x_grad</th>\n",
       "      <th>saliency</th>\n",
       "    </tr>\n",
       "  </thead>\n",
       "  <tbody>\n",
       "    <tr>\n",
       "      <th>POSIX_F_READ_TIME</th>\n",
       "      <td>22555.235103</td>\n",
       "      <td>61291.281147</td>\n",
       "      <td>25156.373047</td>\n",
       "      <td>-708.246582</td>\n",
       "      <td>29200.218750</td>\n",
       "      <td>24147.093750</td>\n",
       "      <td>-296217.812500</td>\n",
       "      <td>326.970581</td>\n",
       "      <td>29735.417969</td>\n",
       "      <td>291629.375000</td>\n",
       "    </tr>\n",
       "    <tr>\n",
       "      <th>POSIX_TOTAL_TIME</th>\n",
       "      <td>16660.750364</td>\n",
       "      <td>86396.627293</td>\n",
       "      <td>18804.513672</td>\n",
       "      <td>-231.063446</td>\n",
       "      <td>21874.421875</td>\n",
       "      <td>17994.226562</td>\n",
       "      <td>-333323.250000</td>\n",
       "      <td>316.392670</td>\n",
       "      <td>22085.056641</td>\n",
       "      <td>333218.781250</td>\n",
       "    </tr>\n",
       "    <tr>\n",
       "      <th>POSIX_F_META_TIME</th>\n",
       "      <td>12806.998625</td>\n",
       "      <td>148915.586186</td>\n",
       "      <td>14409.471680</td>\n",
       "      <td>3.067998</td>\n",
       "      <td>18685.117188</td>\n",
       "      <td>13581.669922</td>\n",
       "      <td>-391480.093750</td>\n",
       "      <td>46.429176</td>\n",
       "      <td>18564.048828</td>\n",
       "      <td>561296.125000</td>\n",
       "    </tr>\n",
       "    <tr>\n",
       "      <th>POSIX_F_SLOWEST_RANK_TIME</th>\n",
       "      <td>4987.124063</td>\n",
       "      <td>3232.381576</td>\n",
       "      <td>5369.414062</td>\n",
       "      <td>617.464478</td>\n",
       "      <td>7213.912598</td>\n",
       "      <td>4636.626953</td>\n",
       "      <td>-34776.613281</td>\n",
       "      <td>1844.427246</td>\n",
       "      <td>7124.248535</td>\n",
       "      <td>46195.160156</td>\n",
       "    </tr>\n",
       "    <tr>\n",
       "      <th>POSIX_F_MAX_READ_TIME</th>\n",
       "      <td>3691.950321</td>\n",
       "      <td>6658.701544</td>\n",
       "      <td>3876.315674</td>\n",
       "      <td>-46.512398</td>\n",
       "      <td>4957.162598</td>\n",
       "      <td>3767.761719</td>\n",
       "      <td>-55492.292969</td>\n",
       "      <td>70.694702</td>\n",
       "      <td>4996.842773</td>\n",
       "      <td>47867.132812</td>\n",
       "    </tr>\n",
       "    <tr>\n",
       "      <th>...</th>\n",
       "      <td>...</td>\n",
       "      <td>...</td>\n",
       "      <td>...</td>\n",
       "      <td>...</td>\n",
       "      <td>...</td>\n",
       "      <td>...</td>\n",
       "      <td>...</td>\n",
       "      <td>...</td>\n",
       "      <td>...</td>\n",
       "      <td>...</td>\n",
       "    </tr>\n",
       "    <tr>\n",
       "      <th>POSIX_BYTES_WRITTEN</th>\n",
       "      <td>-2169.990030</td>\n",
       "      <td>-2383.134204</td>\n",
       "      <td>-2302.347168</td>\n",
       "      <td>15.510158</td>\n",
       "      <td>-3827.800781</td>\n",
       "      <td>-2104.962646</td>\n",
       "      <td>15386.246094</td>\n",
       "      <td>135.771759</td>\n",
       "      <td>-4375.528809</td>\n",
       "      <td>39114.734375</td>\n",
       "    </tr>\n",
       "    <tr>\n",
       "      <th>WRITE_10K_100K</th>\n",
       "      <td>-2189.946022</td>\n",
       "      <td>-3865.961135</td>\n",
       "      <td>-2164.196533</td>\n",
       "      <td>-20.773529</td>\n",
       "      <td>-4777.125488</td>\n",
       "      <td>-2761.839111</td>\n",
       "      <td>6103.601562</td>\n",
       "      <td>130.342880</td>\n",
       "      <td>-5055.902344</td>\n",
       "      <td>40884.074219</td>\n",
       "    </tr>\n",
       "    <tr>\n",
       "      <th>READ_100K_1M</th>\n",
       "      <td>-2195.874262</td>\n",
       "      <td>-4023.120175</td>\n",
       "      <td>-2255.310059</td>\n",
       "      <td>22.440395</td>\n",
       "      <td>-4341.409668</td>\n",
       "      <td>-3003.796631</td>\n",
       "      <td>-1124.387817</td>\n",
       "      <td>167.452576</td>\n",
       "      <td>-5313.726074</td>\n",
       "      <td>50255.136719</td>\n",
       "    </tr>\n",
       "    <tr>\n",
       "      <th>POSIX_MODE</th>\n",
       "      <td>-2575.584399</td>\n",
       "      <td>-2689.931016</td>\n",
       "      <td>-2768.075195</td>\n",
       "      <td>-25.652847</td>\n",
       "      <td>-3885.096680</td>\n",
       "      <td>-2185.000977</td>\n",
       "      <td>9348.550781</td>\n",
       "      <td>189.910950</td>\n",
       "      <td>-4753.264160</td>\n",
       "      <td>36103.546875</td>\n",
       "    </tr>\n",
       "    <tr>\n",
       "      <th>POSIX_MAX_READ_TIME_SIZE</th>\n",
       "      <td>-3244.473253</td>\n",
       "      <td>-2104.497131</td>\n",
       "      <td>-3410.499756</td>\n",
       "      <td>16.878796</td>\n",
       "      <td>-5886.415039</td>\n",
       "      <td>-3975.785400</td>\n",
       "      <td>21859.769531</td>\n",
       "      <td>-382.844055</td>\n",
       "      <td>-6043.435547</td>\n",
       "      <td>45709.019531</td>\n",
       "    </tr>\n",
       "  </tbody>\n",
       "</table>\n",
       "<p>97 rows × 10 columns</p>\n",
       "</div>"
      ],
      "text/plain": [
       "                                     ig  ig_noise_tunnel      deeplift  \\\n",
       "POSIX_F_READ_TIME          22555.235103     61291.281147  25156.373047   \n",
       "POSIX_TOTAL_TIME           16660.750364     86396.627293  18804.513672   \n",
       "POSIX_F_META_TIME          12806.998625    148915.586186  14409.471680   \n",
       "POSIX_F_SLOWEST_RANK_TIME   4987.124063      3232.381576   5369.414062   \n",
       "POSIX_F_MAX_READ_TIME       3691.950321      6658.701544   3876.315674   \n",
       "...                                 ...              ...           ...   \n",
       "POSIX_BYTES_WRITTEN        -2169.990030     -2383.134204  -2302.347168   \n",
       "WRITE_10K_100K             -2189.946022     -3865.961135  -2164.196533   \n",
       "READ_100K_1M               -2195.874262     -4023.120175  -2255.310059   \n",
       "POSIX_MODE                 -2575.584399     -2689.931016  -2768.075195   \n",
       "POSIX_MAX_READ_TIME_SIZE   -3244.473253     -2104.497131  -3410.499756   \n",
       "\n",
       "                           gradientshap  feature_ablation  shap_sampling  \\\n",
       "POSIX_F_READ_TIME           -708.246582      29200.218750   24147.093750   \n",
       "POSIX_TOTAL_TIME            -231.063446      21874.421875   17994.226562   \n",
       "POSIX_F_META_TIME              3.067998      18685.117188   13581.669922   \n",
       "POSIX_F_SLOWEST_RANK_TIME    617.464478       7213.912598    4636.626953   \n",
       "POSIX_F_MAX_READ_TIME        -46.512398       4957.162598    3767.761719   \n",
       "...                                 ...               ...            ...   \n",
       "POSIX_BYTES_WRITTEN           15.510158      -3827.800781   -2104.962646   \n",
       "WRITE_10K_100K               -20.773529      -4777.125488   -2761.839111   \n",
       "READ_100K_1M                  22.440395      -4341.409668   -3003.796631   \n",
       "POSIX_MODE                   -25.652847      -3885.096680   -2185.000977   \n",
       "POSIX_MAX_READ_TIME_SIZE      16.878796      -5886.415039   -3975.785400   \n",
       "\n",
       "                           guided_backprop  feature_permutation  input_x_grad  \\\n",
       "POSIX_F_READ_TIME           -296217.812500           326.970581  29735.417969   \n",
       "POSIX_TOTAL_TIME            -333323.250000           316.392670  22085.056641   \n",
       "POSIX_F_META_TIME           -391480.093750            46.429176  18564.048828   \n",
       "POSIX_F_SLOWEST_RANK_TIME    -34776.613281          1844.427246   7124.248535   \n",
       "POSIX_F_MAX_READ_TIME        -55492.292969            70.694702   4996.842773   \n",
       "...                                    ...                  ...           ...   \n",
       "POSIX_BYTES_WRITTEN           15386.246094           135.771759  -4375.528809   \n",
       "WRITE_10K_100K                 6103.601562           130.342880  -5055.902344   \n",
       "READ_100K_1M                  -1124.387817           167.452576  -5313.726074   \n",
       "POSIX_MODE                     9348.550781           189.910950  -4753.264160   \n",
       "POSIX_MAX_READ_TIME_SIZE      21859.769531          -382.844055  -6043.435547   \n",
       "\n",
       "                                saliency  \n",
       "POSIX_F_READ_TIME          291629.375000  \n",
       "POSIX_TOTAL_TIME           333218.781250  \n",
       "POSIX_F_META_TIME          561296.125000  \n",
       "POSIX_F_SLOWEST_RANK_TIME   46195.160156  \n",
       "POSIX_F_MAX_READ_TIME       47867.132812  \n",
       "...                                  ...  \n",
       "POSIX_BYTES_WRITTEN         39114.734375  \n",
       "WRITE_10K_100K              40884.074219  \n",
       "READ_100K_1M                50255.136719  \n",
       "POSIX_MODE                  36103.546875  \n",
       "POSIX_MAX_READ_TIME_SIZE    45709.019531  \n",
       "\n",
       "[97 rows x 10 columns]"
      ]
     },
     "execution_count": 287,
     "metadata": {},
     "output_type": "execute_result"
    }
   ],
   "source": [
    "aggregated_feature_attributions_avg = pd.concat([avg_attributions_bw_df, ig_nt_avg_attr_bw, dl_attr_avg_bw, gs_attr_avg, fa_attr_avg, shap_sampling_attr_avg, guided_back_prop_attr_avg, fp_attr_avg, input_x_grad_attr_avg, sal_avg_attr], axis=1, join=\"inner\")\n",
    "aggregated_feature_attributions_avg.columns = [\"ig\", \"ig_noise_tunnel\", \"deeplift\", \"gradientshap\", \"feature_ablation\", \"shap_sampling\", \"guided_backprop\", \"feature_permutation\", \"input_x_grad\", \"saliency\"]\n",
    "aggregated_feature_attributions_avg"
   ]
  },
  {
   "cell_type": "code",
   "execution_count": 288,
   "id": "b2b425c5",
   "metadata": {
    "collapsed": false,
    "pycharm": {
     "name": "#%%\n"
    }
   },
   "outputs": [
    {
     "data": {
      "text/html": [
       "<div>\n",
       "<style scoped>\n",
       "    .dataframe tbody tr th:only-of-type {\n",
       "        vertical-align: middle;\n",
       "    }\n",
       "\n",
       "    .dataframe tbody tr th {\n",
       "        vertical-align: top;\n",
       "    }\n",
       "\n",
       "    .dataframe thead th {\n",
       "        text-align: right;\n",
       "    }\n",
       "</style>\n",
       "<table border=\"1\" class=\"dataframe\">\n",
       "  <thead>\n",
       "    <tr style=\"text-align: right;\">\n",
       "      <th></th>\n",
       "      <th>avg_attribution_coeff</th>\n",
       "    </tr>\n",
       "  </thead>\n",
       "  <tbody>\n",
       "    <tr>\n",
       "      <th>POSIX_F_READ_TIME</th>\n",
       "      <td>18711.590626</td>\n",
       "    </tr>\n",
       "    <tr>\n",
       "      <th>POSIX_TOTAL_TIME</th>\n",
       "      <td>18379.645688</td>\n",
       "    </tr>\n",
       "    <tr>\n",
       "      <th>POSIX_F_META_TIME</th>\n",
       "      <td>39682.842085</td>\n",
       "    </tr>\n",
       "    <tr>\n",
       "      <th>POSIX_F_SLOWEST_RANK_TIME</th>\n",
       "      <td>4644.414639</td>\n",
       "    </tr>\n",
       "    <tr>\n",
       "      <th>POSIX_F_MAX_READ_TIME</th>\n",
       "      <td>2034.775678</td>\n",
       "    </tr>\n",
       "    <tr>\n",
       "      <th>...</th>\n",
       "      <td>...</td>\n",
       "    </tr>\n",
       "    <tr>\n",
       "      <th>POSIX_BYTES_WRITTEN</th>\n",
       "      <td>3748.849875</td>\n",
       "    </tr>\n",
       "    <tr>\n",
       "      <th>WRITE_10K_100K</th>\n",
       "      <td>2628.227450</td>\n",
       "    </tr>\n",
       "    <tr>\n",
       "      <th>READ_100K_1M</th>\n",
       "      <td>2818.740500</td>\n",
       "    </tr>\n",
       "    <tr>\n",
       "      <th>POSIX_MODE</th>\n",
       "      <td>2675.940333</td>\n",
       "    </tr>\n",
       "    <tr>\n",
       "      <th>POSIX_MAX_READ_TIME_SIZE</th>\n",
       "      <td>4253.771768</td>\n",
       "    </tr>\n",
       "  </tbody>\n",
       "</table>\n",
       "<p>97 rows × 1 columns</p>\n",
       "</div>"
      ],
      "text/plain": [
       "                           avg_attribution_coeff\n",
       "POSIX_F_READ_TIME                   18711.590626\n",
       "POSIX_TOTAL_TIME                    18379.645688\n",
       "POSIX_F_META_TIME                   39682.842085\n",
       "POSIX_F_SLOWEST_RANK_TIME            4644.414639\n",
       "POSIX_F_MAX_READ_TIME                2034.775678\n",
       "...                                          ...\n",
       "POSIX_BYTES_WRITTEN                  3748.849875\n",
       "WRITE_10K_100K                       2628.227450\n",
       "READ_100K_1M                         2818.740500\n",
       "POSIX_MODE                           2675.940333\n",
       "POSIX_MAX_READ_TIME_SIZE             4253.771768\n",
       "\n",
       "[97 rows x 1 columns]"
      ]
     },
     "execution_count": 288,
     "metadata": {},
     "output_type": "execute_result"
    }
   ],
   "source": [
    "aggregated_feature_attributions_avg.mean(axis=1).to_frame(\"avg_attribution_coeff\")"
   ]
  },
  {
   "cell_type": "code",
   "execution_count": 289,
   "id": "dfac2f42",
   "metadata": {
    "collapsed": false,
    "pycharm": {
     "name": "#%%\n"
    }
   },
   "outputs": [
    {
     "data": {
      "text/html": [
       "<div>\n",
       "<style scoped>\n",
       "    .dataframe tbody tr th:only-of-type {\n",
       "        vertical-align: middle;\n",
       "    }\n",
       "\n",
       "    .dataframe tbody tr th {\n",
       "        vertical-align: top;\n",
       "    }\n",
       "\n",
       "    .dataframe thead th {\n",
       "        text-align: right;\n",
       "    }\n",
       "</style>\n",
       "<table border=\"1\" class=\"dataframe\">\n",
       "  <thead>\n",
       "    <tr style=\"text-align: right;\">\n",
       "      <th></th>\n",
       "      <th>avg_attribution_coeff</th>\n",
       "      <th>relative_order</th>\n",
       "      <th>feature_importance_rank</th>\n",
       "    </tr>\n",
       "  </thead>\n",
       "  <tbody>\n",
       "    <tr>\n",
       "      <th>POSIX_F_META_TIME</th>\n",
       "      <td>39682.842085</td>\n",
       "      <td>1.0</td>\n",
       "      <td>1.0</td>\n",
       "    </tr>\n",
       "    <tr>\n",
       "      <th>POSIX_F_READ_TIME</th>\n",
       "      <td>18711.590626</td>\n",
       "      <td>2.0</td>\n",
       "      <td>2.0</td>\n",
       "    </tr>\n",
       "    <tr>\n",
       "      <th>POSIX_TOTAL_TIME</th>\n",
       "      <td>18379.645688</td>\n",
       "      <td>3.0</td>\n",
       "      <td>3.0</td>\n",
       "    </tr>\n",
       "    <tr>\n",
       "      <th>POSIX_MAX_WRITE_TIME_SIZE</th>\n",
       "      <td>8744.312691</td>\n",
       "      <td>4.0</td>\n",
       "      <td>4.0</td>\n",
       "    </tr>\n",
       "    <tr>\n",
       "      <th>POSIX_ACCESS2_ACCESS</th>\n",
       "      <td>6479.626682</td>\n",
       "      <td>5.0</td>\n",
       "      <td>5.0</td>\n",
       "    </tr>\n",
       "    <tr>\n",
       "      <th>...</th>\n",
       "      <td>...</td>\n",
       "      <td>...</td>\n",
       "      <td>...</td>\n",
       "    </tr>\n",
       "    <tr>\n",
       "      <th>READ_1K_10K</th>\n",
       "      <td>-578.440659</td>\n",
       "      <td>93.0</td>\n",
       "      <td>63.0</td>\n",
       "    </tr>\n",
       "    <tr>\n",
       "      <th>POSIX_SIZE_READ_1K_10K</th>\n",
       "      <td>-615.256061</td>\n",
       "      <td>94.0</td>\n",
       "      <td>62.0</td>\n",
       "    </tr>\n",
       "    <tr>\n",
       "      <th>POSIX_SLOWEST_RANK</th>\n",
       "      <td>-970.510207</td>\n",
       "      <td>95.0</td>\n",
       "      <td>43.0</td>\n",
       "    </tr>\n",
       "    <tr>\n",
       "      <th>rank</th>\n",
       "      <td>-1369.661555</td>\n",
       "      <td>96.0</td>\n",
       "      <td>31.0</td>\n",
       "    </tr>\n",
       "    <tr>\n",
       "      <th>nprocs</th>\n",
       "      <td>-1459.844966</td>\n",
       "      <td>97.0</td>\n",
       "      <td>29.0</td>\n",
       "    </tr>\n",
       "  </tbody>\n",
       "</table>\n",
       "<p>97 rows × 3 columns</p>\n",
       "</div>"
      ],
      "text/plain": [
       "                           avg_attribution_coeff  relative_order  \\\n",
       "POSIX_F_META_TIME                   39682.842085             1.0   \n",
       "POSIX_F_READ_TIME                   18711.590626             2.0   \n",
       "POSIX_TOTAL_TIME                    18379.645688             3.0   \n",
       "POSIX_MAX_WRITE_TIME_SIZE            8744.312691             4.0   \n",
       "POSIX_ACCESS2_ACCESS                 6479.626682             5.0   \n",
       "...                                          ...             ...   \n",
       "READ_1K_10K                          -578.440659            93.0   \n",
       "POSIX_SIZE_READ_1K_10K               -615.256061            94.0   \n",
       "POSIX_SLOWEST_RANK                   -970.510207            95.0   \n",
       "rank                                -1369.661555            96.0   \n",
       "nprocs                              -1459.844966            97.0   \n",
       "\n",
       "                           feature_importance_rank  \n",
       "POSIX_F_META_TIME                              1.0  \n",
       "POSIX_F_READ_TIME                              2.0  \n",
       "POSIX_TOTAL_TIME                               3.0  \n",
       "POSIX_MAX_WRITE_TIME_SIZE                      4.0  \n",
       "POSIX_ACCESS2_ACCESS                           5.0  \n",
       "...                                            ...  \n",
       "READ_1K_10K                                   63.0  \n",
       "POSIX_SIZE_READ_1K_10K                        62.0  \n",
       "POSIX_SLOWEST_RANK                            43.0  \n",
       "rank                                          31.0  \n",
       "nprocs                                        29.0  \n",
       "\n",
       "[97 rows x 3 columns]"
      ]
     },
     "execution_count": 289,
     "metadata": {},
     "output_type": "execute_result"
    }
   ],
   "source": [
    "aggregated_feature_attributions_avg = rank_features_by_importance(add_relative_order_of_features(aggregated_feature_attributions_avg.mean(axis=1).to_frame(\"avg_attribution_coeff\")))\n",
    "aggregated_feature_attributions_avg"
   ]
  }
 ],
 "metadata": {
  "kernelspec": {
   "display_name": "Python 3.9.12 ('pytorch-1.11-cpu': conda)",
   "language": "python",
   "name": "python3"
  },
  "language_info": {
   "codemirror_mode": {
    "name": "ipython",
    "version": 3
   },
   "file_extension": ".py",
   "mimetype": "text/x-python",
   "name": "python",
   "nbconvert_exporter": "python",
   "pygments_lexer": "ipython3",
   "version": "3.9.12"
  },
  "vscode": {
   "interpreter": {
    "hash": "811b443dd8d422ffa9941c612fbf9ea011d398d2eeb82bbb146d54a584e27f79"
   }
  }
 },
 "nbformat": 4,
 "nbformat_minor": 5
}
